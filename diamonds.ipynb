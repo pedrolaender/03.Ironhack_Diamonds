{
 "cells": [
  {
   "cell_type": "markdown",
   "metadata": {},
   "source": [
    "# Import Libraries"
   ]
  },
  {
   "cell_type": "code",
   "execution_count": 8,
   "metadata": {},
   "outputs": [],
   "source": [
    "import pandas as pd\n",
    "import numpy as np\n",
    "import matplotlib.pyplot as plt\n",
    "import seaborn as sns\n",
    "from sklearn.linear_model import LinearRegression\n",
    "from sklearn.metrics import mean_squared_error\n",
    "from sklearn.preprocessing import StandardScaler\n",
    "from sklearn.metrics import r2_score"
   ]
  },
  {
   "cell_type": "markdown",
   "metadata": {},
   "source": [
    "# Create DataFrames"
   ]
  },
  {
   "cell_type": "code",
   "execution_count": 9,
   "metadata": {},
   "outputs": [
    {
     "data": {
      "text/html": [
       "<div>\n",
       "<style scoped>\n",
       "    .dataframe tbody tr th:only-of-type {\n",
       "        vertical-align: middle;\n",
       "    }\n",
       "\n",
       "    .dataframe tbody tr th {\n",
       "        vertical-align: top;\n",
       "    }\n",
       "\n",
       "    .dataframe thead th {\n",
       "        text-align: right;\n",
       "    }\n",
       "</style>\n",
       "<table border=\"1\" class=\"dataframe\">\n",
       "  <thead>\n",
       "    <tr style=\"text-align: right;\">\n",
       "      <th></th>\n",
       "      <th>carat</th>\n",
       "      <th>cut</th>\n",
       "      <th>color</th>\n",
       "      <th>clarity</th>\n",
       "      <th>depth</th>\n",
       "      <th>table</th>\n",
       "      <th>x</th>\n",
       "      <th>y</th>\n",
       "      <th>z</th>\n",
       "    </tr>\n",
       "  </thead>\n",
       "  <tbody>\n",
       "    <tr>\n",
       "      <th>0</th>\n",
       "      <td>0.91</td>\n",
       "      <td>Very Good</td>\n",
       "      <td>H</td>\n",
       "      <td>SI2</td>\n",
       "      <td>63.4</td>\n",
       "      <td>57.0</td>\n",
       "      <td>6.10</td>\n",
       "      <td>6.18</td>\n",
       "      <td>3.89</td>\n",
       "    </tr>\n",
       "    <tr>\n",
       "      <th>1</th>\n",
       "      <td>0.38</td>\n",
       "      <td>Good</td>\n",
       "      <td>F</td>\n",
       "      <td>VS2</td>\n",
       "      <td>60.3</td>\n",
       "      <td>61.0</td>\n",
       "      <td>4.68</td>\n",
       "      <td>4.71</td>\n",
       "      <td>2.83</td>\n",
       "    </tr>\n",
       "    <tr>\n",
       "      <th>2</th>\n",
       "      <td>0.52</td>\n",
       "      <td>Ideal</td>\n",
       "      <td>H</td>\n",
       "      <td>VS2</td>\n",
       "      <td>61.8</td>\n",
       "      <td>56.0</td>\n",
       "      <td>5.19</td>\n",
       "      <td>5.16</td>\n",
       "      <td>3.20</td>\n",
       "    </tr>\n",
       "    <tr>\n",
       "      <th>3</th>\n",
       "      <td>1.10</td>\n",
       "      <td>Ideal</td>\n",
       "      <td>G</td>\n",
       "      <td>VS1</td>\n",
       "      <td>61.3</td>\n",
       "      <td>56.0</td>\n",
       "      <td>6.65</td>\n",
       "      <td>6.69</td>\n",
       "      <td>4.09</td>\n",
       "    </tr>\n",
       "    <tr>\n",
       "      <th>4</th>\n",
       "      <td>2.28</td>\n",
       "      <td>Ideal</td>\n",
       "      <td>G</td>\n",
       "      <td>SI2</td>\n",
       "      <td>61.6</td>\n",
       "      <td>57.0</td>\n",
       "      <td>8.44</td>\n",
       "      <td>8.37</td>\n",
       "      <td>5.18</td>\n",
       "    </tr>\n",
       "  </tbody>\n",
       "</table>\n",
       "</div>"
      ],
      "text/plain": [
       "   carat        cut color clarity  depth  table     x     y     z\n",
       "0   0.91  Very Good     H     SI2   63.4   57.0  6.10  6.18  3.89\n",
       "1   0.38       Good     F     VS2   60.3   61.0  4.68  4.71  2.83\n",
       "2   0.52      Ideal     H     VS2   61.8   56.0  5.19  5.16  3.20\n",
       "3   1.10      Ideal     G     VS1   61.3   56.0  6.65  6.69  4.09\n",
       "4   2.28      Ideal     G     SI2   61.6   57.0  8.44  8.37  5.18"
      ]
     },
     "execution_count": 9,
     "metadata": {},
     "output_type": "execute_result"
    }
   ],
   "source": [
    "rick = pd.read_csv('data/rick_diamonds.csv')\n",
    "rick.head()"
   ]
  },
  {
   "cell_type": "code",
   "execution_count": 10,
   "metadata": {},
   "outputs": [],
   "source": [
    "# Create Rick's auxiliar DataFrame to add categorical columns transformation and be able to predict Rick's diamonds\n",
    "rick_aux = rick"
   ]
  },
  {
   "cell_type": "code",
   "execution_count": 11,
   "metadata": {},
   "outputs": [
    {
     "ename": "NameError",
     "evalue": "name 'cut_dict' is not defined",
     "output_type": "error",
     "traceback": [
      "\u001b[1;31m---------------------------------------------------------------------------\u001b[0m",
      "\u001b[1;31mNameError\u001b[0m                                 Traceback (most recent call last)",
      "\u001b[1;32mc:\\Users\\Pedro\\OneDrive\\Desktop\\Ironhack\\04. GitHub\\03.Ironhack_Diamonds\\diamonds.ipynb Cell 6\u001b[0m in \u001b[0;36m<cell line: 1>\u001b[1;34m()\u001b[0m\n\u001b[1;32m----> <a href='vscode-notebook-cell:/c%3A/Users/Pedro/OneDrive/Desktop/Ironhack/04.%20GitHub/03.Ironhack_Diamonds/diamonds.ipynb#W5sZmlsZQ%3D%3D?line=0'>1</a>\u001b[0m rick_aux[\u001b[39m'\u001b[39m\u001b[39mn_cut\u001b[39m\u001b[39m'\u001b[39m] \u001b[39m=\u001b[39m rick_aux[\u001b[39m'\u001b[39m\u001b[39mcut\u001b[39m\u001b[39m'\u001b[39m]\u001b[39m.\u001b[39mmap(cut_dict)\n\u001b[0;32m      <a href='vscode-notebook-cell:/c%3A/Users/Pedro/OneDrive/Desktop/Ironhack/04.%20GitHub/03.Ironhack_Diamonds/diamonds.ipynb#W5sZmlsZQ%3D%3D?line=1'>2</a>\u001b[0m rick_aux[\u001b[39m'\u001b[39m\u001b[39mn_color\u001b[39m\u001b[39m'\u001b[39m] \u001b[39m=\u001b[39m rick_aux[\u001b[39m'\u001b[39m\u001b[39mcolor\u001b[39m\u001b[39m'\u001b[39m]\u001b[39m.\u001b[39mmap(color_dict)\n\u001b[0;32m      <a href='vscode-notebook-cell:/c%3A/Users/Pedro/OneDrive/Desktop/Ironhack/04.%20GitHub/03.Ironhack_Diamonds/diamonds.ipynb#W5sZmlsZQ%3D%3D?line=2'>3</a>\u001b[0m rick_aux[\u001b[39m'\u001b[39m\u001b[39mn_clarity\u001b[39m\u001b[39m'\u001b[39m] \u001b[39m=\u001b[39m rick_aux[\u001b[39m'\u001b[39m\u001b[39mclarity\u001b[39m\u001b[39m'\u001b[39m]\u001b[39m.\u001b[39mmap(clarity_dict)\n",
      "\u001b[1;31mNameError\u001b[0m: name 'cut_dict' is not defined"
     ]
    }
   ],
   "source": [
    "rick_aux['n_cut'] = rick_aux['cut'].map(cut_dict)\n",
    "rick_aux['n_color'] = rick_aux['color'].map(color_dict)\n",
    "rick_aux['n_clarity'] = rick_aux['clarity'].map(clarity_dict)"
   ]
  },
  {
   "cell_type": "code",
   "execution_count": null,
   "metadata": {},
   "outputs": [
    {
     "data": {
      "text/html": [
       "<div>\n",
       "<style scoped>\n",
       "    .dataframe tbody tr th:only-of-type {\n",
       "        vertical-align: middle;\n",
       "    }\n",
       "\n",
       "    .dataframe tbody tr th {\n",
       "        vertical-align: top;\n",
       "    }\n",
       "\n",
       "    .dataframe thead th {\n",
       "        text-align: right;\n",
       "    }\n",
       "</style>\n",
       "<table border=\"1\" class=\"dataframe\">\n",
       "  <thead>\n",
       "    <tr style=\"text-align: right;\">\n",
       "      <th></th>\n",
       "      <th>carat</th>\n",
       "      <th>cut</th>\n",
       "      <th>color</th>\n",
       "      <th>clarity</th>\n",
       "      <th>depth</th>\n",
       "      <th>table</th>\n",
       "      <th>price</th>\n",
       "      <th>x</th>\n",
       "      <th>y</th>\n",
       "      <th>z</th>\n",
       "    </tr>\n",
       "  </thead>\n",
       "  <tbody>\n",
       "    <tr>\n",
       "      <th>0</th>\n",
       "      <td>0.21</td>\n",
       "      <td>Premium</td>\n",
       "      <td>E</td>\n",
       "      <td>SI1</td>\n",
       "      <td>59.8</td>\n",
       "      <td>61.0</td>\n",
       "      <td>326</td>\n",
       "      <td>3.89</td>\n",
       "      <td>3.84</td>\n",
       "      <td>2.31</td>\n",
       "    </tr>\n",
       "    <tr>\n",
       "      <th>1</th>\n",
       "      <td>0.23</td>\n",
       "      <td>Good</td>\n",
       "      <td>E</td>\n",
       "      <td>VS1</td>\n",
       "      <td>56.9</td>\n",
       "      <td>65.0</td>\n",
       "      <td>327</td>\n",
       "      <td>4.05</td>\n",
       "      <td>4.07</td>\n",
       "      <td>2.31</td>\n",
       "    </tr>\n",
       "    <tr>\n",
       "      <th>2</th>\n",
       "      <td>0.29</td>\n",
       "      <td>Premium</td>\n",
       "      <td>I</td>\n",
       "      <td>VS2</td>\n",
       "      <td>62.4</td>\n",
       "      <td>58.0</td>\n",
       "      <td>334</td>\n",
       "      <td>4.20</td>\n",
       "      <td>4.23</td>\n",
       "      <td>2.63</td>\n",
       "    </tr>\n",
       "    <tr>\n",
       "      <th>3</th>\n",
       "      <td>0.31</td>\n",
       "      <td>Good</td>\n",
       "      <td>J</td>\n",
       "      <td>SI2</td>\n",
       "      <td>63.3</td>\n",
       "      <td>58.0</td>\n",
       "      <td>335</td>\n",
       "      <td>4.34</td>\n",
       "      <td>4.35</td>\n",
       "      <td>2.75</td>\n",
       "    </tr>\n",
       "    <tr>\n",
       "      <th>4</th>\n",
       "      <td>0.24</td>\n",
       "      <td>Very Good</td>\n",
       "      <td>J</td>\n",
       "      <td>VVS2</td>\n",
       "      <td>62.8</td>\n",
       "      <td>57.0</td>\n",
       "      <td>336</td>\n",
       "      <td>3.94</td>\n",
       "      <td>3.96</td>\n",
       "      <td>2.48</td>\n",
       "    </tr>\n",
       "  </tbody>\n",
       "</table>\n",
       "</div>"
      ],
      "text/plain": [
       "   carat        cut color clarity  depth  table  price     x     y     z\n",
       "0   0.21    Premium     E     SI1   59.8   61.0    326  3.89  3.84  2.31\n",
       "1   0.23       Good     E     VS1   56.9   65.0    327  4.05  4.07  2.31\n",
       "2   0.29    Premium     I     VS2   62.4   58.0    334  4.20  4.23  2.63\n",
       "3   0.31       Good     J     SI2   63.3   58.0    335  4.34  4.35  2.75\n",
       "4   0.24  Very Good     J    VVS2   62.8   57.0    336  3.94  3.96  2.48"
      ]
     },
     "execution_count": 3,
     "metadata": {},
     "output_type": "execute_result"
    }
   ],
   "source": [
    "diamonds = pd.read_csv('data/diamonds.csv')\n",
    "diamonds.head()"
   ]
  },
  {
   "cell_type": "code",
   "execution_count": null,
   "metadata": {},
   "outputs": [
    {
     "name": "stdout",
     "output_type": "stream",
     "text": [
      "<class 'pandas.core.frame.DataFrame'>\n",
      "RangeIndex: 48940 entries, 0 to 48939\n",
      "Data columns (total 10 columns):\n",
      " #   Column   Non-Null Count  Dtype  \n",
      "---  ------   --------------  -----  \n",
      " 0   carat    48940 non-null  float64\n",
      " 1   cut      48940 non-null  object \n",
      " 2   color    48940 non-null  object \n",
      " 3   clarity  48940 non-null  object \n",
      " 4   depth    48940 non-null  float64\n",
      " 5   table    48940 non-null  float64\n",
      " 6   price    48940 non-null  int64  \n",
      " 7   x        48940 non-null  float64\n",
      " 8   y        48940 non-null  float64\n",
      " 9   z        48940 non-null  float64\n",
      "dtypes: float64(6), int64(1), object(3)\n",
      "memory usage: 3.7+ MB\n"
     ]
    }
   ],
   "source": [
    "diamonds.info()"
   ]
  },
  {
   "cell_type": "code",
   "execution_count": null,
   "metadata": {},
   "outputs": [
    {
     "data": {
      "text/html": [
       "<div>\n",
       "<style scoped>\n",
       "    .dataframe tbody tr th:only-of-type {\n",
       "        vertical-align: middle;\n",
       "    }\n",
       "\n",
       "    .dataframe tbody tr th {\n",
       "        vertical-align: top;\n",
       "    }\n",
       "\n",
       "    .dataframe thead th {\n",
       "        text-align: right;\n",
       "    }\n",
       "</style>\n",
       "<table border=\"1\" class=\"dataframe\">\n",
       "  <thead>\n",
       "    <tr style=\"text-align: right;\">\n",
       "      <th></th>\n",
       "      <th>carat</th>\n",
       "      <th>depth</th>\n",
       "      <th>table</th>\n",
       "      <th>price</th>\n",
       "      <th>x</th>\n",
       "      <th>y</th>\n",
       "      <th>z</th>\n",
       "    </tr>\n",
       "  </thead>\n",
       "  <tbody>\n",
       "    <tr>\n",
       "      <th>count</th>\n",
       "      <td>48940.000000</td>\n",
       "      <td>48940.000000</td>\n",
       "      <td>48940.000000</td>\n",
       "      <td>48940.000000</td>\n",
       "      <td>48940.000000</td>\n",
       "      <td>48940.000000</td>\n",
       "      <td>48940.000000</td>\n",
       "    </tr>\n",
       "    <tr>\n",
       "      <th>mean</th>\n",
       "      <td>0.797817</td>\n",
       "      <td>61.751931</td>\n",
       "      <td>57.451161</td>\n",
       "      <td>3934.409644</td>\n",
       "      <td>5.730712</td>\n",
       "      <td>5.734333</td>\n",
       "      <td>3.538648</td>\n",
       "    </tr>\n",
       "    <tr>\n",
       "      <th>std</th>\n",
       "      <td>0.474126</td>\n",
       "      <td>1.430026</td>\n",
       "      <td>2.233450</td>\n",
       "      <td>3989.333861</td>\n",
       "      <td>1.121920</td>\n",
       "      <td>1.145344</td>\n",
       "      <td>0.706817</td>\n",
       "    </tr>\n",
       "    <tr>\n",
       "      <th>min</th>\n",
       "      <td>0.200000</td>\n",
       "      <td>43.000000</td>\n",
       "      <td>43.000000</td>\n",
       "      <td>326.000000</td>\n",
       "      <td>0.000000</td>\n",
       "      <td>0.000000</td>\n",
       "      <td>0.000000</td>\n",
       "    </tr>\n",
       "    <tr>\n",
       "      <th>25%</th>\n",
       "      <td>0.400000</td>\n",
       "      <td>61.000000</td>\n",
       "      <td>56.000000</td>\n",
       "      <td>949.000000</td>\n",
       "      <td>4.710000</td>\n",
       "      <td>4.720000</td>\n",
       "      <td>2.910000</td>\n",
       "    </tr>\n",
       "    <tr>\n",
       "      <th>50%</th>\n",
       "      <td>0.700000</td>\n",
       "      <td>61.800000</td>\n",
       "      <td>57.000000</td>\n",
       "      <td>2401.000000</td>\n",
       "      <td>5.690000</td>\n",
       "      <td>5.710000</td>\n",
       "      <td>3.520000</td>\n",
       "    </tr>\n",
       "    <tr>\n",
       "      <th>75%</th>\n",
       "      <td>1.040000</td>\n",
       "      <td>62.500000</td>\n",
       "      <td>59.000000</td>\n",
       "      <td>5331.250000</td>\n",
       "      <td>6.540000</td>\n",
       "      <td>6.540000</td>\n",
       "      <td>4.040000</td>\n",
       "    </tr>\n",
       "    <tr>\n",
       "      <th>max</th>\n",
       "      <td>5.010000</td>\n",
       "      <td>79.000000</td>\n",
       "      <td>95.000000</td>\n",
       "      <td>18823.000000</td>\n",
       "      <td>10.740000</td>\n",
       "      <td>58.900000</td>\n",
       "      <td>31.800000</td>\n",
       "    </tr>\n",
       "  </tbody>\n",
       "</table>\n",
       "</div>"
      ],
      "text/plain": [
       "              carat         depth         table         price             x  \\\n",
       "count  48940.000000  48940.000000  48940.000000  48940.000000  48940.000000   \n",
       "mean       0.797817     61.751931     57.451161   3934.409644      5.730712   \n",
       "std        0.474126      1.430026      2.233450   3989.333861      1.121920   \n",
       "min        0.200000     43.000000     43.000000    326.000000      0.000000   \n",
       "25%        0.400000     61.000000     56.000000    949.000000      4.710000   \n",
       "50%        0.700000     61.800000     57.000000   2401.000000      5.690000   \n",
       "75%        1.040000     62.500000     59.000000   5331.250000      6.540000   \n",
       "max        5.010000     79.000000     95.000000  18823.000000     10.740000   \n",
       "\n",
       "                  y             z  \n",
       "count  48940.000000  48940.000000  \n",
       "mean       5.734333      3.538648  \n",
       "std        1.145344      0.706817  \n",
       "min        0.000000      0.000000  \n",
       "25%        4.720000      2.910000  \n",
       "50%        5.710000      3.520000  \n",
       "75%        6.540000      4.040000  \n",
       "max       58.900000     31.800000  "
      ]
     },
     "execution_count": 5,
     "metadata": {},
     "output_type": "execute_result"
    }
   ],
   "source": [
    "diamonds.describe()"
   ]
  },
  {
   "cell_type": "code",
   "execution_count": null,
   "metadata": {},
   "outputs": [],
   "source": [
    "diamonds.shape"
   ]
  },
  {
   "cell_type": "markdown",
   "metadata": {},
   "source": [
    "# Cleaning the Data"
   ]
  },
  {
   "cell_type": "markdown",
   "metadata": {},
   "source": [
    "### Transform Categorical into Numeric"
   ]
  },
  {
   "cell_type": "code",
   "execution_count": 12,
   "metadata": {},
   "outputs": [
    {
     "data": {
      "text/plain": [
       "array(['Premium', 'Good', 'Very Good', 'Ideal', 'Fair'], dtype=object)"
      ]
     },
     "execution_count": 12,
     "metadata": {},
     "output_type": "execute_result"
    }
   ],
   "source": [
    "diamonds['clarity'].value_counts()\n",
    "diamonds['color'].unique()\n",
    "diamonds['cut'].unique()"
   ]
  },
  {
   "cell_type": "code",
   "execution_count": 13,
   "metadata": {},
   "outputs": [],
   "source": [
    "clarity_dict = {'I1':0,'SI2':1,'SI1':2,'VS2':3,'VS1':4,'VVS2':5,'VVS1':6,'IF':7}\n",
    "color_dict = {'J':0,'I':1,'H':2,'G':3,'F':4,'E':5,'D':6}\n",
    "cut_dict = {'Fair':0,'Good':1,'Very Good':2,'Premium':3,'Ideal':4}"
   ]
  },
  {
   "cell_type": "code",
   "execution_count": 14,
   "metadata": {},
   "outputs": [],
   "source": [
    "diamonds['n_cut'] = diamonds['cut'].map(cut_dict)\n",
    "diamonds['n_color'] = diamonds['color'].map(color_dict)\n",
    "diamonds['n_clarity'] = diamonds['clarity'].map(clarity_dict)"
   ]
  },
  {
   "cell_type": "code",
   "execution_count": 15,
   "metadata": {},
   "outputs": [
    {
     "data": {
      "text/html": [
       "<div>\n",
       "<style scoped>\n",
       "    .dataframe tbody tr th:only-of-type {\n",
       "        vertical-align: middle;\n",
       "    }\n",
       "\n",
       "    .dataframe tbody tr th {\n",
       "        vertical-align: top;\n",
       "    }\n",
       "\n",
       "    .dataframe thead th {\n",
       "        text-align: right;\n",
       "    }\n",
       "</style>\n",
       "<table border=\"1\" class=\"dataframe\">\n",
       "  <thead>\n",
       "    <tr style=\"text-align: right;\">\n",
       "      <th></th>\n",
       "      <th>carat</th>\n",
       "      <th>cut</th>\n",
       "      <th>color</th>\n",
       "      <th>clarity</th>\n",
       "      <th>depth</th>\n",
       "      <th>table</th>\n",
       "      <th>price</th>\n",
       "      <th>x</th>\n",
       "      <th>y</th>\n",
       "      <th>z</th>\n",
       "      <th>n_cut</th>\n",
       "      <th>n_color</th>\n",
       "      <th>n_clarity</th>\n",
       "    </tr>\n",
       "  </thead>\n",
       "  <tbody>\n",
       "    <tr>\n",
       "      <th>0</th>\n",
       "      <td>0.21</td>\n",
       "      <td>Premium</td>\n",
       "      <td>E</td>\n",
       "      <td>SI1</td>\n",
       "      <td>59.8</td>\n",
       "      <td>61.0</td>\n",
       "      <td>326</td>\n",
       "      <td>3.89</td>\n",
       "      <td>3.84</td>\n",
       "      <td>2.31</td>\n",
       "      <td>3</td>\n",
       "      <td>5</td>\n",
       "      <td>2</td>\n",
       "    </tr>\n",
       "    <tr>\n",
       "      <th>1</th>\n",
       "      <td>0.23</td>\n",
       "      <td>Good</td>\n",
       "      <td>E</td>\n",
       "      <td>VS1</td>\n",
       "      <td>56.9</td>\n",
       "      <td>65.0</td>\n",
       "      <td>327</td>\n",
       "      <td>4.05</td>\n",
       "      <td>4.07</td>\n",
       "      <td>2.31</td>\n",
       "      <td>1</td>\n",
       "      <td>5</td>\n",
       "      <td>4</td>\n",
       "    </tr>\n",
       "    <tr>\n",
       "      <th>2</th>\n",
       "      <td>0.29</td>\n",
       "      <td>Premium</td>\n",
       "      <td>I</td>\n",
       "      <td>VS2</td>\n",
       "      <td>62.4</td>\n",
       "      <td>58.0</td>\n",
       "      <td>334</td>\n",
       "      <td>4.20</td>\n",
       "      <td>4.23</td>\n",
       "      <td>2.63</td>\n",
       "      <td>3</td>\n",
       "      <td>1</td>\n",
       "      <td>3</td>\n",
       "    </tr>\n",
       "    <tr>\n",
       "      <th>3</th>\n",
       "      <td>0.31</td>\n",
       "      <td>Good</td>\n",
       "      <td>J</td>\n",
       "      <td>SI2</td>\n",
       "      <td>63.3</td>\n",
       "      <td>58.0</td>\n",
       "      <td>335</td>\n",
       "      <td>4.34</td>\n",
       "      <td>4.35</td>\n",
       "      <td>2.75</td>\n",
       "      <td>1</td>\n",
       "      <td>0</td>\n",
       "      <td>1</td>\n",
       "    </tr>\n",
       "    <tr>\n",
       "      <th>4</th>\n",
       "      <td>0.24</td>\n",
       "      <td>Very Good</td>\n",
       "      <td>J</td>\n",
       "      <td>VVS2</td>\n",
       "      <td>62.8</td>\n",
       "      <td>57.0</td>\n",
       "      <td>336</td>\n",
       "      <td>3.94</td>\n",
       "      <td>3.96</td>\n",
       "      <td>2.48</td>\n",
       "      <td>2</td>\n",
       "      <td>0</td>\n",
       "      <td>5</td>\n",
       "    </tr>\n",
       "  </tbody>\n",
       "</table>\n",
       "</div>"
      ],
      "text/plain": [
       "   carat        cut color clarity  depth  table  price     x     y     z  \\\n",
       "0   0.21    Premium     E     SI1   59.8   61.0    326  3.89  3.84  2.31   \n",
       "1   0.23       Good     E     VS1   56.9   65.0    327  4.05  4.07  2.31   \n",
       "2   0.29    Premium     I     VS2   62.4   58.0    334  4.20  4.23  2.63   \n",
       "3   0.31       Good     J     SI2   63.3   58.0    335  4.34  4.35  2.75   \n",
       "4   0.24  Very Good     J    VVS2   62.8   57.0    336  3.94  3.96  2.48   \n",
       "\n",
       "   n_cut  n_color  n_clarity  \n",
       "0      3        5          2  \n",
       "1      1        5          4  \n",
       "2      3        1          3  \n",
       "3      1        0          1  \n",
       "4      2        0          5  "
      ]
     },
     "execution_count": 15,
     "metadata": {},
     "output_type": "execute_result"
    }
   ],
   "source": [
    "diamonds.head()"
   ]
  },
  {
   "cell_type": "code",
   "execution_count": 16,
   "metadata": {},
   "outputs": [
    {
     "data": {
      "text/html": [
       "<div>\n",
       "<style scoped>\n",
       "    .dataframe tbody tr th:only-of-type {\n",
       "        vertical-align: middle;\n",
       "    }\n",
       "\n",
       "    .dataframe tbody tr th {\n",
       "        vertical-align: top;\n",
       "    }\n",
       "\n",
       "    .dataframe thead th {\n",
       "        text-align: right;\n",
       "    }\n",
       "</style>\n",
       "<table border=\"1\" class=\"dataframe\">\n",
       "  <thead>\n",
       "    <tr style=\"text-align: right;\">\n",
       "      <th></th>\n",
       "      <th>carat</th>\n",
       "      <th>depth</th>\n",
       "      <th>table</th>\n",
       "      <th>price</th>\n",
       "      <th>x</th>\n",
       "      <th>y</th>\n",
       "      <th>z</th>\n",
       "      <th>n_cut</th>\n",
       "      <th>n_color</th>\n",
       "      <th>n_clarity</th>\n",
       "    </tr>\n",
       "  </thead>\n",
       "  <tbody>\n",
       "    <tr>\n",
       "      <th>count</th>\n",
       "      <td>48940.000000</td>\n",
       "      <td>48940.000000</td>\n",
       "      <td>48940.000000</td>\n",
       "      <td>48940.000000</td>\n",
       "      <td>48940.000000</td>\n",
       "      <td>48940.000000</td>\n",
       "      <td>48940.000000</td>\n",
       "      <td>48940.000000</td>\n",
       "      <td>48940.000000</td>\n",
       "      <td>48940.000000</td>\n",
       "    </tr>\n",
       "    <tr>\n",
       "      <th>mean</th>\n",
       "      <td>0.797817</td>\n",
       "      <td>61.751931</td>\n",
       "      <td>57.451161</td>\n",
       "      <td>3934.409644</td>\n",
       "      <td>5.730712</td>\n",
       "      <td>5.734333</td>\n",
       "      <td>3.538648</td>\n",
       "      <td>2.906416</td>\n",
       "      <td>3.407254</td>\n",
       "      <td>3.055456</td>\n",
       "    </tr>\n",
       "    <tr>\n",
       "      <th>std</th>\n",
       "      <td>0.474126</td>\n",
       "      <td>1.430026</td>\n",
       "      <td>2.233450</td>\n",
       "      <td>3989.333861</td>\n",
       "      <td>1.121920</td>\n",
       "      <td>1.145344</td>\n",
       "      <td>0.706817</td>\n",
       "      <td>1.116568</td>\n",
       "      <td>1.699858</td>\n",
       "      <td>1.645542</td>\n",
       "    </tr>\n",
       "    <tr>\n",
       "      <th>min</th>\n",
       "      <td>0.200000</td>\n",
       "      <td>43.000000</td>\n",
       "      <td>43.000000</td>\n",
       "      <td>326.000000</td>\n",
       "      <td>0.000000</td>\n",
       "      <td>0.000000</td>\n",
       "      <td>0.000000</td>\n",
       "      <td>0.000000</td>\n",
       "      <td>0.000000</td>\n",
       "      <td>0.000000</td>\n",
       "    </tr>\n",
       "    <tr>\n",
       "      <th>25%</th>\n",
       "      <td>0.400000</td>\n",
       "      <td>61.000000</td>\n",
       "      <td>56.000000</td>\n",
       "      <td>949.000000</td>\n",
       "      <td>4.710000</td>\n",
       "      <td>4.720000</td>\n",
       "      <td>2.910000</td>\n",
       "      <td>2.000000</td>\n",
       "      <td>2.000000</td>\n",
       "      <td>2.000000</td>\n",
       "    </tr>\n",
       "    <tr>\n",
       "      <th>50%</th>\n",
       "      <td>0.700000</td>\n",
       "      <td>61.800000</td>\n",
       "      <td>57.000000</td>\n",
       "      <td>2401.000000</td>\n",
       "      <td>5.690000</td>\n",
       "      <td>5.710000</td>\n",
       "      <td>3.520000</td>\n",
       "      <td>3.000000</td>\n",
       "      <td>3.000000</td>\n",
       "      <td>3.000000</td>\n",
       "    </tr>\n",
       "    <tr>\n",
       "      <th>75%</th>\n",
       "      <td>1.040000</td>\n",
       "      <td>62.500000</td>\n",
       "      <td>59.000000</td>\n",
       "      <td>5331.250000</td>\n",
       "      <td>6.540000</td>\n",
       "      <td>6.540000</td>\n",
       "      <td>4.040000</td>\n",
       "      <td>4.000000</td>\n",
       "      <td>5.000000</td>\n",
       "      <td>4.000000</td>\n",
       "    </tr>\n",
       "    <tr>\n",
       "      <th>max</th>\n",
       "      <td>5.010000</td>\n",
       "      <td>79.000000</td>\n",
       "      <td>95.000000</td>\n",
       "      <td>18823.000000</td>\n",
       "      <td>10.740000</td>\n",
       "      <td>58.900000</td>\n",
       "      <td>31.800000</td>\n",
       "      <td>4.000000</td>\n",
       "      <td>6.000000</td>\n",
       "      <td>7.000000</td>\n",
       "    </tr>\n",
       "  </tbody>\n",
       "</table>\n",
       "</div>"
      ],
      "text/plain": [
       "              carat         depth         table         price             x  \\\n",
       "count  48940.000000  48940.000000  48940.000000  48940.000000  48940.000000   \n",
       "mean       0.797817     61.751931     57.451161   3934.409644      5.730712   \n",
       "std        0.474126      1.430026      2.233450   3989.333861      1.121920   \n",
       "min        0.200000     43.000000     43.000000    326.000000      0.000000   \n",
       "25%        0.400000     61.000000     56.000000    949.000000      4.710000   \n",
       "50%        0.700000     61.800000     57.000000   2401.000000      5.690000   \n",
       "75%        1.040000     62.500000     59.000000   5331.250000      6.540000   \n",
       "max        5.010000     79.000000     95.000000  18823.000000     10.740000   \n",
       "\n",
       "                  y             z         n_cut       n_color     n_clarity  \n",
       "count  48940.000000  48940.000000  48940.000000  48940.000000  48940.000000  \n",
       "mean       5.734333      3.538648      2.906416      3.407254      3.055456  \n",
       "std        1.145344      0.706817      1.116568      1.699858      1.645542  \n",
       "min        0.000000      0.000000      0.000000      0.000000      0.000000  \n",
       "25%        4.720000      2.910000      2.000000      2.000000      2.000000  \n",
       "50%        5.710000      3.520000      3.000000      3.000000      3.000000  \n",
       "75%        6.540000      4.040000      4.000000      5.000000      4.000000  \n",
       "max       58.900000     31.800000      4.000000      6.000000      7.000000  "
      ]
     },
     "execution_count": 16,
     "metadata": {},
     "output_type": "execute_result"
    }
   ],
   "source": [
    "diamonds.describe()"
   ]
  },
  {
   "cell_type": "code",
   "execution_count": 17,
   "metadata": {},
   "outputs": [
    {
     "name": "stdout",
     "output_type": "stream",
     "text": [
      "<class 'pandas.core.frame.DataFrame'>\n",
      "RangeIndex: 48940 entries, 0 to 48939\n",
      "Data columns (total 13 columns):\n",
      " #   Column     Non-Null Count  Dtype  \n",
      "---  ------     --------------  -----  \n",
      " 0   carat      48940 non-null  float64\n",
      " 1   cut        48940 non-null  object \n",
      " 2   color      48940 non-null  object \n",
      " 3   clarity    48940 non-null  object \n",
      " 4   depth      48940 non-null  float64\n",
      " 5   table      48940 non-null  float64\n",
      " 6   price      48940 non-null  int64  \n",
      " 7   x          48940 non-null  float64\n",
      " 8   y          48940 non-null  float64\n",
      " 9   z          48940 non-null  float64\n",
      " 10  n_cut      48940 non-null  int64  \n",
      " 11  n_color    48940 non-null  int64  \n",
      " 12  n_clarity  48940 non-null  int64  \n",
      "dtypes: float64(6), int64(4), object(3)\n",
      "memory usage: 4.9+ MB\n"
     ]
    }
   ],
   "source": [
    "diamonds.info()"
   ]
  },
  {
   "cell_type": "markdown",
   "metadata": {},
   "source": [
    "## Check variables correlation"
   ]
  },
  {
   "cell_type": "code",
   "execution_count": 18,
   "metadata": {},
   "outputs": [
    {
     "data": {
      "text/plain": [
       "<seaborn.axisgrid.PairGrid at 0x1f4d3a80730>"
      ]
     },
     "execution_count": 18,
     "metadata": {},
     "output_type": "execute_result"
    },
    {
     "data": {
      "image/png": "[encoded data removed]",
      "text/plain": [
       "<Figure size 1800x180 with 11 Axes>"
      ]
     },
     "metadata": {
      "needs_background": "light"
     },
     "output_type": "display_data"
    }
   ],
   "source": [
    "sns.pairplot(data=diamonds, y_vars='price', kind='reg')"
   ]
  },
  {
   "cell_type": "code",
   "execution_count": 19,
   "metadata": {},
   "outputs": [
    {
     "data": {
      "text/plain": [
       "carat        0.922186\n",
       "depth       -0.012037\n",
       "table        0.127832\n",
       "price        1.000000\n",
       "x            0.885019\n",
       "y            0.864059\n",
       "z            0.860247\n",
       "n_cut       -0.055150\n",
       "n_color     -0.173129\n",
       "n_clarity   -0.148668\n",
       "Name: price, dtype: float64"
      ]
     },
     "execution_count": 19,
     "metadata": {},
     "output_type": "execute_result"
    }
   ],
   "source": [
    "diamonds.corr()['price']"
   ]
  },
  {
   "cell_type": "markdown",
   "metadata": {},
   "source": [
    "# Create model"
   ]
  },
  {
   "cell_type": "markdown",
   "metadata": {},
   "source": [
    "## Model #1\n",
    "\n",
    "### Model with all variables"
   ]
  },
  {
   "cell_type": "code",
   "execution_count": null,
   "metadata": {},
   "outputs": [],
   "source": [
    "#Instanciante LinearRegression object\n",
    "model = LinearRegression()"
   ]
  },
  {
   "cell_type": "code",
   "execution_count": null,
   "metadata": {},
   "outputs": [],
   "source": [
    "#Define X and Y\n",
    "x = diamonds.drop(['price', 'color', 'cut', 'clarity'], axis=1)\n",
    "y = diamonds['price']"
   ]
  },
  {
   "cell_type": "code",
   "execution_count": null,
   "metadata": {},
   "outputs": [],
   "source": [
    "#Train the model\n",
    "model.fit(x, y)"
   ]
  },
  {
   "cell_type": "code",
   "execution_count": null,
   "metadata": {},
   "outputs": [],
   "source": [
    "# Create predict\n",
    "y_pred = model.predict(x)"
   ]
  },
  {
   "cell_type": "code",
   "execution_count": null,
   "metadata": {},
   "outputs": [],
   "source": [
    "#Check RMSE\n",
    "np.sqrt(mean_squared_error(y, y_pred))"
   ]
  },
  {
   "cell_type": "code",
   "execution_count": null,
   "metadata": {},
   "outputs": [],
   "source": [
    "#Check R2 Score\n",
    "r2_score(y, y_pred)\n",
    "model.score(x, y)"
   ]
  },
  {
   "cell_type": "code",
   "execution_count": 22,
   "metadata": {},
   "outputs": [
    {
     "data": {
      "text/plain": [
       "<seaborn.axisgrid.PairGrid at 0x1f4e3becd30>"
      ]
     },
     "execution_count": 22,
     "metadata": {},
     "output_type": "execute_result"
    },
    {
     "data": {
      "image/png": "[encoded data removed]",
      "text/plain": [
       "<Figure size 547.875x504 with 1 Axes>"
      ]
     },
     "metadata": {
      "needs_background": "light"
     },
     "output_type": "display_data"
    }
   ],
   "source": [
    "sns.pairplot(diamonds,y_vars='price', x_vars ='carat', hue = 'n_color',palette = 'rainbow',height = 7)"
   ]
  },
  {
   "cell_type": "code",
   "execution_count": 259,
   "metadata": {},
   "outputs": [
    {
     "ename": "AttributeError",
     "evalue": "'numpy.ndarray' object has no attribute 'set_xlim'",
     "output_type": "error",
     "traceback": [
      "\u001b[1;31m---------------------------------------------------------------------------\u001b[0m",
      "\u001b[1;31mAttributeError\u001b[0m                            Traceback (most recent call last)",
      "\u001b[1;32mc:\\Users\\Pedro\\OneDrive\\Desktop\\Ironhack\\04. GitHub\\Trato_Feito\\diamonds.ipynb Célula: 31\u001b[0m in \u001b[0;36m<cell line: 2>\u001b[1;34m()\u001b[0m\n\u001b[0;32m      <a href='vscode-notebook-cell:/c%3A/Users/Pedro/OneDrive/Desktop/Ironhack/04.%20GitHub/Trato_Feito/diamonds.ipynb#Y363sZmlsZQ%3D%3D?line=0'>1</a>\u001b[0m fig, axes \u001b[39m=\u001b[39m plt\u001b[39m.\u001b[39msubplots(\u001b[39m2\u001b[39m, \u001b[39m2\u001b[39m, figsize \u001b[39m=\u001b[39m (\u001b[39m12\u001b[39m, \u001b[39m8\u001b[39m));\n\u001b[1;32m----> <a href='vscode-notebook-cell:/c%3A/Users/Pedro/OneDrive/Desktop/Ironhack/04.%20GitHub/Trato_Feito/diamonds.ipynb#Y363sZmlsZQ%3D%3D?line=1'>2</a>\u001b[0m axes\u001b[39m.\u001b[39;49mset_xlim(\u001b[39m0\u001b[39m,\u001b[39m5\u001b[39m)\n\u001b[0;32m      <a href='vscode-notebook-cell:/c%3A/Users/Pedro/OneDrive/Desktop/Ironhack/04.%20GitHub/Trato_Feito/diamonds.ipynb#Y363sZmlsZQ%3D%3D?line=3'>4</a>\u001b[0m sns\u001b[39m.\u001b[39mscatterplot(data\u001b[39m=\u001b[39mdiamonds[clarity_bad], x\u001b[39m=\u001b[39m\u001b[39m'\u001b[39m\u001b[39mcarat\u001b[39m\u001b[39m'\u001b[39m, y\u001b[39m=\u001b[39m\u001b[39m'\u001b[39m\u001b[39mprice\u001b[39m\u001b[39m'\u001b[39m, hue\u001b[39m=\u001b[39m\u001b[39m'\u001b[39m\u001b[39mn_clarity\u001b[39m\u001b[39m'\u001b[39m, palette\u001b[39m=\u001b[39m\u001b[39m'\u001b[39m\u001b[39mrainbow\u001b[39m\u001b[39m'\u001b[39m, ax\u001b[39m=\u001b[39maxes[\u001b[39m0\u001b[39m,\u001b[39m0\u001b[39m]);\n\u001b[0;32m      <a href='vscode-notebook-cell:/c%3A/Users/Pedro/OneDrive/Desktop/Ironhack/04.%20GitHub/Trato_Feito/diamonds.ipynb#Y363sZmlsZQ%3D%3D?line=4'>5</a>\u001b[0m sns\u001b[39m.\u001b[39mscatterplot(data\u001b[39m=\u001b[39mdiamonds[clarity_med], x\u001b[39m=\u001b[39m\u001b[39m'\u001b[39m\u001b[39mcarat\u001b[39m\u001b[39m'\u001b[39m, y\u001b[39m=\u001b[39m\u001b[39m'\u001b[39m\u001b[39mprice\u001b[39m\u001b[39m'\u001b[39m, hue\u001b[39m=\u001b[39m\u001b[39m'\u001b[39m\u001b[39mn_clarity\u001b[39m\u001b[39m'\u001b[39m, palette\u001b[39m=\u001b[39m\u001b[39m'\u001b[39m\u001b[39mrainbow\u001b[39m\u001b[39m'\u001b[39m, ax\u001b[39m=\u001b[39maxes[\u001b[39m0\u001b[39m,\u001b[39m1\u001b[39m]);\n",
      "\u001b[1;31mAttributeError\u001b[0m: 'numpy.ndarray' object has no attribute 'set_xlim'"
     ]
    },
    {
     "data": {
      "image/png": "[encoded data removed]",
      "text/plain": [
       "<Figure size 864x576 with 4 Axes>"
      ]
     },
     "metadata": {
      "needs_background": "light"
     },
     "output_type": "display_data"
    }
   ],
   "source": [
    "fig, axes = plt.subplots(2, 2, figsize = (12, 8));\n",
    "axes.set_xlim(0,5)\n",
    "\n",
    "sns.scatterplot(data=diamonds[clarity_bad], x='carat', y='price', hue='n_clarity', palette='rainbow', ax=axes[0,0]);\n",
    "sns.scatterplot(data=diamonds[clarity_med], x='carat', y='price', hue='n_clarity', palette='rainbow', ax=axes[0,1]);\n",
    "sns.scatterplot(data=diamonds[clarity_good], x='carat', y='price', hue='n_clarity', palette='rainbow', ax=axes[1,0]);\n",
    "sns.scatterplot(data=diamonds[clarity_nice], x='carat', y='price', hue='n_clarity', palette='rainbow', ax=axes[1,1]);"
   ]
  },
  {
   "cell_type": "markdown",
   "metadata": {},
   "source": [
    "## Model #1 Result - RMSE: 1210,8732"
   ]
  },
  {
   "cell_type": "markdown",
   "metadata": {},
   "source": [
    "## Model #2\n",
    "## Idea - Create different coefficients for Clarity\n",
    "### Separete Clarity in 4 bins"
   ]
  },
  {
   "cell_type": "code",
   "execution_count": null,
   "metadata": {},
   "outputs": [],
   "source": [
    "# Other variables column list\n",
    "column_list = ['carat', 'depth', 'table', 'x', 'y', 'z', 'n_cut', 'n_color']"
   ]
  },
  {
   "cell_type": "code",
   "execution_count": null,
   "metadata": {},
   "outputs": [],
   "source": [
    "# Create clarity mask (4 bins)\n",
    "clarity_bad = diamonds['n_clarity'] == 0\n",
    "clarity_med = diamonds['n_clarity'].between(1,2)\n",
    "clarity_good = diamonds['n_clarity'].between(3,4)\n",
    "clarity_nice = diamonds['n_clarity'].between(5,7)"
   ]
  },
  {
   "cell_type": "code",
   "execution_count": null,
   "metadata": {},
   "outputs": [],
   "source": [
    "# Define X and Y with clarity mask\n",
    "x_clarity_bad = diamonds.loc[clarity_bad, column_list]\n",
    "x_clarity_med = diamonds.loc[clarity_med, column_list]\n",
    "x_clarity_good = diamonds.loc[clarity_good, column_list]\n",
    "x_clarity_nice = diamonds.loc[clarity_nice, column_list]\n",
    "\n",
    "y_clarity_bad = diamonds.loc[clarity_bad, 'price']\n",
    "y_clarity_med = diamonds.loc[clarity_med, 'price']\n",
    "y_clarity_good = diamonds.loc[clarity_good, 'price']\n",
    "y_clarity_nice = diamonds.loc[clarity_nice, 'price']"
   ]
  },
  {
   "cell_type": "code",
   "execution_count": null,
   "metadata": {},
   "outputs": [],
   "source": [
    "# Instanciate one model per bin\n",
    "model_clarity_bad = LinearRegression()\n",
    "model_clarity_med = LinearRegression()\n",
    "model_clarity_good = LinearRegression()\n",
    "model_clarity_nice = LinearRegression()"
   ]
  },
  {
   "cell_type": "code",
   "execution_count": null,
   "metadata": {},
   "outputs": [],
   "source": [
    "# Train models\n",
    "model_clarity_bad.fit(x_clarity_bad, y_clarity_bad)\n",
    "model_clarity_med.fit(x_clarity_med, y_clarity_med)\n",
    "model_clarity_good.fit(x_clarity_good, y_clarity_good)\n",
    "model_clarity_nice.fit(x_clarity_nice, y_clarity_nice)"
   ]
  },
  {
   "cell_type": "code",
   "execution_count": null,
   "metadata": {},
   "outputs": [],
   "source": [
    "# Check individual score\n",
    "print(model_clarity_bad.score(x_clarity_bad, y_clarity_bad))\n",
    "print(model_clarity_med.score(x_clarity_med, y_clarity_med))\n",
    "print(model_clarity_good.score(x_clarity_good, y_clarity_good))\n",
    "print(model_clarity_nice.score(x_clarity_nice, y_clarity_nice))"
   ]
  },
  {
   "cell_type": "code",
   "execution_count": null,
   "metadata": {},
   "outputs": [],
   "source": [
    "# Make predictions\n",
    "y_pred_clarity_bad = model_clarity_bad.predict(x_clarity_bad)\n",
    "y_pred_clarity_med = model_clarity_med.predict(x_clarity_med)\n",
    "y_pred_clarity_good = model_clarity_good.predict(x_clarity_good)\n",
    "y_pred_clarity_nice = model_clarity_nice.predict(x_clarity_nice)"
   ]
  },
  {
   "cell_type": "code",
   "execution_count": null,
   "metadata": {},
   "outputs": [],
   "source": [
    "# Check individuals RMSE's\n",
    "print(np.sqrt(mean_squared_error(y_clarity_bad, y_pred_clarity_bad)))\n",
    "print(np.sqrt(mean_squared_error(y_clarity_med, y_pred_clarity_med)))\n",
    "print(np.sqrt(mean_squared_error(y_clarity_good, y_pred_clarity_good)))\n",
    "print(np.sqrt(mean_squared_error(y_clarity_nice, y_pred_clarity_nice)))"
   ]
  },
  {
   "cell_type": "code",
   "execution_count": null,
   "metadata": {},
   "outputs": [],
   "source": [
    "# Define funtion to verify which category each line fits into\n",
    "def verify_model(row,models):\n",
    "    if row['n_clarity'] == 0:\n",
    "        return models['bad'].predict(pd.DataFrame(row[column_list]).T)[0]\n",
    "    elif row['n_clarity'] in [1,2] :\n",
    "        return models['med'].predict(pd.DataFrame(row[column_list]).T)[0]\n",
    "    elif row['n_clarity'] in [3,4]:\n",
    "        return models['good'].predict(pd.DataFrame(row[column_list]).T)[0]\n",
    "    else:\n",
    "        return models['nice'].predict(pd.DataFrame(row[column_list]).T)[0]"
   ]
  },
  {
   "cell_type": "code",
   "execution_count": null,
   "metadata": {},
   "outputs": [],
   "source": [
    "predict = x.apply(verify_model, models = {'bad':model_clarity_bad,\n",
    "                                            'med':model_clarity_med,\n",
    "                                            'good':model_clarity_good,\n",
    "                                            'nice':model_clarity_nice}, axis=1)"
   ]
  },
  {
   "cell_type": "code",
   "execution_count": null,
   "metadata": {},
   "outputs": [],
   "source": [
    "# Check new R2 Score\n",
    "r2_score(y, predict)"
   ]
  },
  {
   "cell_type": "code",
   "execution_count": null,
   "metadata": {},
   "outputs": [],
   "source": [
    "# Check new RMSE\n",
    "np.sqrt(mean_squared_error(y, predict))"
   ]
  },
  {
   "cell_type": "markdown",
   "metadata": {},
   "source": [
    "## Model #2 Result - RMSE: 1013,2930"
   ]
  },
  {
   "cell_type": "markdown",
   "metadata": {},
   "source": [
    "## Model #3\n",
    "## Idea - Create different coefficients for color\n",
    "### Separete Color in 4 bins"
   ]
  },
  {
   "cell_type": "code",
   "execution_count": null,
   "metadata": {},
   "outputs": [],
   "source": [
    "# Other variables column list\n",
    "column_list_1 = ['carat', 'depth', 'table', 'x', 'y', 'z', 'n_cut', 'n_clarity']"
   ]
  },
  {
   "cell_type": "code",
   "execution_count": null,
   "metadata": {},
   "outputs": [],
   "source": [
    "# Create color mask\n",
    "color_bad = diamonds['n_color'] == 0\n",
    "color_med = diamonds['n_color'].between(1,2)\n",
    "color_good = diamonds['n_color'].between(3,4)\n",
    "color_nice = diamonds['n_color'].between(5,6)"
   ]
  },
  {
   "cell_type": "code",
   "execution_count": null,
   "metadata": {},
   "outputs": [],
   "source": [
    "# Define X and Y with color mask\n",
    "x_color_bad = diamonds.loc[color_bad, column_list_1]\n",
    "x_color_med = diamonds.loc[color_med, column_list_1]\n",
    "x_color_good = diamonds.loc[color_good, column_list_1]\n",
    "x_color_nice = diamonds.loc[color_nice, column_list_1]\n",
    "\n",
    "y_color_bad = diamonds.loc[color_bad, 'price']\n",
    "y_color_med = diamonds.loc[color_med, 'price']\n",
    "y_color_good = diamonds.loc[color_good, 'price']\n",
    "y_color_nice = diamonds.loc[color_nice, 'price']"
   ]
  },
  {
   "cell_type": "code",
   "execution_count": null,
   "metadata": {},
   "outputs": [],
   "source": [
    "# Instanciate one model per bin\n",
    "model_color_bad = LinearRegression()\n",
    "model_color_med = LinearRegression()\n",
    "model_color_good = LinearRegression()\n",
    "model_color_nice = LinearRegression()"
   ]
  },
  {
   "cell_type": "code",
   "execution_count": null,
   "metadata": {},
   "outputs": [],
   "source": [
    "# Train models\n",
    "model_color_bad.fit(x_color_bad, y_color_bad)\n",
    "model_color_med.fit(x_color_med, y_color_med)\n",
    "model_color_good.fit(x_color_good, y_color_good)\n",
    "model_color_nice.fit(x_color_nice, y_color_nice)"
   ]
  },
  {
   "cell_type": "code",
   "execution_count": null,
   "metadata": {},
   "outputs": [],
   "source": [
    "# Check individual scores\n",
    "print(model_color_bad.score(x_color_bad, y_color_bad))\n",
    "print(model_color_med.score(x_color_med, y_color_med))\n",
    "print(model_color_good.score(x_color_good, y_color_good))\n",
    "print(model_color_nice.score(x_color_nice, y_color_nice))"
   ]
  },
  {
   "cell_type": "code",
   "execution_count": null,
   "metadata": {},
   "outputs": [],
   "source": [
    "# Make predictions\n",
    "y_pred_color_bad = model_color_bad.predict(x_color_bad)\n",
    "y_pred_color_med = model_color_med.predict(x_color_med)\n",
    "y_pred_color_good = model_color_good.predict(x_color_good)\n",
    "y_pred_color_nice = model_color_nice.predict(x_color_nice)"
   ]
  },
  {
   "cell_type": "code",
   "execution_count": null,
   "metadata": {},
   "outputs": [],
   "source": [
    "# Check individual RMSE's\n",
    "print(np.sqrt(mean_squared_error(y_color_bad, y_pred_color_bad)))\n",
    "print(np.sqrt(mean_squared_error(y_color_med, y_pred_color_med)))\n",
    "print(np.sqrt(mean_squared_error(y_color_good, y_pred_color_good)))\n",
    "print(np.sqrt(mean_squared_error(y_color_nice, y_pred_color_nice)))"
   ]
  },
  {
   "cell_type": "code",
   "execution_count": null,
   "metadata": {},
   "outputs": [],
   "source": [
    "# Define funtion to verify which category each line fits into\n",
    "def verify_model_2(row,models):\n",
    "    if row['n_color'] == 0:\n",
    "        return models['bad'].predict(pd.DataFrame(row[column_list]).T)[0]\n",
    "    elif row['n_color'] in [1,2] :\n",
    "        return models['med'].predict(pd.DataFrame(row[column_list]).T)[0]\n",
    "    elif row['n_color'] in [3,4]:\n",
    "        return models['good'].predict(pd.DataFrame(row[column_list]).T)[0]\n",
    "    else:\n",
    "        return models['nice'].predict(pd.DataFrame(row[column_list]).T)[0]"
   ]
  },
  {
   "cell_type": "code",
   "execution_count": null,
   "metadata": {},
   "outputs": [],
   "source": [
    "\n",
    "predict_2 = x.apply(verify_model_2, models = {'bad':model_color_bad,\n",
    "                                            'med':model_color_med,\n",
    "                                            'good':model_color_good,\n",
    "                                            'nice':model_color_nice}, axis=1)"
   ]
  },
  {
   "cell_type": "code",
   "execution_count": null,
   "metadata": {},
   "outputs": [],
   "source": [
    "#Check new R2 Score\n",
    "r2_score(y, predict_2)"
   ]
  },
  {
   "cell_type": "code",
   "execution_count": null,
   "metadata": {},
   "outputs": [],
   "source": [
    "#Chekc new RMSE\n",
    "np.sqrt(mean_squared_error(y, predict_2))"
   ]
  },
  {
   "cell_type": "markdown",
   "metadata": {},
   "source": [
    "## Model #3 Result - RMSE: 1137,4981"
   ]
  },
  {
   "cell_type": "markdown",
   "metadata": {},
   "source": [
    "## Model #4\n",
    "## Idea - mix model #2 and #3"
   ]
  },
  {
   "cell_type": "code",
   "execution_count": null,
   "metadata": {},
   "outputs": [],
   "source": [
    "column_list_2 = ['carat', 'depth', 'table', 'x', 'y', 'z', 'n_cut']"
   ]
  },
  {
   "cell_type": "code",
   "execution_count": null,
   "metadata": {},
   "outputs": [],
   "source": [
    "# Create color and clarity mask\n",
    "color_bad = diamonds['n_color'] == 0\n",
    "color_med = diamonds['n_color'].between(1,2)\n",
    "color_good = diamonds['n_color'].between(3,4)\n",
    "color_nice = diamonds['n_color'].between(5,6)\n",
    "color_mask = {'bad':color_bad,'med':color_med, 'good':color_good, 'nice':color_nice}\n",
    "\n",
    "clarity_bad = diamonds['n_clarity'] == 0\n",
    "clarity_med = diamonds['n_clarity'].between(1,2)\n",
    "clarity_good = diamonds['n_clarity'].between(3,4)\n",
    "clarity_nice = diamonds['n_clarity'].between(5,7)\n",
    "clarity_mask = {'bad':clarity_bad,'med':clarity_med, 'good':clarity_good, 'nice':clarity_nice}\n"
   ]
  },
  {
   "cell_type": "code",
   "execution_count": null,
   "metadata": {},
   "outputs": [],
   "source": [
    "color_mask['bad']"
   ]
  },
  {
   "cell_type": "code",
   "execution_count": null,
   "metadata": {},
   "outputs": [],
   "source": [
    "# Define X with color and clarity masks\n",
    "i = 0\n",
    "x_color_clarity_dict = {}\n",
    "\n",
    "for value in color_mask.values():\n",
    "        for value_1 in clarity_mask.values():\n",
    "            x_color_clarity_dict[i] = diamonds.loc[(value) & (value_1), column_list_2]\n",
    "            i += 1"
   ]
  },
  {
   "cell_type": "code",
   "execution_count": null,
   "metadata": {},
   "outputs": [],
   "source": [
    "# Define Y with color and clarity masks\n",
    "i = 0\n",
    "y_color_clarity_dict = {}\n",
    "\n",
    "for value in color_mask.values():\n",
    "        for value_1 in clarity_mask.values():\n",
    "            y_color_clarity_dict[i] = diamonds.loc[(value) & (value_1), 'price']\n",
    "            i += 1"
   ]
  },
  {
   "cell_type": "code",
   "execution_count": null,
   "metadata": {},
   "outputs": [],
   "source": [
    "# Instanciate one model per bin\n",
    "model_color_clarity_dict = {}\n",
    "for i in range(16):\n",
    "    model_color_clarity_dict[i] = LinearRegression()"
   ]
  },
  {
   "cell_type": "code",
   "execution_count": null,
   "metadata": {},
   "outputs": [],
   "source": [
    "# Train models\n",
    "for i in range(16):\n",
    "    model_color_clarity_dict[i].fit(x_color_clarity_dict[i], y_color_clarity_dict[i])"
   ]
  },
  {
   "cell_type": "code",
   "execution_count": null,
   "metadata": {},
   "outputs": [],
   "source": [
    "# Check individual scores\n",
    "for i in range(len(model_color_clarity_dict)):\n",
    "    print(model_color_clarity_dict[i].score(x_color_clarity_dict[i], y_color_clarity_dict[i]))\n"
   ]
  },
  {
   "cell_type": "code",
   "execution_count": null,
   "metadata": {},
   "outputs": [],
   "source": [
    "# Make predictions\n",
    "y_pred_color_clarity_dict = {}\n",
    "for i in range(len(model_color_clarity_dict)):\n",
    "    y_pred_color_clarity_dict[i] = model_color_clarity_dict[i].predict(x_color_clarity_dict[i])"
   ]
  },
  {
   "cell_type": "code",
   "execution_count": null,
   "metadata": {},
   "outputs": [],
   "source": [
    "# Check individual RMSE's\n",
    "for i in range(len(model_color_clarity_dict)):\n",
    "    print(np.sqrt(mean_squared_error(y_color_clarity_dict[i], y_pred_color_clarity_dict[i])))"
   ]
  },
  {
   "cell_type": "code",
   "execution_count": null,
   "metadata": {},
   "outputs": [],
   "source": [
    "color_bad = diamonds['n_color'] == 0\n",
    "color_med = diamonds['n_color'].between(1,2)\n",
    "color_good = diamonds['n_color'].between(3,4)\n",
    "color_nice = diamonds['n_color'].between(5,6)\n",
    "\n",
    "clarity_bad = diamonds['n_clarity'] == 0\n",
    "clarity_med = diamonds['n_clarity'].between(1,2)\n",
    "clarity_good = diamonds['n_clarity'].between(3,4)\n",
    "clarity_nice = diamonds['n_clarity'].between(5,7)"
   ]
  },
  {
   "cell_type": "code",
   "execution_count": null,
   "metadata": {},
   "outputs": [],
   "source": [
    "# Define funtion to verify which category each line fits into\n",
    "def verify_model_3(row,models):\n",
    "    if row['n_color'] == 0 and row['n_clarity'] == 0:\n",
    "        return models[0].predict(pd.DataFrame(row[column_list_2]).T)[0]\n",
    "    elif row['n_color'] == 0 and row['n_clarity'] in [1,2]:\n",
    "        return models[1].predict(pd.DataFrame(row[column_list_2]).T)[0]\n",
    "    elif row['n_color'] == 0 and row['n_clarity'] in [3,4]:\n",
    "        return models[2].predict(pd.DataFrame(row[column_list_2]).T)[0]\n",
    "    elif row['n_color'] == 0 and row['n_clarity'] in [5,6,7]:\n",
    "        return models[3].predict(pd.DataFrame(row[column_list_2]).T)[0]\n",
    "    elif row['n_color'] in [1,2] and row['n_clarity'] == 0:\n",
    "        return models[4].predict(pd.DataFrame(row[column_list_2]).T)[0]\n",
    "    elif row['n_color'] in [1,2] and row['n_clarity'] in [1,2]:\n",
    "        return models[5].predict(pd.DataFrame(row[column_list_2]).T)[0]\n",
    "    elif row['n_color'] in [1,2] and row['n_clarity'] in [3,4]:\n",
    "        return models[6].predict(pd.DataFrame(row[column_list_2]).T)[0]\n",
    "    elif row['n_color'] in [1,2] and row['n_clarity'] in [5,6,7]:\n",
    "        return models[7].predict(pd.DataFrame(row[column_list_2]).T)[0]\n",
    "    elif row['n_color'] in [3,4] and row['n_clarity'] == 0:\n",
    "        return models[8].predict(pd.DataFrame(row[column_list_2]).T)[0]\n",
    "    elif row['n_color'] in [3,4] and row['n_clarity'] in [1,2]:\n",
    "        return models[9].predict(pd.DataFrame(row[column_list_2]).T)[0]\n",
    "    elif row['n_color'] in [3,4] and row['n_clarity'] in [3,4]:\n",
    "        return models[10].predict(pd.DataFrame(row[column_list_2]).T)[0]\n",
    "    elif row['n_color'] in [3,4] and row['n_clarity'] in [5,6,7]:\n",
    "        return models[11].predict(pd.DataFrame(row[column_list_2]).T)[0]\n",
    "    elif row['n_color'] in [5,6] and row['n_clarity'] == 0:\n",
    "        return models[12].predict(pd.DataFrame(row[column_list_2]).T)[0]\n",
    "    elif row['n_color'] in [5,6] and row['n_clarity'] in [1,2]:\n",
    "        return models[13].predict(pd.DataFrame(row[column_list_2]).T)[0]\n",
    "    elif row['n_color'] in [5,6] and row['n_clarity'] in [3,4]:\n",
    "        return models[14].predict(pd.DataFrame(row[column_list_2]).T)[0]\n",
    "    elif row['n_color'] in [5,6] and row['n_clarity'] in [5,6,7]:\n",
    "        return models[15].predict(pd.DataFrame(row[column_list_2]).T)[0]"
   ]
  },
  {
   "cell_type": "code",
   "execution_count": null,
   "metadata": {},
   "outputs": [],
   "source": [
    "predict_3 = x.apply(verify_model_3, models = {0:model_color_clarity_dict[0],\n",
    "                                                1:model_color_clarity_dict[1],\n",
    "                                                2:model_color_clarity_dict[2],\n",
    "                                                3:model_color_clarity_dict[3],\n",
    "                                                4:model_color_clarity_dict[4],\n",
    "                                                5:model_color_clarity_dict[5],\n",
    "                                                6:model_color_clarity_dict[6],\n",
    "                                                7:model_color_clarity_dict[7],\n",
    "                                                8:model_color_clarity_dict[8],\n",
    "                                                9:model_color_clarity_dict[9],\n",
    "                                                10:model_color_clarity_dict[10],\n",
    "                                                11:model_color_clarity_dict[11],\n",
    "                                                12:model_color_clarity_dict[12],\n",
    "                                                13:model_color_clarity_dict[13],\n",
    "                                                14:model_color_clarity_dict[14],\n",
    "                                                15:model_color_clarity_dict[15]\n",
    "                                            }, axis=1)"
   ]
  },
  {
   "cell_type": "code",
   "execution_count": null,
   "metadata": {},
   "outputs": [],
   "source": [
    "r2_score(y, predict_3)"
   ]
  },
  {
   "cell_type": "code",
   "execution_count": null,
   "metadata": {},
   "outputs": [],
   "source": [
    "np.sqrt(mean_squared_error(y, predict_3))"
   ]
  },
  {
   "cell_type": "code",
   "execution_count": null,
   "metadata": {},
   "outputs": [],
   "source": [
    "x_rick = rick_aux.drop(['color', 'cut', 'clarity'], axis=1)"
   ]
  },
  {
   "cell_type": "code",
   "execution_count": null,
   "metadata": {},
   "outputs": [],
   "source": [
    "predict_rick = x_rick.apply(verify_model_3, models = {0:model_color_clarity_dict[0],\n",
    "                                                1:model_color_clarity_dict[1],\n",
    "                                                2:model_color_clarity_dict[2],\n",
    "                                                3:model_color_clarity_dict[3],\n",
    "                                                4:model_color_clarity_dict[4],\n",
    "                                                5:model_color_clarity_dict[5],\n",
    "                                                6:model_color_clarity_dict[6],\n",
    "                                                7:model_color_clarity_dict[7],\n",
    "                                                8:model_color_clarity_dict[8],\n",
    "                                                9:model_color_clarity_dict[9],\n",
    "                                                10:model_color_clarity_dict[10],\n",
    "                                                11:model_color_clarity_dict[11],\n",
    "                                                12:model_color_clarity_dict[12],\n",
    "                                                13:model_color_clarity_dict[13],\n",
    "                                                14:model_color_clarity_dict[14],\n",
    "                                                15:model_color_clarity_dict[15]\n",
    "                                            }, axis=1)"
   ]
  },
  {
   "cell_type": "code",
   "execution_count": null,
   "metadata": {},
   "outputs": [],
   "source": [
    "rick['price_predicted'] = predict_rick"
   ]
  },
  {
   "cell_type": "code",
   "execution_count": null,
   "metadata": {},
   "outputs": [],
   "source": [
    "rick.to_csv('data/rick_diamonds_price_model4.csv')"
   ]
  },
  {
   "cell_type": "markdown",
   "metadata": {},
   "source": [
    "## Model #4 Result\n",
    "## RMSE: 831,30\n",
    "## Rick's RMSE: 845,09"
   ]
  },
  {
   "cell_type": "markdown",
   "metadata": {},
   "source": [
    "## Model #5\n",
    "### Use model RandomForestRegressor with 16 previous models"
   ]
  },
  {
   "cell_type": "code",
   "execution_count": null,
   "metadata": {},
   "outputs": [],
   "source": [
    "from sklearn.ensemble import RandomForestRegressor\n",
    "modelo = RandomForestRegressor()"
   ]
  },
  {
   "cell_type": "code",
   "execution_count": null,
   "metadata": {},
   "outputs": [],
   "source": [
    "column_list_2 = ['carat', 'depth', 'table', 'x', 'y', 'z', 'n_cut']"
   ]
  },
  {
   "cell_type": "code",
   "execution_count": null,
   "metadata": {},
   "outputs": [],
   "source": [
    "# Create color and clarity mask\n",
    "color_bad = diamonds['n_color'] == 0\n",
    "color_med = diamonds['n_color'].between(1,2)\n",
    "color_good = diamonds['n_color'].between(3,4)\n",
    "color_nice = diamonds['n_color'].between(5,6)\n",
    "color_mask = {'bad':color_bad,'med':color_med, 'good':color_good, 'nice':color_nice}\n",
    "\n",
    "clarity_bad = diamonds['n_clarity'] == 0\n",
    "clarity_med = diamonds['n_clarity'].between(1,2)\n",
    "clarity_good = diamonds['n_clarity'].between(3,4)\n",
    "clarity_nice = diamonds['n_clarity'].between(5,7)\n",
    "clarity_mask = {'bad':clarity_bad,'med':clarity_med, 'good':clarity_good, 'nice':clarity_nice}\n"
   ]
  },
  {
   "cell_type": "code",
   "execution_count": null,
   "metadata": {},
   "outputs": [],
   "source": [
    "# Define X with color and clarity masks\n",
    "i = 0\n",
    "x_color_clarity_dict = {}\n",
    "\n",
    "for value in color_mask.values():\n",
    "        for value_1 in clarity_mask.values():\n",
    "            x_color_clarity_dict[i] = diamonds.loc[(value) & (value_1), column_list_2]\n",
    "            i += 1"
   ]
  },
  {
   "cell_type": "code",
   "execution_count": null,
   "metadata": {},
   "outputs": [],
   "source": [
    "# Define Y with color and clarity masks\n",
    "i = 0\n",
    "y_color_clarity_dict = {}\n",
    "\n",
    "for value in color_mask.values():\n",
    "        for value_1 in clarity_mask.values():\n",
    "            y_color_clarity_dict[i] = diamonds.loc[(value) & (value_1), 'price']\n",
    "            i += 1"
   ]
  },
  {
   "cell_type": "code",
   "execution_count": null,
   "metadata": {},
   "outputs": [],
   "source": [
    "# Instanciate one model per bin\n",
    "model_color_clarity_dict = {}\n",
    "for i in range(16):\n",
    "    model_color_clarity_dict[i] = RandomForestRegressor()"
   ]
  },
  {
   "cell_type": "code",
   "execution_count": null,
   "metadata": {},
   "outputs": [],
   "source": [
    "# Train models\n",
    "for i in range(16):\n",
    "    model_color_clarity_dict[i].fit(x_color_clarity_dict[i], y_color_clarity_dict[i])"
   ]
  },
  {
   "cell_type": "code",
   "execution_count": null,
   "metadata": {},
   "outputs": [],
   "source": [
    "# Check individual scores\n",
    "for i in range(len(model_color_clarity_dict)):\n",
    "    print(model_color_clarity_dict[i].score(x_color_clarity_dict[i], y_color_clarity_dict[i]))\n"
   ]
  },
  {
   "cell_type": "code",
   "execution_count": null,
   "metadata": {},
   "outputs": [],
   "source": [
    "# Make predictions\n",
    "y_pred_color_clarity_dict = {}\n",
    "for i in range(len(model_color_clarity_dict)):\n",
    "    y_pred_color_clarity_dict[i] = model_color_clarity_dict[i].predict(x_color_clarity_dict[i])"
   ]
  },
  {
   "cell_type": "code",
   "execution_count": null,
   "metadata": {},
   "outputs": [],
   "source": [
    "# Check individual RMSE's\n",
    "for i in range(len(model_color_clarity_dict)):\n",
    "    print(np.sqrt(mean_squared_error(y_color_clarity_dict[i], y_pred_color_clarity_dict[i])))"
   ]
  },
  {
   "cell_type": "code",
   "execution_count": null,
   "metadata": {},
   "outputs": [],
   "source": [
    "color_bad = diamonds['n_color'] == 0\n",
    "color_med = diamonds['n_color'].between(1,2)\n",
    "color_good = diamonds['n_color'].between(3,4)\n",
    "color_nice = diamonds['n_color'].between(5,6)\n",
    "\n",
    "clarity_bad = diamonds['n_clarity'] == 0\n",
    "clarity_med = diamonds['n_clarity'].between(1,2)\n",
    "clarity_good = diamonds['n_clarity'].between(3,4)\n",
    "clarity_nice = diamonds['n_clarity'].between(5,7)"
   ]
  },
  {
   "cell_type": "code",
   "execution_count": null,
   "metadata": {},
   "outputs": [],
   "source": [
    "# Define funtion to verify which category each line fits into\n",
    "def verify_model_3(row,models):\n",
    "    if row['n_color'] == 0 and row['n_clarity'] == 0:\n",
    "        return models[0].predict(pd.DataFrame(row[column_list_2]).T)[0]\n",
    "    elif row['n_color'] == 0 and row['n_clarity'] in [1,2]:\n",
    "        return models[1].predict(pd.DataFrame(row[column_list_2]).T)[0]\n",
    "    elif row['n_color'] == 0 and row['n_clarity'] in [3,4]:\n",
    "        return models[2].predict(pd.DataFrame(row[column_list_2]).T)[0]\n",
    "    elif row['n_color'] == 0 and row['n_clarity'] in [5,6,7]:\n",
    "        return models[3].predict(pd.DataFrame(row[column_list_2]).T)[0]\n",
    "    elif row['n_color'] in [1,2] and row['n_clarity'] == 0:\n",
    "        return models[4].predict(pd.DataFrame(row[column_list_2]).T)[0]\n",
    "    elif row['n_color'] in [1,2] and row['n_clarity'] in [1,2]:\n",
    "        return models[5].predict(pd.DataFrame(row[column_list_2]).T)[0]\n",
    "    elif row['n_color'] in [1,2] and row['n_clarity'] in [3,4]:\n",
    "        return models[6].predict(pd.DataFrame(row[column_list_2]).T)[0]\n",
    "    elif row['n_color'] in [1,2] and row['n_clarity'] in [5,6,7]:\n",
    "        return models[7].predict(pd.DataFrame(row[column_list_2]).T)[0]\n",
    "    elif row['n_color'] in [3,4] and row['n_clarity'] == 0:\n",
    "        return models[8].predict(pd.DataFrame(row[column_list_2]).T)[0]\n",
    "    elif row['n_color'] in [3,4] and row['n_clarity'] in [1,2]:\n",
    "        return models[9].predict(pd.DataFrame(row[column_list_2]).T)[0]\n",
    "    elif row['n_color'] in [3,4] and row['n_clarity'] in [3,4]:\n",
    "        return models[10].predict(pd.DataFrame(row[column_list_2]).T)[0]\n",
    "    elif row['n_color'] in [3,4] and row['n_clarity'] in [5,6,7]:\n",
    "        return models[11].predict(pd.DataFrame(row[column_list_2]).T)[0]\n",
    "    elif row['n_color'] in [5,6] and row['n_clarity'] == 0:\n",
    "        return models[12].predict(pd.DataFrame(row[column_list_2]).T)[0]\n",
    "    elif row['n_color'] in [5,6] and row['n_clarity'] in [1,2]:\n",
    "        return models[13].predict(pd.DataFrame(row[column_list_2]).T)[0]\n",
    "    elif row['n_color'] in [5,6] and row['n_clarity'] in [3,4]:\n",
    "        return models[14].predict(pd.DataFrame(row[column_list_2]).T)[0]\n",
    "    elif row['n_color'] in [5,6] and row['n_clarity'] in [5,6,7]:\n",
    "        return models[15].predict(pd.DataFrame(row[column_list_2]).T)[0]"
   ]
  },
  {
   "cell_type": "code",
   "execution_count": null,
   "metadata": {},
   "outputs": [],
   "source": [
    "# Predict training diamonds\n",
    "predict_4 = x.apply(verify_model_3, models = {0:model_color_clarity_dict[0],\n",
    "                                                1:model_color_clarity_dict[1],\n",
    "                                                2:model_color_clarity_dict[2],\n",
    "                                                3:model_color_clarity_dict[3],\n",
    "                                                4:model_color_clarity_dict[4],\n",
    "                                                5:model_color_clarity_dict[5],\n",
    "                                                6:model_color_clarity_dict[6],\n",
    "                                                7:model_color_clarity_dict[7],\n",
    "                                                8:model_color_clarity_dict[8],\n",
    "                                                9:model_color_clarity_dict[9],\n",
    "                                                10:model_color_clarity_dict[10],\n",
    "                                                11:model_color_clarity_dict[11],\n",
    "                                                12:model_color_clarity_dict[12],\n",
    "                                                13:model_color_clarity_dict[13],\n",
    "                                                14:model_color_clarity_dict[14],\n",
    "                                                15:model_color_clarity_dict[15]\n",
    "                                            }, axis=1)"
   ]
  },
  {
   "cell_type": "code",
   "execution_count": null,
   "metadata": {},
   "outputs": [],
   "source": [
    "r2_score(y, predict_4)"
   ]
  },
  {
   "cell_type": "code",
   "execution_count": null,
   "metadata": {},
   "outputs": [],
   "source": [
    "np.sqrt(mean_squared_error(y, predict_4))"
   ]
  },
  {
   "cell_type": "code",
   "execution_count": null,
   "metadata": {},
   "outputs": [],
   "source": [
    "# Predict Rick's diamonds\n",
    "predict_rick = x_rick.apply(verify_model_3, models = {0:model_color_clarity_dict[0],\n",
    "                                                1:model_color_clarity_dict[1],\n",
    "                                                2:model_color_clarity_dict[2],\n",
    "                                                3:model_color_clarity_dict[3],\n",
    "                                                4:model_color_clarity_dict[4],\n",
    "                                                5:model_color_clarity_dict[5],\n",
    "                                                6:model_color_clarity_dict[6],\n",
    "                                                7:model_color_clarity_dict[7],\n",
    "                                                8:model_color_clarity_dict[8],\n",
    "                                                9:model_color_clarity_dict[9],\n",
    "                                                10:model_color_clarity_dict[10],\n",
    "                                                11:model_color_clarity_dict[11],\n",
    "                                                12:model_color_clarity_dict[12],\n",
    "                                                13:model_color_clarity_dict[13],\n",
    "                                                14:model_color_clarity_dict[14],\n",
    "                                                15:model_color_clarity_dict[15]\n",
    "                                            }, axis=1)"
   ]
  },
  {
   "cell_type": "code",
   "execution_count": null,
   "metadata": {},
   "outputs": [],
   "source": [
    "# Put the pices in Rick's DataFrame\n",
    "rick['price_predicted'] = predict_rick"
   ]
  },
  {
   "cell_type": "code",
   "execution_count": null,
   "metadata": {},
   "outputs": [],
   "source": [
    "# Save the DataFrame\n",
    "rick.to_csv('data/rick_diamonds_price_model5.csv')"
   ]
  },
  {
   "cell_type": "markdown",
   "metadata": {},
   "source": [
    "## Model #5 Result\n",
    "## RMSE: 258,12\n",
    "## Rick's RMSE: 705,57"
   ]
  },
  {
   "cell_type": "markdown",
   "metadata": {},
   "source": [
    "## Model #6\n",
    "### Use model RandomForestRegressor alone"
   ]
  },
  {
   "cell_type": "code",
   "execution_count": null,
   "metadata": {},
   "outputs": [],
   "source": [
    "#Instanciante LinearRegression object\n",
    "model_6 = RandomForestRegressor()"
   ]
  },
  {
   "cell_type": "code",
   "execution_count": null,
   "metadata": {},
   "outputs": [],
   "source": [
    "#Define X and Y\n",
    "x = diamonds.drop(['price', 'color', 'cut', 'clarity'], axis=1)\n",
    "y = diamonds['price']"
   ]
  },
  {
   "cell_type": "code",
   "execution_count": null,
   "metadata": {},
   "outputs": [],
   "source": [
    "#Train the model\n",
    "model_6.fit(x, y)"
   ]
  },
  {
   "cell_type": "code",
   "execution_count": null,
   "metadata": {},
   "outputs": [],
   "source": [
    "# Create predict\n",
    "y_pred_6 = model_6.predict(x)"
   ]
  },
  {
   "cell_type": "code",
   "execution_count": null,
   "metadata": {},
   "outputs": [],
   "source": [
    "#Check RMSE\n",
    "np.sqrt(mean_squared_error(y, y_pred_6))"
   ]
  },
  {
   "cell_type": "code",
   "execution_count": null,
   "metadata": {},
   "outputs": [],
   "source": [
    "#Check R2 Score\n",
    "model_6.score(x, y)"
   ]
  },
  {
   "cell_type": "code",
   "execution_count": null,
   "metadata": {},
   "outputs": [],
   "source": [
    "# Predict Rick's diamonds\n",
    "predict_rick_6 = model_6.predict(x_rick)"
   ]
  },
  {
   "cell_type": "code",
   "execution_count": null,
   "metadata": {},
   "outputs": [],
   "source": [
    "# Put the pices in Rick's DataFrame\n",
    "rick['price_predicted'] = predict_rick_6"
   ]
  },
  {
   "cell_type": "code",
   "execution_count": null,
   "metadata": {},
   "outputs": [],
   "source": [
    "# Save the DataFrame\n",
    "rick.to_csv('data/rick_diamonds_price_model6.csv')"
   ]
  },
  {
   "cell_type": "markdown",
   "metadata": {},
   "source": [
    "## Model #6 Result\n",
    "## RMSE: 200,38\n",
    "## Rick's RMSE: 539,98"
   ]
  },
  {
   "cell_type": "markdown",
   "metadata": {},
   "source": [
    "## Model #7\n",
    "### Logarithmic model"
   ]
  },
  {
   "cell_type": "code",
   "execution_count": null,
   "metadata": {},
   "outputs": [],
   "source": [
    "## adicionar 1 ao n_category"
   ]
  },
  {
   "cell_type": "code",
   "execution_count": 294,
   "metadata": {},
   "outputs": [],
   "source": [
    "df_7_aux = diamonds.drop(['color','clarity','cut'], axis=1)\n",
    "df_7_aux[['n_cut','n_color','n_clarity']] = df_7_aux[['n_cut','n_color','n_clarity']] + 1"
   ]
  },
  {
   "cell_type": "code",
   "execution_count": 295,
   "metadata": {},
   "outputs": [
    {
     "name": "stderr",
     "output_type": "stream",
     "text": [
      "c:\\Users\\Pedro\\anaconda3\\lib\\site-packages\\pandas\\core\\internals\\blocks.py:402: RuntimeWarning: divide by zero encountered in log\n",
      "  result = func(self.values, **kwargs)\n"
     ]
    }
   ],
   "source": [
    "df_7 = np.log(df_7_aux)"
   ]
  },
  {
   "cell_type": "code",
   "execution_count": 296,
   "metadata": {},
   "outputs": [
    {
     "data": {
      "text/html": [
       "<div>\n",
       "<style scoped>\n",
       "    .dataframe tbody tr th:only-of-type {\n",
       "        vertical-align: middle;\n",
       "    }\n",
       "\n",
       "    .dataframe tbody tr th {\n",
       "        vertical-align: top;\n",
       "    }\n",
       "\n",
       "    .dataframe thead th {\n",
       "        text-align: right;\n",
       "    }\n",
       "</style>\n",
       "<table border=\"1\" class=\"dataframe\">\n",
       "  <thead>\n",
       "    <tr style=\"text-align: right;\">\n",
       "      <th></th>\n",
       "      <th>carat</th>\n",
       "      <th>depth</th>\n",
       "      <th>table</th>\n",
       "      <th>price</th>\n",
       "      <th>x</th>\n",
       "      <th>y</th>\n",
       "      <th>z</th>\n",
       "      <th>n_cut</th>\n",
       "      <th>n_color</th>\n",
       "      <th>n_clarity</th>\n",
       "    </tr>\n",
       "  </thead>\n",
       "  <tbody>\n",
       "    <tr>\n",
       "      <th>0</th>\n",
       "      <td>-1.560648</td>\n",
       "      <td>4.091006</td>\n",
       "      <td>4.110874</td>\n",
       "      <td>5.786897</td>\n",
       "      <td>1.358409</td>\n",
       "      <td>1.345472</td>\n",
       "      <td>0.837248</td>\n",
       "      <td>1.386294</td>\n",
       "      <td>1.791759</td>\n",
       "      <td>1.098612</td>\n",
       "    </tr>\n",
       "    <tr>\n",
       "      <th>1</th>\n",
       "      <td>-1.469676</td>\n",
       "      <td>4.041295</td>\n",
       "      <td>4.174387</td>\n",
       "      <td>5.789960</td>\n",
       "      <td>1.398717</td>\n",
       "      <td>1.403643</td>\n",
       "      <td>0.837248</td>\n",
       "      <td>0.693147</td>\n",
       "      <td>1.791759</td>\n",
       "      <td>1.609438</td>\n",
       "    </tr>\n",
       "    <tr>\n",
       "      <th>2</th>\n",
       "      <td>-1.237874</td>\n",
       "      <td>4.133565</td>\n",
       "      <td>4.060443</td>\n",
       "      <td>5.811141</td>\n",
       "      <td>1.435085</td>\n",
       "      <td>1.442202</td>\n",
       "      <td>0.966984</td>\n",
       "      <td>1.386294</td>\n",
       "      <td>0.693147</td>\n",
       "      <td>1.386294</td>\n",
       "    </tr>\n",
       "    <tr>\n",
       "      <th>3</th>\n",
       "      <td>-1.171183</td>\n",
       "      <td>4.147885</td>\n",
       "      <td>4.060443</td>\n",
       "      <td>5.814131</td>\n",
       "      <td>1.467874</td>\n",
       "      <td>1.470176</td>\n",
       "      <td>1.011601</td>\n",
       "      <td>0.693147</td>\n",
       "      <td>0.000000</td>\n",
       "      <td>0.693147</td>\n",
       "    </tr>\n",
       "    <tr>\n",
       "      <th>4</th>\n",
       "      <td>-1.427116</td>\n",
       "      <td>4.139955</td>\n",
       "      <td>4.043051</td>\n",
       "      <td>5.817111</td>\n",
       "      <td>1.371181</td>\n",
       "      <td>1.376244</td>\n",
       "      <td>0.908259</td>\n",
       "      <td>1.098612</td>\n",
       "      <td>0.000000</td>\n",
       "      <td>1.791759</td>\n",
       "    </tr>\n",
       "    <tr>\n",
       "      <th>...</th>\n",
       "      <td>...</td>\n",
       "      <td>...</td>\n",
       "      <td>...</td>\n",
       "      <td>...</td>\n",
       "      <td>...</td>\n",
       "      <td>...</td>\n",
       "      <td>...</td>\n",
       "      <td>...</td>\n",
       "      <td>...</td>\n",
       "      <td>...</td>\n",
       "    </tr>\n",
       "    <tr>\n",
       "      <th>48935</th>\n",
       "      <td>-0.328504</td>\n",
       "      <td>4.138361</td>\n",
       "      <td>4.077537</td>\n",
       "      <td>7.921898</td>\n",
       "      <td>1.738710</td>\n",
       "      <td>1.745716</td>\n",
       "      <td>1.275363</td>\n",
       "      <td>1.386294</td>\n",
       "      <td>1.945910</td>\n",
       "      <td>1.098612</td>\n",
       "    </tr>\n",
       "    <tr>\n",
       "      <th>48936</th>\n",
       "      <td>-0.328504</td>\n",
       "      <td>4.107590</td>\n",
       "      <td>4.043051</td>\n",
       "      <td>7.921898</td>\n",
       "      <td>1.749200</td>\n",
       "      <td>1.750937</td>\n",
       "      <td>1.252763</td>\n",
       "      <td>1.609438</td>\n",
       "      <td>1.945910</td>\n",
       "      <td>1.098612</td>\n",
       "    </tr>\n",
       "    <tr>\n",
       "      <th>48937</th>\n",
       "      <td>-0.328504</td>\n",
       "      <td>4.144721</td>\n",
       "      <td>4.007333</td>\n",
       "      <td>7.921898</td>\n",
       "      <td>1.738710</td>\n",
       "      <td>1.749200</td>\n",
       "      <td>1.283708</td>\n",
       "      <td>0.693147</td>\n",
       "      <td>1.945910</td>\n",
       "      <td>1.098612</td>\n",
       "    </tr>\n",
       "    <tr>\n",
       "      <th>48938</th>\n",
       "      <td>-0.356675</td>\n",
       "      <td>4.139955</td>\n",
       "      <td>4.094345</td>\n",
       "      <td>7.921898</td>\n",
       "      <td>1.733424</td>\n",
       "      <td>1.736951</td>\n",
       "      <td>1.269761</td>\n",
       "      <td>1.098612</td>\n",
       "      <td>1.945910</td>\n",
       "      <td>1.098612</td>\n",
       "    </tr>\n",
       "    <tr>\n",
       "      <th>48939</th>\n",
       "      <td>-0.287682</td>\n",
       "      <td>4.130355</td>\n",
       "      <td>4.007333</td>\n",
       "      <td>7.921898</td>\n",
       "      <td>1.763017</td>\n",
       "      <td>1.769855</td>\n",
       "      <td>1.291984</td>\n",
       "      <td>1.609438</td>\n",
       "      <td>1.945910</td>\n",
       "      <td>0.693147</td>\n",
       "    </tr>\n",
       "  </tbody>\n",
       "</table>\n",
       "<p>48940 rows × 10 columns</p>\n",
       "</div>"
      ],
      "text/plain": [
       "          carat     depth     table     price         x         y         z  \\\n",
       "0     -1.560648  4.091006  4.110874  5.786897  1.358409  1.345472  0.837248   \n",
       "1     -1.469676  4.041295  4.174387  5.789960  1.398717  1.403643  0.837248   \n",
       "2     -1.237874  4.133565  4.060443  5.811141  1.435085  1.442202  0.966984   \n",
       "3     -1.171183  4.147885  4.060443  5.814131  1.467874  1.470176  1.011601   \n",
       "4     -1.427116  4.139955  4.043051  5.817111  1.371181  1.376244  0.908259   \n",
       "...         ...       ...       ...       ...       ...       ...       ...   \n",
       "48935 -0.328504  4.138361  4.077537  7.921898  1.738710  1.745716  1.275363   \n",
       "48936 -0.328504  4.107590  4.043051  7.921898  1.749200  1.750937  1.252763   \n",
       "48937 -0.328504  4.144721  4.007333  7.921898  1.738710  1.749200  1.283708   \n",
       "48938 -0.356675  4.139955  4.094345  7.921898  1.733424  1.736951  1.269761   \n",
       "48939 -0.287682  4.130355  4.007333  7.921898  1.763017  1.769855  1.291984   \n",
       "\n",
       "          n_cut   n_color  n_clarity  \n",
       "0      1.386294  1.791759   1.098612  \n",
       "1      0.693147  1.791759   1.609438  \n",
       "2      1.386294  0.693147   1.386294  \n",
       "3      0.693147  0.000000   0.693147  \n",
       "4      1.098612  0.000000   1.791759  \n",
       "...         ...       ...        ...  \n",
       "48935  1.386294  1.945910   1.098612  \n",
       "48936  1.609438  1.945910   1.098612  \n",
       "48937  0.693147  1.945910   1.098612  \n",
       "48938  1.098612  1.945910   1.098612  \n",
       "48939  1.609438  1.945910   0.693147  \n",
       "\n",
       "[48940 rows x 10 columns]"
      ]
     },
     "execution_count": 296,
     "metadata": {},
     "output_type": "execute_result"
    }
   ],
   "source": [
    "df_7"
   ]
  },
  {
   "cell_type": "code",
   "execution_count": 310,
   "metadata": {},
   "outputs": [
    {
     "data": {
      "text/plain": [
       "<seaborn.axisgrid.FacetGrid at 0x23e9d77c7f0>"
      ]
     },
     "execution_count": 310,
     "metadata": {},
     "output_type": "execute_result"
    },
    {
     "data": {
      "image/png": "[encoded data removed]",
      "text/plain": [
       "<Figure size 651.625x504 with 1 Axes>"
      ]
     },
     "metadata": {
      "needs_background": "light"
     },
     "output_type": "display_data"
    }
   ],
   "source": [
    "sns.lmplot(data = df_7,y='price', x ='carat', hue='n_color',palette='rainbow',height = 7)"
   ]
  },
  {
   "cell_type": "code",
   "execution_count": 298,
   "metadata": {},
   "outputs": [],
   "source": [
    "x_7 = df_7[['carat', 'depth', 'table','x', 'y', 'z', 'n_cut']]\n",
    "y_7 = df_7['price']"
   ]
  },
  {
   "cell_type": "code",
   "execution_count": 311,
   "metadata": {},
   "outputs": [],
   "source": [
    "# Create color and clarity mask\n",
    "color_bad = diamonds['n_color'].between(0,1.1)\n",
    "color_med = diamonds['n_color'].between(1.11,1.62)\n",
    "color_good = diamonds['n_color'].between(1.63,3)\n",
    "color_mask = {'bad':color_bad,'med':color_med, 'good':color_good}\n",
    "\n",
    "clarity_bad = diamonds['n_clarity'] == 0\n",
    "clarity_med = diamonds['n_clarity'].between(0.5,1.7)\n",
    "clarity_good = diamonds['n_clarity'].between(1.71,3)\n",
    "clarity_mask = {'bad':clarity_bad,'med':clarity_med, 'good':clarity_good}"
   ]
  },
  {
   "cell_type": "code",
   "execution_count": 312,
   "metadata": {},
   "outputs": [
    {
     "data": {
      "text/plain": [
       "['carat', 'depth', 'table', 'x', 'y', 'z', 'n_cut']"
      ]
     },
     "execution_count": 312,
     "metadata": {},
     "output_type": "execute_result"
    }
   ],
   "source": [
    "column_list_2"
   ]
  },
  {
   "cell_type": "code",
   "execution_count": 313,
   "metadata": {},
   "outputs": [],
   "source": [
    "# Define X with color and clarity masks\n",
    "i = 0\n",
    "x_color_clarity_dict = {}\n",
    "\n",
    "for value in color_mask.values():\n",
    "        for value_1 in clarity_mask.values():\n",
    "            x_color_clarity_dict[i] = diamonds.loc[(value) & (value_1), column_list_2]\n",
    "            i += 1"
   ]
  },
  {
   "cell_type": "code",
   "execution_count": 314,
   "metadata": {},
   "outputs": [],
   "source": [
    "# Define Y with color and clarity masks\n",
    "i = 0\n",
    "y_color_clarity_dict = {}\n",
    "\n",
    "for value in color_mask.values():\n",
    "        for value_1 in clarity_mask.values():\n",
    "            y_color_clarity_dict[i] = diamonds.loc[(value) & (value_1), 'price']\n",
    "            i += 1"
   ]
  },
  {
   "cell_type": "code",
   "execution_count": 315,
   "metadata": {},
   "outputs": [],
   "source": [
    "# Instanciate one model per bin\n",
    "model_color_clarity_dict = {}\n",
    "for i in range(9):\n",
    "    model_color_clarity_dict[i] = LinearRegression()"
   ]
  },
  {
   "cell_type": "code",
   "execution_count": 316,
   "metadata": {},
   "outputs": [
    {
     "ename": "ValueError",
     "evalue": "Found array with 0 sample(s) (shape=(0, 7)) while a minimum of 1 is required.",
     "output_type": "error",
     "traceback": [
      "\u001b[1;31m---------------------------------------------------------------------------\u001b[0m",
      "\u001b[1;31mValueError\u001b[0m                                Traceback (most recent call last)",
      "\u001b[1;32mc:\\Users\\Pedro\\OneDrive\\Desktop\\Ironhack\\04. GitHub\\Trato_Feito\\diamonds.ipynb Célula: 125\u001b[0m in \u001b[0;36m<cell line: 2>\u001b[1;34m()\u001b[0m\n\u001b[0;32m      <a href='vscode-notebook-cell:/c%3A/Users/Pedro/OneDrive/Desktop/Ironhack/04.%20GitHub/Trato_Feito/diamonds.ipynb#Y410sZmlsZQ%3D%3D?line=0'>1</a>\u001b[0m \u001b[39m# Train models\u001b[39;00m\n\u001b[0;32m      <a href='vscode-notebook-cell:/c%3A/Users/Pedro/OneDrive/Desktop/Ironhack/04.%20GitHub/Trato_Feito/diamonds.ipynb#Y410sZmlsZQ%3D%3D?line=1'>2</a>\u001b[0m \u001b[39mfor\u001b[39;00m i \u001b[39min\u001b[39;00m \u001b[39mrange\u001b[39m(\u001b[39m9\u001b[39m):\n\u001b[1;32m----> <a href='vscode-notebook-cell:/c%3A/Users/Pedro/OneDrive/Desktop/Ironhack/04.%20GitHub/Trato_Feito/diamonds.ipynb#Y410sZmlsZQ%3D%3D?line=2'>3</a>\u001b[0m     model_color_clarity_dict[i]\u001b[39m.\u001b[39;49mfit(x_color_clarity_dict[i], y_color_clarity_dict[i])\n",
      "File \u001b[1;32mc:\\Users\\Pedro\\anaconda3\\lib\\site-packages\\sklearn\\linear_model\\_base.py:662\u001b[0m, in \u001b[0;36mLinearRegression.fit\u001b[1;34m(self, X, y, sample_weight)\u001b[0m\n\u001b[0;32m    658\u001b[0m n_jobs_ \u001b[39m=\u001b[39m \u001b[39mself\u001b[39m\u001b[39m.\u001b[39mn_jobs\n\u001b[0;32m    660\u001b[0m accept_sparse \u001b[39m=\u001b[39m \u001b[39mFalse\u001b[39;00m \u001b[39mif\u001b[39;00m \u001b[39mself\u001b[39m\u001b[39m.\u001b[39mpositive \u001b[39melse\u001b[39;00m [\u001b[39m\"\u001b[39m\u001b[39mcsr\u001b[39m\u001b[39m\"\u001b[39m, \u001b[39m\"\u001b[39m\u001b[39mcsc\u001b[39m\u001b[39m\"\u001b[39m, \u001b[39m\"\u001b[39m\u001b[39mcoo\u001b[39m\u001b[39m\"\u001b[39m]\n\u001b[1;32m--> 662\u001b[0m X, y \u001b[39m=\u001b[39m \u001b[39mself\u001b[39;49m\u001b[39m.\u001b[39;49m_validate_data(\n\u001b[0;32m    663\u001b[0m     X, y, accept_sparse\u001b[39m=\u001b[39;49maccept_sparse, y_numeric\u001b[39m=\u001b[39;49m\u001b[39mTrue\u001b[39;49;00m, multi_output\u001b[39m=\u001b[39;49m\u001b[39mTrue\u001b[39;49;00m\n\u001b[0;32m    664\u001b[0m )\n\u001b[0;32m    666\u001b[0m \u001b[39mif\u001b[39;00m sample_weight \u001b[39mis\u001b[39;00m \u001b[39mnot\u001b[39;00m \u001b[39mNone\u001b[39;00m:\n\u001b[0;32m    667\u001b[0m     sample_weight \u001b[39m=\u001b[39m _check_sample_weight(sample_weight, X, dtype\u001b[39m=\u001b[39mX\u001b[39m.\u001b[39mdtype)\n",
      "File \u001b[1;32mc:\\Users\\Pedro\\anaconda3\\lib\\site-packages\\sklearn\\base.py:581\u001b[0m, in \u001b[0;36mBaseEstimator._validate_data\u001b[1;34m(self, X, y, reset, validate_separately, **check_params)\u001b[0m\n\u001b[0;32m    579\u001b[0m         y \u001b[39m=\u001b[39m check_array(y, \u001b[39m*\u001b[39m\u001b[39m*\u001b[39mcheck_y_params)\n\u001b[0;32m    580\u001b[0m     \u001b[39melse\u001b[39;00m:\n\u001b[1;32m--> 581\u001b[0m         X, y \u001b[39m=\u001b[39m check_X_y(X, y, \u001b[39m*\u001b[39m\u001b[39m*\u001b[39mcheck_params)\n\u001b[0;32m    582\u001b[0m     out \u001b[39m=\u001b[39m X, y\n\u001b[0;32m    584\u001b[0m \u001b[39mif\u001b[39;00m \u001b[39mnot\u001b[39;00m no_val_X \u001b[39mand\u001b[39;00m check_params\u001b[39m.\u001b[39mget(\u001b[39m\"\u001b[39m\u001b[39mensure_2d\u001b[39m\u001b[39m\"\u001b[39m, \u001b[39mTrue\u001b[39;00m):\n",
      "File \u001b[1;32mc:\\Users\\Pedro\\anaconda3\\lib\\site-packages\\sklearn\\utils\\validation.py:964\u001b[0m, in \u001b[0;36mcheck_X_y\u001b[1;34m(X, y, accept_sparse, accept_large_sparse, dtype, order, copy, force_all_finite, ensure_2d, allow_nd, multi_output, ensure_min_samples, ensure_min_features, y_numeric, estimator)\u001b[0m\n\u001b[0;32m    961\u001b[0m \u001b[39mif\u001b[39;00m y \u001b[39mis\u001b[39;00m \u001b[39mNone\u001b[39;00m:\n\u001b[0;32m    962\u001b[0m     \u001b[39mraise\u001b[39;00m \u001b[39mValueError\u001b[39;00m(\u001b[39m\"\u001b[39m\u001b[39my cannot be None\u001b[39m\u001b[39m\"\u001b[39m)\n\u001b[1;32m--> 964\u001b[0m X \u001b[39m=\u001b[39m check_array(\n\u001b[0;32m    965\u001b[0m     X,\n\u001b[0;32m    966\u001b[0m     accept_sparse\u001b[39m=\u001b[39;49maccept_sparse,\n\u001b[0;32m    967\u001b[0m     accept_large_sparse\u001b[39m=\u001b[39;49maccept_large_sparse,\n\u001b[0;32m    968\u001b[0m     dtype\u001b[39m=\u001b[39;49mdtype,\n\u001b[0;32m    969\u001b[0m     order\u001b[39m=\u001b[39;49morder,\n\u001b[0;32m    970\u001b[0m     copy\u001b[39m=\u001b[39;49mcopy,\n\u001b[0;32m    971\u001b[0m     force_all_finite\u001b[39m=\u001b[39;49mforce_all_finite,\n\u001b[0;32m    972\u001b[0m     ensure_2d\u001b[39m=\u001b[39;49mensure_2d,\n\u001b[0;32m    973\u001b[0m     allow_nd\u001b[39m=\u001b[39;49mallow_nd,\n\u001b[0;32m    974\u001b[0m     ensure_min_samples\u001b[39m=\u001b[39;49mensure_min_samples,\n\u001b[0;32m    975\u001b[0m     ensure_min_features\u001b[39m=\u001b[39;49mensure_min_features,\n\u001b[0;32m    976\u001b[0m     estimator\u001b[39m=\u001b[39;49mestimator,\n\u001b[0;32m    977\u001b[0m )\n\u001b[0;32m    979\u001b[0m y \u001b[39m=\u001b[39m _check_y(y, multi_output\u001b[39m=\u001b[39mmulti_output, y_numeric\u001b[39m=\u001b[39my_numeric)\n\u001b[0;32m    981\u001b[0m check_consistent_length(X, y)\n",
      "File \u001b[1;32mc:\\Users\\Pedro\\anaconda3\\lib\\site-packages\\sklearn\\utils\\validation.py:805\u001b[0m, in \u001b[0;36mcheck_array\u001b[1;34m(array, accept_sparse, accept_large_sparse, dtype, order, copy, force_all_finite, ensure_2d, allow_nd, ensure_min_samples, ensure_min_features, estimator)\u001b[0m\n\u001b[0;32m    803\u001b[0m     n_samples \u001b[39m=\u001b[39m _num_samples(array)\n\u001b[0;32m    804\u001b[0m     \u001b[39mif\u001b[39;00m n_samples \u001b[39m<\u001b[39m ensure_min_samples:\n\u001b[1;32m--> 805\u001b[0m         \u001b[39mraise\u001b[39;00m \u001b[39mValueError\u001b[39;00m(\n\u001b[0;32m    806\u001b[0m             \u001b[39m\"\u001b[39m\u001b[39mFound array with \u001b[39m\u001b[39m%d\u001b[39;00m\u001b[39m sample(s) (shape=\u001b[39m\u001b[39m%s\u001b[39;00m\u001b[39m) while a\u001b[39m\u001b[39m\"\u001b[39m\n\u001b[0;32m    807\u001b[0m             \u001b[39m\"\u001b[39m\u001b[39m minimum of \u001b[39m\u001b[39m%d\u001b[39;00m\u001b[39m is required\u001b[39m\u001b[39m%s\u001b[39;00m\u001b[39m.\u001b[39m\u001b[39m\"\u001b[39m\n\u001b[0;32m    808\u001b[0m             \u001b[39m%\u001b[39m (n_samples, array\u001b[39m.\u001b[39mshape, ensure_min_samples, context)\n\u001b[0;32m    809\u001b[0m         )\n\u001b[0;32m    811\u001b[0m \u001b[39mif\u001b[39;00m ensure_min_features \u001b[39m>\u001b[39m \u001b[39m0\u001b[39m \u001b[39mand\u001b[39;00m array\u001b[39m.\u001b[39mndim \u001b[39m==\u001b[39m \u001b[39m2\u001b[39m:\n\u001b[0;32m    812\u001b[0m     n_features \u001b[39m=\u001b[39m array\u001b[39m.\u001b[39mshape[\u001b[39m1\u001b[39m]\n",
      "\u001b[1;31mValueError\u001b[0m: Found array with 0 sample(s) (shape=(0, 7)) while a minimum of 1 is required."
     ]
    }
   ],
   "source": [
    "# Train models\n",
    "for i in range(9):\n",
    "    model_color_clarity_dict[i].fit(x_color_clarity_dict[i], y_color_clarity_dict[i])"
   ]
  },
  {
   "cell_type": "code",
   "execution_count": null,
   "metadata": {},
   "outputs": [],
   "source": [
    "# Check individual scores\n",
    "for i in range(len(model_color_clarity_dict)):\n",
    "    print(model_color_clarity_dict[i].score(x_color_clarity_dict[i], y_color_clarity_dict[i]))\n"
   ]
  },
  {
   "cell_type": "code",
   "execution_count": null,
   "metadata": {},
   "outputs": [],
   "source": [
    "# Make predictions\n",
    "y_pred_color_clarity_dict = {}\n",
    "for i in range(len(model_color_clarity_dict)):\n",
    "    y_pred_color_clarity_dict[i] = model_color_clarity_dict[i].predict(x_color_clarity_dict[i])"
   ]
  },
  {
   "cell_type": "code",
   "execution_count": null,
   "metadata": {},
   "outputs": [],
   "source": [
    "# Check individual RMSE's\n",
    "for i in range(len(model_color_clarity_dict)):\n",
    "    print(np.sqrt(mean_squared_error(y_color_clarity_dict[i], y_pred_color_clarity_dict[i])))"
   ]
  },
  {
   "cell_type": "code",
   "execution_count": null,
   "metadata": {},
   "outputs": [],
   "source": [
    "color_bad = diamonds['n_color'] == 0\n",
    "color_med = diamonds['n_color'].between(1,2)\n",
    "color_good = diamonds['n_color'].between(3,4)\n",
    "color_nice = diamonds['n_color'].between(5,6)\n",
    "\n",
    "clarity_bad = diamonds['n_clarity'] == 0\n",
    "clarity_med = diamonds['n_clarity'].between(1,2)\n",
    "clarity_good = diamonds['n_clarity'].between(3,4)\n",
    "clarity_nice = diamonds['n_clarity'].between(5,7)"
   ]
  },
  {
   "cell_type": "code",
   "execution_count": null,
   "metadata": {},
   "outputs": [],
   "source": [
    "# Define funtion to verify which category each line fits into\n",
    "def verify_model_3(row,models):\n",
    "    if row['n_color'] == 0 and row['n_clarity'] == 0:\n",
    "        return models[0].predict(pd.DataFrame(row[column_list_2]).T)[0]\n",
    "    elif row['n_color'] == 0 and row['n_clarity'] in [1,2]:\n",
    "        return models[1].predict(pd.DataFrame(row[column_list_2]).T)[0]\n",
    "    elif row['n_color'] == 0 and row['n_clarity'] in [3,4]:\n",
    "        return models[2].predict(pd.DataFrame(row[column_list_2]).T)[0]\n",
    "    elif row['n_color'] == 0 and row['n_clarity'] in [5,6,7]:\n",
    "        return models[3].predict(pd.DataFrame(row[column_list_2]).T)[0]\n",
    "    elif row['n_color'] in [1,2] and row['n_clarity'] == 0:\n",
    "        return models[4].predict(pd.DataFrame(row[column_list_2]).T)[0]\n",
    "    elif row['n_color'] in [1,2] and row['n_clarity'] in [1,2]:\n",
    "        return models[5].predict(pd.DataFrame(row[column_list_2]).T)[0]\n",
    "    elif row['n_color'] in [1,2] and row['n_clarity'] in [3,4]:\n",
    "        return models[6].predict(pd.DataFrame(row[column_list_2]).T)[0]\n",
    "    elif row['n_color'] in [1,2] and row['n_clarity'] in [5,6,7]:\n",
    "        return models[7].predict(pd.DataFrame(row[column_list_2]).T)[0]\n",
    "    elif row['n_color'] in [3,4] and row['n_clarity'] == 0:\n",
    "        return models[8].predict(pd.DataFrame(row[column_list_2]).T)[0]\n",
    "    elif row['n_color'] in [3,4] and row['n_clarity'] in [1,2]:\n",
    "        return models[9].predict(pd.DataFrame(row[column_list_2]).T)[0]\n",
    "    elif row['n_color'] in [3,4] and row['n_clarity'] in [3,4]:\n",
    "        return models[10].predict(pd.DataFrame(row[column_list_2]).T)[0]\n",
    "    elif row['n_color'] in [3,4] and row['n_clarity'] in [5,6,7]:\n",
    "        return models[11].predict(pd.DataFrame(row[column_list_2]).T)[0]\n",
    "    elif row['n_color'] in [5,6] and row['n_clarity'] == 0:\n",
    "        return models[12].predict(pd.DataFrame(row[column_list_2]).T)[0]\n",
    "    elif row['n_color'] in [5,6] and row['n_clarity'] in [1,2]:\n",
    "        return models[13].predict(pd.DataFrame(row[column_list_2]).T)[0]\n",
    "    elif row['n_color'] in [5,6] and row['n_clarity'] in [3,4]:\n",
    "        return models[14].predict(pd.DataFrame(row[column_list_2]).T)[0]\n",
    "    elif row['n_color'] in [5,6] and row['n_clarity'] in [5,6,7]:\n",
    "        return models[15].predict(pd.DataFrame(row[column_list_2]).T)[0]"
   ]
  },
  {
   "cell_type": "code",
   "execution_count": null,
   "metadata": {},
   "outputs": [],
   "source": [
    "# Predict training diamonds\n",
    "predict_4 = x.apply(verify_model_3, models = {0:model_color_clarity_dict[0],\n",
    "                                                1:model_color_clarity_dict[1],\n",
    "                                                2:model_color_clarity_dict[2],\n",
    "                                                3:model_color_clarity_dict[3],\n",
    "                                                4:model_color_clarity_dict[4],\n",
    "                                                5:model_color_clarity_dict[5],\n",
    "                                                6:model_color_clarity_dict[6],\n",
    "                                                7:model_color_clarity_dict[7],\n",
    "                                                8:model_color_clarity_dict[8],\n",
    "                                                9:model_color_clarity_dict[9],\n",
    "                                                10:model_color_clarity_dict[10],\n",
    "                                                11:model_color_clarity_dict[11],\n",
    "                                                12:model_color_clarity_dict[12],\n",
    "                                                13:model_color_clarity_dict[13],\n",
    "                                                14:model_color_clarity_dict[14],\n",
    "                                                15:model_color_clarity_dict[15]\n",
    "                                            }, axis=1)"
   ]
  },
  {
   "cell_type": "code",
   "execution_count": null,
   "metadata": {},
   "outputs": [],
   "source": [
    "r2_score(y, predict_4)"
   ]
  },
  {
   "cell_type": "code",
   "execution_count": null,
   "metadata": {},
   "outputs": [],
   "source": [
    "np.sqrt(mean_squared_error(y, predict_4))"
   ]
  },
  {
   "cell_type": "code",
   "execution_count": null,
   "metadata": {},
   "outputs": [],
   "source": [
    "# Predict Rick's diamonds\n",
    "predict_rick = x_rick.apply(verify_model_3, models = {0:model_color_clarity_dict[0],\n",
    "                                                1:model_color_clarity_dict[1],\n",
    "                                                2:model_color_clarity_dict[2],\n",
    "                                                3:model_color_clarity_dict[3],\n",
    "                                                4:model_color_clarity_dict[4],\n",
    "                                                5:model_color_clarity_dict[5],\n",
    "                                                6:model_color_clarity_dict[6],\n",
    "                                                7:model_color_clarity_dict[7],\n",
    "                                                8:model_color_clarity_dict[8],\n",
    "                                                9:model_color_clarity_dict[9],\n",
    "                                                10:model_color_clarity_dict[10],\n",
    "                                                11:model_color_clarity_dict[11],\n",
    "                                                12:model_color_clarity_dict[12],\n",
    "                                                13:model_color_clarity_dict[13],\n",
    "                                                14:model_color_clarity_dict[14],\n",
    "                                                15:model_color_clarity_dict[15]\n",
    "                                            }, axis=1)"
   ]
  },
  {
   "cell_type": "code",
   "execution_count": null,
   "metadata": {},
   "outputs": [],
   "source": [
    "# Put the pices in Rick's DataFrame\n",
    "rick['price_predicted'] = predict_rick"
   ]
  },
  {
   "cell_type": "code",
   "execution_count": null,
   "metadata": {},
   "outputs": [],
   "source": [
    "# Save the DataFrame\n",
    "rick.to_csv('data/rick_diamonds_price_model5.csv')"
   ]
  }
 ],
 "metadata": {
  "kernelspec": {
   "display_name": "Python 3.9.12 ('base')",
   "language": "python",
   "name": "python3"
  },
  "language_info": {
   "codemirror_mode": {
    "name": "ipython",
    "version": 3
   },
   "file_extension": ".py",
   "mimetype": "text/x-python",
   "name": "python",
   "nbconvert_exporter": "python",
   "pygments_lexer": "ipython3",
   "version": "3.9.12"
  },
  "orig_nbformat": 4,
  "vscode": {
   "interpreter": {
    "hash": "2d90c038637108ac29aff4d22cdf99e3e2599f922ccc5532827d676edf9e0ab0"
   }
  }
 },
 "nbformat": 4,
 "nbformat_minor": 2
}
