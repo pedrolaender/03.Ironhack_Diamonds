{
 "cells": [
  {
   "cell_type": "markdown",
   "metadata": {},
   "source": [
    "# Import Libraries"
   ]
  },
  {
   "cell_type": "code",
   "execution_count": 8,
   "metadata": {},
   "outputs": [],
   "source": [
    "import pandas as pd\n",
    "import numpy as np\n",
    "import matplotlib.pyplot as plt\n",
    "import seaborn as sns\n",
    "from sklearn.linear_model import LinearRegression\n",
    "from sklearn.metrics import mean_squared_error\n",
    "from sklearn.preprocessing import StandardScaler\n",
    "from sklearn.metrics import r2_score"
   ]
  },
  {
   "cell_type": "markdown",
   "metadata": {},
   "source": [
    "# Create DataFrames"
   ]
  },
  {
   "cell_type": "code",
   "execution_count": 9,
   "metadata": {},
   "outputs": [
    {
     "data": {
      "text/html": [
       "<div>\n",
       "<style scoped>\n",
       "    .dataframe tbody tr th:only-of-type {\n",
       "        vertical-align: middle;\n",
       "    }\n",
       "\n",
       "    .dataframe tbody tr th {\n",
       "        vertical-align: top;\n",
       "    }\n",
       "\n",
       "    .dataframe thead th {\n",
       "        text-align: right;\n",
       "    }\n",
       "</style>\n",
       "<table border=\"1\" class=\"dataframe\">\n",
       "  <thead>\n",
       "    <tr style=\"text-align: right;\">\n",
       "      <th></th>\n",
       "      <th>carat</th>\n",
       "      <th>cut</th>\n",
       "      <th>color</th>\n",
       "      <th>clarity</th>\n",
       "      <th>depth</th>\n",
       "      <th>table</th>\n",
       "      <th>x</th>\n",
       "      <th>y</th>\n",
       "      <th>z</th>\n",
       "    </tr>\n",
       "  </thead>\n",
       "  <tbody>\n",
       "    <tr>\n",
       "      <th>0</th>\n",
       "      <td>0.91</td>\n",
       "      <td>Very Good</td>\n",
       "      <td>H</td>\n",
       "      <td>SI2</td>\n",
       "      <td>63.4</td>\n",
       "      <td>57.0</td>\n",
       "      <td>6.10</td>\n",
       "      <td>6.18</td>\n",
       "      <td>3.89</td>\n",
       "    </tr>\n",
       "    <tr>\n",
       "      <th>1</th>\n",
       "      <td>0.38</td>\n",
       "      <td>Good</td>\n",
       "      <td>F</td>\n",
       "      <td>VS2</td>\n",
       "      <td>60.3</td>\n",
       "      <td>61.0</td>\n",
       "      <td>4.68</td>\n",
       "      <td>4.71</td>\n",
       "      <td>2.83</td>\n",
       "    </tr>\n",
       "    <tr>\n",
       "      <th>2</th>\n",
       "      <td>0.52</td>\n",
       "      <td>Ideal</td>\n",
       "      <td>H</td>\n",
       "      <td>VS2</td>\n",
       "      <td>61.8</td>\n",
       "      <td>56.0</td>\n",
       "      <td>5.19</td>\n",
       "      <td>5.16</td>\n",
       "      <td>3.20</td>\n",
       "    </tr>\n",
       "    <tr>\n",
       "      <th>3</th>\n",
       "      <td>1.10</td>\n",
       "      <td>Ideal</td>\n",
       "      <td>G</td>\n",
       "      <td>VS1</td>\n",
       "      <td>61.3</td>\n",
       "      <td>56.0</td>\n",
       "      <td>6.65</td>\n",
       "      <td>6.69</td>\n",
       "      <td>4.09</td>\n",
       "    </tr>\n",
       "    <tr>\n",
       "      <th>4</th>\n",
       "      <td>2.28</td>\n",
       "      <td>Ideal</td>\n",
       "      <td>G</td>\n",
       "      <td>SI2</td>\n",
       "      <td>61.6</td>\n",
       "      <td>57.0</td>\n",
       "      <td>8.44</td>\n",
       "      <td>8.37</td>\n",
       "      <td>5.18</td>\n",
       "    </tr>\n",
       "  </tbody>\n",
       "</table>\n",
       "</div>"
      ],
      "text/plain": [
       "   carat        cut color clarity  depth  table     x     y     z\n",
       "0   0.91  Very Good     H     SI2   63.4   57.0  6.10  6.18  3.89\n",
       "1   0.38       Good     F     VS2   60.3   61.0  4.68  4.71  2.83\n",
       "2   0.52      Ideal     H     VS2   61.8   56.0  5.19  5.16  3.20\n",
       "3   1.10      Ideal     G     VS1   61.3   56.0  6.65  6.69  4.09\n",
       "4   2.28      Ideal     G     SI2   61.6   57.0  8.44  8.37  5.18"
      ]
     },
     "execution_count": 9,
     "metadata": {},
     "output_type": "execute_result"
    }
   ],
   "source": [
    "rick = pd.read_csv('data/rick_diamonds.csv')\n",
    "rick.head()"
   ]
  },
  {
   "cell_type": "code",
   "execution_count": 10,
   "metadata": {},
   "outputs": [
    {
     "data": {
      "text/html": [
       "<div>\n",
       "<style scoped>\n",
       "    .dataframe tbody tr th:only-of-type {\n",
       "        vertical-align: middle;\n",
       "    }\n",
       "\n",
       "    .dataframe tbody tr th {\n",
       "        vertical-align: top;\n",
       "    }\n",
       "\n",
       "    .dataframe thead th {\n",
       "        text-align: right;\n",
       "    }\n",
       "</style>\n",
       "<table border=\"1\" class=\"dataframe\">\n",
       "  <thead>\n",
       "    <tr style=\"text-align: right;\">\n",
       "      <th></th>\n",
       "      <th>carat</th>\n",
       "      <th>cut</th>\n",
       "      <th>color</th>\n",
       "      <th>clarity</th>\n",
       "      <th>depth</th>\n",
       "      <th>table</th>\n",
       "      <th>price</th>\n",
       "      <th>x</th>\n",
       "      <th>y</th>\n",
       "      <th>z</th>\n",
       "    </tr>\n",
       "  </thead>\n",
       "  <tbody>\n",
       "    <tr>\n",
       "      <th>0</th>\n",
       "      <td>0.21</td>\n",
       "      <td>Premium</td>\n",
       "      <td>E</td>\n",
       "      <td>SI1</td>\n",
       "      <td>59.8</td>\n",
       "      <td>61.0</td>\n",
       "      <td>326</td>\n",
       "      <td>3.89</td>\n",
       "      <td>3.84</td>\n",
       "      <td>2.31</td>\n",
       "    </tr>\n",
       "    <tr>\n",
       "      <th>1</th>\n",
       "      <td>0.23</td>\n",
       "      <td>Good</td>\n",
       "      <td>E</td>\n",
       "      <td>VS1</td>\n",
       "      <td>56.9</td>\n",
       "      <td>65.0</td>\n",
       "      <td>327</td>\n",
       "      <td>4.05</td>\n",
       "      <td>4.07</td>\n",
       "      <td>2.31</td>\n",
       "    </tr>\n",
       "    <tr>\n",
       "      <th>2</th>\n",
       "      <td>0.29</td>\n",
       "      <td>Premium</td>\n",
       "      <td>I</td>\n",
       "      <td>VS2</td>\n",
       "      <td>62.4</td>\n",
       "      <td>58.0</td>\n",
       "      <td>334</td>\n",
       "      <td>4.20</td>\n",
       "      <td>4.23</td>\n",
       "      <td>2.63</td>\n",
       "    </tr>\n",
       "    <tr>\n",
       "      <th>3</th>\n",
       "      <td>0.31</td>\n",
       "      <td>Good</td>\n",
       "      <td>J</td>\n",
       "      <td>SI2</td>\n",
       "      <td>63.3</td>\n",
       "      <td>58.0</td>\n",
       "      <td>335</td>\n",
       "      <td>4.34</td>\n",
       "      <td>4.35</td>\n",
       "      <td>2.75</td>\n",
       "    </tr>\n",
       "    <tr>\n",
       "      <th>4</th>\n",
       "      <td>0.24</td>\n",
       "      <td>Very Good</td>\n",
       "      <td>J</td>\n",
       "      <td>VVS2</td>\n",
       "      <td>62.8</td>\n",
       "      <td>57.0</td>\n",
       "      <td>336</td>\n",
       "      <td>3.94</td>\n",
       "      <td>3.96</td>\n",
       "      <td>2.48</td>\n",
       "    </tr>\n",
       "  </tbody>\n",
       "</table>\n",
       "</div>"
      ],
      "text/plain": [
       "   carat        cut color clarity  depth  table  price     x     y     z\n",
       "0   0.21    Premium     E     SI1   59.8   61.0    326  3.89  3.84  2.31\n",
       "1   0.23       Good     E     VS1   56.9   65.0    327  4.05  4.07  2.31\n",
       "2   0.29    Premium     I     VS2   62.4   58.0    334  4.20  4.23  2.63\n",
       "3   0.31       Good     J     SI2   63.3   58.0    335  4.34  4.35  2.75\n",
       "4   0.24  Very Good     J    VVS2   62.8   57.0    336  3.94  3.96  2.48"
      ]
     },
     "execution_count": 10,
     "metadata": {},
     "output_type": "execute_result"
    }
   ],
   "source": [
    "diamonds = pd.read_csv('data/diamonds.csv')\n",
    "diamonds.head()"
   ]
  },
  {
   "cell_type": "code",
   "execution_count": 11,
   "metadata": {},
   "outputs": [
    {
     "name": "stdout",
     "output_type": "stream",
     "text": [
      "<class 'pandas.core.frame.DataFrame'>\n",
      "RangeIndex: 48940 entries, 0 to 48939\n",
      "Data columns (total 10 columns):\n",
      " #   Column   Non-Null Count  Dtype  \n",
      "---  ------   --------------  -----  \n",
      " 0   carat    48940 non-null  float64\n",
      " 1   cut      48940 non-null  object \n",
      " 2   color    48940 non-null  object \n",
      " 3   clarity  48940 non-null  object \n",
      " 4   depth    48940 non-null  float64\n",
      " 5   table    48940 non-null  float64\n",
      " 6   price    48940 non-null  int64  \n",
      " 7   x        48940 non-null  float64\n",
      " 8   y        48940 non-null  float64\n",
      " 9   z        48940 non-null  float64\n",
      "dtypes: float64(6), int64(1), object(3)\n",
      "memory usage: 3.7+ MB\n"
     ]
    }
   ],
   "source": [
    "diamonds.info()"
   ]
  },
  {
   "cell_type": "code",
   "execution_count": 12,
   "metadata": {},
   "outputs": [
    {
     "data": {
      "text/html": [
       "<div>\n",
       "<style scoped>\n",
       "    .dataframe tbody tr th:only-of-type {\n",
       "        vertical-align: middle;\n",
       "    }\n",
       "\n",
       "    .dataframe tbody tr th {\n",
       "        vertical-align: top;\n",
       "    }\n",
       "\n",
       "    .dataframe thead th {\n",
       "        text-align: right;\n",
       "    }\n",
       "</style>\n",
       "<table border=\"1\" class=\"dataframe\">\n",
       "  <thead>\n",
       "    <tr style=\"text-align: right;\">\n",
       "      <th></th>\n",
       "      <th>carat</th>\n",
       "      <th>depth</th>\n",
       "      <th>table</th>\n",
       "      <th>price</th>\n",
       "      <th>x</th>\n",
       "      <th>y</th>\n",
       "      <th>z</th>\n",
       "    </tr>\n",
       "  </thead>\n",
       "  <tbody>\n",
       "    <tr>\n",
       "      <th>count</th>\n",
       "      <td>48940.000000</td>\n",
       "      <td>48940.000000</td>\n",
       "      <td>48940.000000</td>\n",
       "      <td>48940.000000</td>\n",
       "      <td>48940.000000</td>\n",
       "      <td>48940.000000</td>\n",
       "      <td>48940.000000</td>\n",
       "    </tr>\n",
       "    <tr>\n",
       "      <th>mean</th>\n",
       "      <td>0.797817</td>\n",
       "      <td>61.751931</td>\n",
       "      <td>57.451161</td>\n",
       "      <td>3934.409644</td>\n",
       "      <td>5.730712</td>\n",
       "      <td>5.734333</td>\n",
       "      <td>3.538648</td>\n",
       "    </tr>\n",
       "    <tr>\n",
       "      <th>std</th>\n",
       "      <td>0.474126</td>\n",
       "      <td>1.430026</td>\n",
       "      <td>2.233450</td>\n",
       "      <td>3989.333861</td>\n",
       "      <td>1.121920</td>\n",
       "      <td>1.145344</td>\n",
       "      <td>0.706817</td>\n",
       "    </tr>\n",
       "    <tr>\n",
       "      <th>min</th>\n",
       "      <td>0.200000</td>\n",
       "      <td>43.000000</td>\n",
       "      <td>43.000000</td>\n",
       "      <td>326.000000</td>\n",
       "      <td>0.000000</td>\n",
       "      <td>0.000000</td>\n",
       "      <td>0.000000</td>\n",
       "    </tr>\n",
       "    <tr>\n",
       "      <th>25%</th>\n",
       "      <td>0.400000</td>\n",
       "      <td>61.000000</td>\n",
       "      <td>56.000000</td>\n",
       "      <td>949.000000</td>\n",
       "      <td>4.710000</td>\n",
       "      <td>4.720000</td>\n",
       "      <td>2.910000</td>\n",
       "    </tr>\n",
       "    <tr>\n",
       "      <th>50%</th>\n",
       "      <td>0.700000</td>\n",
       "      <td>61.800000</td>\n",
       "      <td>57.000000</td>\n",
       "      <td>2401.000000</td>\n",
       "      <td>5.690000</td>\n",
       "      <td>5.710000</td>\n",
       "      <td>3.520000</td>\n",
       "    </tr>\n",
       "    <tr>\n",
       "      <th>75%</th>\n",
       "      <td>1.040000</td>\n",
       "      <td>62.500000</td>\n",
       "      <td>59.000000</td>\n",
       "      <td>5331.250000</td>\n",
       "      <td>6.540000</td>\n",
       "      <td>6.540000</td>\n",
       "      <td>4.040000</td>\n",
       "    </tr>\n",
       "    <tr>\n",
       "      <th>max</th>\n",
       "      <td>5.010000</td>\n",
       "      <td>79.000000</td>\n",
       "      <td>95.000000</td>\n",
       "      <td>18823.000000</td>\n",
       "      <td>10.740000</td>\n",
       "      <td>58.900000</td>\n",
       "      <td>31.800000</td>\n",
       "    </tr>\n",
       "  </tbody>\n",
       "</table>\n",
       "</div>"
      ],
      "text/plain": [
       "              carat         depth         table         price             x  \\\n",
       "count  48940.000000  48940.000000  48940.000000  48940.000000  48940.000000   \n",
       "mean       0.797817     61.751931     57.451161   3934.409644      5.730712   \n",
       "std        0.474126      1.430026      2.233450   3989.333861      1.121920   \n",
       "min        0.200000     43.000000     43.000000    326.000000      0.000000   \n",
       "25%        0.400000     61.000000     56.000000    949.000000      4.710000   \n",
       "50%        0.700000     61.800000     57.000000   2401.000000      5.690000   \n",
       "75%        1.040000     62.500000     59.000000   5331.250000      6.540000   \n",
       "max        5.010000     79.000000     95.000000  18823.000000     10.740000   \n",
       "\n",
       "                  y             z  \n",
       "count  48940.000000  48940.000000  \n",
       "mean       5.734333      3.538648  \n",
       "std        1.145344      0.706817  \n",
       "min        0.000000      0.000000  \n",
       "25%        4.720000      2.910000  \n",
       "50%        5.710000      3.520000  \n",
       "75%        6.540000      4.040000  \n",
       "max       58.900000     31.800000  "
      ]
     },
     "execution_count": 12,
     "metadata": {},
     "output_type": "execute_result"
    }
   ],
   "source": [
    "diamonds.describe()"
   ]
  },
  {
   "cell_type": "code",
   "execution_count": 13,
   "metadata": {},
   "outputs": [
    {
     "data": {
      "text/plain": [
       "(48940, 10)"
      ]
     },
     "execution_count": 13,
     "metadata": {},
     "output_type": "execute_result"
    }
   ],
   "source": [
    "diamonds.shape"
   ]
  },
  {
   "cell_type": "markdown",
   "metadata": {},
   "source": [
    "# Cleaning the Data"
   ]
  },
  {
   "cell_type": "markdown",
   "metadata": {},
   "source": [
    "### Transform Categorical into Numeric"
   ]
  },
  {
   "cell_type": "code",
   "execution_count": 14,
   "metadata": {},
   "outputs": [
    {
     "data": {
      "text/plain": [
       "array(['Premium', 'Good', 'Very Good', 'Ideal', 'Fair'], dtype=object)"
      ]
     },
     "execution_count": 14,
     "metadata": {},
     "output_type": "execute_result"
    }
   ],
   "source": [
    "diamonds['clarity'].value_counts()\n",
    "diamonds['color'].unique()\n",
    "diamonds['cut'].unique()"
   ]
  },
  {
   "cell_type": "code",
   "execution_count": 15,
   "metadata": {},
   "outputs": [],
   "source": [
    "clarity_dict = {'I1':0,'SI2':1,'SI1':2,'VS2':3,'VS1':4,'VVS2':5,'VVS1':6,'IF':7}\n",
    "color_dict = {'J':0,'I':1,'H':2,'G':3,'F':4,'E':5,'D':6}\n",
    "cut_dict = {'Fair':0,'Good':1,'Very Good':2,'Premium':3,'Ideal':4}"
   ]
  },
  {
   "cell_type": "code",
   "execution_count": 16,
   "metadata": {},
   "outputs": [],
   "source": [
    "diamonds['n_cut'] = diamonds['cut'].map(cut_dict)\n",
    "diamonds['n_color'] = diamonds['color'].map(color_dict)\n",
    "diamonds['n_clarity'] = diamonds['clarity'].map(clarity_dict)"
   ]
  },
  {
   "cell_type": "code",
   "execution_count": 17,
   "metadata": {},
   "outputs": [
    {
     "data": {
      "text/html": [
       "<div>\n",
       "<style scoped>\n",
       "    .dataframe tbody tr th:only-of-type {\n",
       "        vertical-align: middle;\n",
       "    }\n",
       "\n",
       "    .dataframe tbody tr th {\n",
       "        vertical-align: top;\n",
       "    }\n",
       "\n",
       "    .dataframe thead th {\n",
       "        text-align: right;\n",
       "    }\n",
       "</style>\n",
       "<table border=\"1\" class=\"dataframe\">\n",
       "  <thead>\n",
       "    <tr style=\"text-align: right;\">\n",
       "      <th></th>\n",
       "      <th>carat</th>\n",
       "      <th>cut</th>\n",
       "      <th>color</th>\n",
       "      <th>clarity</th>\n",
       "      <th>depth</th>\n",
       "      <th>table</th>\n",
       "      <th>price</th>\n",
       "      <th>x</th>\n",
       "      <th>y</th>\n",
       "      <th>z</th>\n",
       "      <th>n_cut</th>\n",
       "      <th>n_color</th>\n",
       "      <th>n_clarity</th>\n",
       "    </tr>\n",
       "  </thead>\n",
       "  <tbody>\n",
       "    <tr>\n",
       "      <th>0</th>\n",
       "      <td>0.21</td>\n",
       "      <td>Premium</td>\n",
       "      <td>E</td>\n",
       "      <td>SI1</td>\n",
       "      <td>59.8</td>\n",
       "      <td>61.0</td>\n",
       "      <td>326</td>\n",
       "      <td>3.89</td>\n",
       "      <td>3.84</td>\n",
       "      <td>2.31</td>\n",
       "      <td>3</td>\n",
       "      <td>5</td>\n",
       "      <td>2</td>\n",
       "    </tr>\n",
       "    <tr>\n",
       "      <th>1</th>\n",
       "      <td>0.23</td>\n",
       "      <td>Good</td>\n",
       "      <td>E</td>\n",
       "      <td>VS1</td>\n",
       "      <td>56.9</td>\n",
       "      <td>65.0</td>\n",
       "      <td>327</td>\n",
       "      <td>4.05</td>\n",
       "      <td>4.07</td>\n",
       "      <td>2.31</td>\n",
       "      <td>1</td>\n",
       "      <td>5</td>\n",
       "      <td>4</td>\n",
       "    </tr>\n",
       "    <tr>\n",
       "      <th>2</th>\n",
       "      <td>0.29</td>\n",
       "      <td>Premium</td>\n",
       "      <td>I</td>\n",
       "      <td>VS2</td>\n",
       "      <td>62.4</td>\n",
       "      <td>58.0</td>\n",
       "      <td>334</td>\n",
       "      <td>4.20</td>\n",
       "      <td>4.23</td>\n",
       "      <td>2.63</td>\n",
       "      <td>3</td>\n",
       "      <td>1</td>\n",
       "      <td>3</td>\n",
       "    </tr>\n",
       "    <tr>\n",
       "      <th>3</th>\n",
       "      <td>0.31</td>\n",
       "      <td>Good</td>\n",
       "      <td>J</td>\n",
       "      <td>SI2</td>\n",
       "      <td>63.3</td>\n",
       "      <td>58.0</td>\n",
       "      <td>335</td>\n",
       "      <td>4.34</td>\n",
       "      <td>4.35</td>\n",
       "      <td>2.75</td>\n",
       "      <td>1</td>\n",
       "      <td>0</td>\n",
       "      <td>1</td>\n",
       "    </tr>\n",
       "    <tr>\n",
       "      <th>4</th>\n",
       "      <td>0.24</td>\n",
       "      <td>Very Good</td>\n",
       "      <td>J</td>\n",
       "      <td>VVS2</td>\n",
       "      <td>62.8</td>\n",
       "      <td>57.0</td>\n",
       "      <td>336</td>\n",
       "      <td>3.94</td>\n",
       "      <td>3.96</td>\n",
       "      <td>2.48</td>\n",
       "      <td>2</td>\n",
       "      <td>0</td>\n",
       "      <td>5</td>\n",
       "    </tr>\n",
       "  </tbody>\n",
       "</table>\n",
       "</div>"
      ],
      "text/plain": [
       "   carat        cut color clarity  depth  table  price     x     y     z  \\\n",
       "0   0.21    Premium     E     SI1   59.8   61.0    326  3.89  3.84  2.31   \n",
       "1   0.23       Good     E     VS1   56.9   65.0    327  4.05  4.07  2.31   \n",
       "2   0.29    Premium     I     VS2   62.4   58.0    334  4.20  4.23  2.63   \n",
       "3   0.31       Good     J     SI2   63.3   58.0    335  4.34  4.35  2.75   \n",
       "4   0.24  Very Good     J    VVS2   62.8   57.0    336  3.94  3.96  2.48   \n",
       "\n",
       "   n_cut  n_color  n_clarity  \n",
       "0      3        5          2  \n",
       "1      1        5          4  \n",
       "2      3        1          3  \n",
       "3      1        0          1  \n",
       "4      2        0          5  "
      ]
     },
     "execution_count": 17,
     "metadata": {},
     "output_type": "execute_result"
    }
   ],
   "source": [
    "diamonds.head()"
   ]
  },
  {
   "cell_type": "code",
   "execution_count": 18,
   "metadata": {},
   "outputs": [
    {
     "data": {
      "text/html": [
       "<div>\n",
       "<style scoped>\n",
       "    .dataframe tbody tr th:only-of-type {\n",
       "        vertical-align: middle;\n",
       "    }\n",
       "\n",
       "    .dataframe tbody tr th {\n",
       "        vertical-align: top;\n",
       "    }\n",
       "\n",
       "    .dataframe thead th {\n",
       "        text-align: right;\n",
       "    }\n",
       "</style>\n",
       "<table border=\"1\" class=\"dataframe\">\n",
       "  <thead>\n",
       "    <tr style=\"text-align: right;\">\n",
       "      <th></th>\n",
       "      <th>carat</th>\n",
       "      <th>depth</th>\n",
       "      <th>table</th>\n",
       "      <th>price</th>\n",
       "      <th>x</th>\n",
       "      <th>y</th>\n",
       "      <th>z</th>\n",
       "      <th>n_cut</th>\n",
       "      <th>n_color</th>\n",
       "      <th>n_clarity</th>\n",
       "    </tr>\n",
       "  </thead>\n",
       "  <tbody>\n",
       "    <tr>\n",
       "      <th>count</th>\n",
       "      <td>48940.000000</td>\n",
       "      <td>48940.000000</td>\n",
       "      <td>48940.000000</td>\n",
       "      <td>48940.000000</td>\n",
       "      <td>48940.000000</td>\n",
       "      <td>48940.000000</td>\n",
       "      <td>48940.000000</td>\n",
       "      <td>48940.000000</td>\n",
       "      <td>48940.000000</td>\n",
       "      <td>48940.000000</td>\n",
       "    </tr>\n",
       "    <tr>\n",
       "      <th>mean</th>\n",
       "      <td>0.797817</td>\n",
       "      <td>61.751931</td>\n",
       "      <td>57.451161</td>\n",
       "      <td>3934.409644</td>\n",
       "      <td>5.730712</td>\n",
       "      <td>5.734333</td>\n",
       "      <td>3.538648</td>\n",
       "      <td>2.906416</td>\n",
       "      <td>3.407254</td>\n",
       "      <td>3.055456</td>\n",
       "    </tr>\n",
       "    <tr>\n",
       "      <th>std</th>\n",
       "      <td>0.474126</td>\n",
       "      <td>1.430026</td>\n",
       "      <td>2.233450</td>\n",
       "      <td>3989.333861</td>\n",
       "      <td>1.121920</td>\n",
       "      <td>1.145344</td>\n",
       "      <td>0.706817</td>\n",
       "      <td>1.116568</td>\n",
       "      <td>1.699858</td>\n",
       "      <td>1.645542</td>\n",
       "    </tr>\n",
       "    <tr>\n",
       "      <th>min</th>\n",
       "      <td>0.200000</td>\n",
       "      <td>43.000000</td>\n",
       "      <td>43.000000</td>\n",
       "      <td>326.000000</td>\n",
       "      <td>0.000000</td>\n",
       "      <td>0.000000</td>\n",
       "      <td>0.000000</td>\n",
       "      <td>0.000000</td>\n",
       "      <td>0.000000</td>\n",
       "      <td>0.000000</td>\n",
       "    </tr>\n",
       "    <tr>\n",
       "      <th>25%</th>\n",
       "      <td>0.400000</td>\n",
       "      <td>61.000000</td>\n",
       "      <td>56.000000</td>\n",
       "      <td>949.000000</td>\n",
       "      <td>4.710000</td>\n",
       "      <td>4.720000</td>\n",
       "      <td>2.910000</td>\n",
       "      <td>2.000000</td>\n",
       "      <td>2.000000</td>\n",
       "      <td>2.000000</td>\n",
       "    </tr>\n",
       "    <tr>\n",
       "      <th>50%</th>\n",
       "      <td>0.700000</td>\n",
       "      <td>61.800000</td>\n",
       "      <td>57.000000</td>\n",
       "      <td>2401.000000</td>\n",
       "      <td>5.690000</td>\n",
       "      <td>5.710000</td>\n",
       "      <td>3.520000</td>\n",
       "      <td>3.000000</td>\n",
       "      <td>3.000000</td>\n",
       "      <td>3.000000</td>\n",
       "    </tr>\n",
       "    <tr>\n",
       "      <th>75%</th>\n",
       "      <td>1.040000</td>\n",
       "      <td>62.500000</td>\n",
       "      <td>59.000000</td>\n",
       "      <td>5331.250000</td>\n",
       "      <td>6.540000</td>\n",
       "      <td>6.540000</td>\n",
       "      <td>4.040000</td>\n",
       "      <td>4.000000</td>\n",
       "      <td>5.000000</td>\n",
       "      <td>4.000000</td>\n",
       "    </tr>\n",
       "    <tr>\n",
       "      <th>max</th>\n",
       "      <td>5.010000</td>\n",
       "      <td>79.000000</td>\n",
       "      <td>95.000000</td>\n",
       "      <td>18823.000000</td>\n",
       "      <td>10.740000</td>\n",
       "      <td>58.900000</td>\n",
       "      <td>31.800000</td>\n",
       "      <td>4.000000</td>\n",
       "      <td>6.000000</td>\n",
       "      <td>7.000000</td>\n",
       "    </tr>\n",
       "  </tbody>\n",
       "</table>\n",
       "</div>"
      ],
      "text/plain": [
       "              carat         depth         table         price             x  \\\n",
       "count  48940.000000  48940.000000  48940.000000  48940.000000  48940.000000   \n",
       "mean       0.797817     61.751931     57.451161   3934.409644      5.730712   \n",
       "std        0.474126      1.430026      2.233450   3989.333861      1.121920   \n",
       "min        0.200000     43.000000     43.000000    326.000000      0.000000   \n",
       "25%        0.400000     61.000000     56.000000    949.000000      4.710000   \n",
       "50%        0.700000     61.800000     57.000000   2401.000000      5.690000   \n",
       "75%        1.040000     62.500000     59.000000   5331.250000      6.540000   \n",
       "max        5.010000     79.000000     95.000000  18823.000000     10.740000   \n",
       "\n",
       "                  y             z         n_cut       n_color     n_clarity  \n",
       "count  48940.000000  48940.000000  48940.000000  48940.000000  48940.000000  \n",
       "mean       5.734333      3.538648      2.906416      3.407254      3.055456  \n",
       "std        1.145344      0.706817      1.116568      1.699858      1.645542  \n",
       "min        0.000000      0.000000      0.000000      0.000000      0.000000  \n",
       "25%        4.720000      2.910000      2.000000      2.000000      2.000000  \n",
       "50%        5.710000      3.520000      3.000000      3.000000      3.000000  \n",
       "75%        6.540000      4.040000      4.000000      5.000000      4.000000  \n",
       "max       58.900000     31.800000      4.000000      6.000000      7.000000  "
      ]
     },
     "execution_count": 18,
     "metadata": {},
     "output_type": "execute_result"
    }
   ],
   "source": [
    "diamonds.describe()"
   ]
  },
  {
   "cell_type": "code",
   "execution_count": 19,
   "metadata": {},
   "outputs": [
    {
     "name": "stdout",
     "output_type": "stream",
     "text": [
      "<class 'pandas.core.frame.DataFrame'>\n",
      "RangeIndex: 48940 entries, 0 to 48939\n",
      "Data columns (total 13 columns):\n",
      " #   Column     Non-Null Count  Dtype  \n",
      "---  ------     --------------  -----  \n",
      " 0   carat      48940 non-null  float64\n",
      " 1   cut        48940 non-null  object \n",
      " 2   color      48940 non-null  object \n",
      " 3   clarity    48940 non-null  object \n",
      " 4   depth      48940 non-null  float64\n",
      " 5   table      48940 non-null  float64\n",
      " 6   price      48940 non-null  int64  \n",
      " 7   x          48940 non-null  float64\n",
      " 8   y          48940 non-null  float64\n",
      " 9   z          48940 non-null  float64\n",
      " 10  n_cut      48940 non-null  int64  \n",
      " 11  n_color    48940 non-null  int64  \n",
      " 12  n_clarity  48940 non-null  int64  \n",
      "dtypes: float64(6), int64(4), object(3)\n",
      "memory usage: 4.9+ MB\n"
     ]
    }
   ],
   "source": [
    "diamonds.info()"
   ]
  },
  {
   "cell_type": "markdown",
   "metadata": {},
   "source": [
    "## Check variables correlation"
   ]
  },
  {
   "cell_type": "code",
   "execution_count": 20,
   "metadata": {},
   "outputs": [
    {
     "data": {
      "text/plain": [
       "<seaborn.axisgrid.PairGrid at 0x23e88e8f4f0>"
      ]
     },
     "execution_count": 20,
     "metadata": {},
     "output_type": "execute_result"
    },
    {
     "data": {
      "image/png": "[encoded data removed]",
      "text/plain": [
       "<Figure size 1800x180 with 11 Axes>"
      ]
     },
     "metadata": {
      "needs_background": "light"
     },
     "output_type": "display_data"
    }
   ],
   "source": [
    "sns.pairplot(data=diamonds, y_vars='price', kind='reg')"
   ]
  },
  {
   "cell_type": "code",
   "execution_count": 21,
   "metadata": {},
   "outputs": [
    {
     "data": {
      "text/plain": [
       "carat        0.922186\n",
       "depth       -0.012037\n",
       "table        0.127832\n",
       "price        1.000000\n",
       "x            0.885019\n",
       "y            0.864059\n",
       "z            0.860247\n",
       "n_cut       -0.055150\n",
       "n_color     -0.173129\n",
       "n_clarity   -0.148668\n",
       "Name: price, dtype: float64"
      ]
     },
     "execution_count": 21,
     "metadata": {},
     "output_type": "execute_result"
    }
   ],
   "source": [
    "diamonds.corr()['price']"
   ]
  },
  {
   "cell_type": "markdown",
   "metadata": {},
   "source": [
    "# Create model"
   ]
  },
  {
   "cell_type": "markdown",
   "metadata": {},
   "source": [
    "## Model #1\n",
    "\n",
    "### Model with all variables"
   ]
  },
  {
   "cell_type": "code",
   "execution_count": 22,
   "metadata": {},
   "outputs": [],
   "source": [
    "#Instanciante LinearRegression object\n",
    "model = LinearRegression()"
   ]
  },
  {
   "cell_type": "code",
   "execution_count": 23,
   "metadata": {},
   "outputs": [],
   "source": [
    "#Define X and Y\n",
    "x = diamonds.drop(['price', 'color', 'cut', 'clarity'], axis=1)\n",
    "y = diamonds['price']"
   ]
  },
  {
   "cell_type": "code",
   "execution_count": 24,
   "metadata": {},
   "outputs": [
    {
     "data": {
      "text/plain": [
       "LinearRegression()"
      ]
     },
     "execution_count": 24,
     "metadata": {},
     "output_type": "execute_result"
    }
   ],
   "source": [
    "#Train the model\n",
    "model.fit(x, y)"
   ]
  },
  {
   "cell_type": "code",
   "execution_count": 25,
   "metadata": {},
   "outputs": [],
   "source": [
    "# Create predict\n",
    "y_pred = model.predict(x)"
   ]
  },
  {
   "cell_type": "code",
   "execution_count": 26,
   "metadata": {},
   "outputs": [
    {
     "data": {
      "text/plain": [
       "1210.8731792324443"
      ]
     },
     "execution_count": 26,
     "metadata": {},
     "output_type": "execute_result"
    }
   ],
   "source": [
    "#Check RMSE\n",
    "np.sqrt(mean_squared_error(y, y_pred))"
   ]
  },
  {
   "cell_type": "code",
   "execution_count": 27,
   "metadata": {},
   "outputs": [
    {
     "data": {
      "text/plain": [
       "0.907869075931077"
      ]
     },
     "execution_count": 27,
     "metadata": {},
     "output_type": "execute_result"
    }
   ],
   "source": [
    "#Check R2 Score\n",
    "r2_score(y, y_pred)\n",
    "model.score(x, y)"
   ]
  },
  {
   "cell_type": "code",
   "execution_count": 43,
   "metadata": {},
   "outputs": [
    {
     "data": {
      "text/plain": [
       "<seaborn.axisgrid.PairGrid at 0x23e9222db20>"
      ]
     },
     "execution_count": 43,
     "metadata": {},
     "output_type": "execute_result"
    },
    {
     "data": {
      "image/png": "[encoded data removed]",
      "text/plain": [
       "<Figure size 554.625x504 with 1 Axes>"
      ]
     },
     "metadata": {
      "needs_background": "light"
     },
     "output_type": "display_data"
    }
   ],
   "source": [
    "sns.pairplot(diamonds,y_vars='price', x_vars ='carat', hue = 'n_clarity',palette = 'rainbow',height = 7)"
   ]
  },
  {
   "cell_type": "markdown",
   "metadata": {},
   "source": [
    "## Model #1 Result - RMSE: 1210,8732"
   ]
  },
  {
   "cell_type": "markdown",
   "metadata": {},
   "source": [
    "## Model #2\n",
    "## Idea - Create different coefficients for Clarity\n",
    "### Separete Clarity in 4 bins"
   ]
  },
  {
   "cell_type": "code",
   "execution_count": 46,
   "metadata": {},
   "outputs": [],
   "source": [
    "# Other variables column list\n",
    "column_list = ['carat', 'depth', 'table', 'x', 'y', 'z', 'n_cut', 'n_color']"
   ]
  },
  {
   "cell_type": "code",
   "execution_count": 47,
   "metadata": {},
   "outputs": [],
   "source": [
    "# Create clarity mask (4 bins)\n",
    "clarity_bad = diamonds['n_clarity'] == 0\n",
    "clarity_med = diamonds['n_clarity'].between(1,2)\n",
    "clarity_good = diamonds['n_clarity'].between(3,4)\n",
    "clarity_nice = diamonds['n_clarity'].between(5,7)"
   ]
  },
  {
   "cell_type": "code",
   "execution_count": 48,
   "metadata": {},
   "outputs": [],
   "source": [
    "# Define X and Y with clarity mask\n",
    "x_clarity_bad = diamonds.loc[clarity_bad, column_list]\n",
    "x_clarity_med = diamonds.loc[clarity_med, column_list]\n",
    "x_clarity_good = diamonds.loc[clarity_good, column_list]\n",
    "x_clarity_nice = diamonds.loc[clarity_nice, column_list]\n",
    "\n",
    "y_clarity_bad = diamonds.loc[clarity_bad, 'price']\n",
    "y_clarity_med = diamonds.loc[clarity_med, 'price']\n",
    "y_clarity_good = diamonds.loc[clarity_good, 'price']\n",
    "y_clarity_nice = diamonds.loc[clarity_nice, 'price']"
   ]
  },
  {
   "cell_type": "code",
   "execution_count": 49,
   "metadata": {},
   "outputs": [],
   "source": [
    "# Instanciate one model per bin\n",
    "model_clarity_bad = LinearRegression()\n",
    "model_clarity_med = LinearRegression()\n",
    "model_clarity_good = LinearRegression()\n",
    "model_clarity_nice = LinearRegression()"
   ]
  },
  {
   "cell_type": "code",
   "execution_count": 50,
   "metadata": {},
   "outputs": [
    {
     "data": {
      "text/plain": [
       "LinearRegression()"
      ]
     },
     "execution_count": 50,
     "metadata": {},
     "output_type": "execute_result"
    }
   ],
   "source": [
    "# Train models\n",
    "model_clarity_bad.fit(x_clarity_bad, y_clarity_bad)\n",
    "model_clarity_med.fit(x_clarity_med, y_clarity_med)\n",
    "model_clarity_good.fit(x_clarity_good, y_clarity_good)\n",
    "model_clarity_nice.fit(x_clarity_nice, y_clarity_nice)"
   ]
  },
  {
   "cell_type": "code",
   "execution_count": 51,
   "metadata": {},
   "outputs": [
    {
     "name": "stdout",
     "output_type": "stream",
     "text": [
      "0.9278779823237592\n",
      "0.9369951738091329\n",
      "0.9366079304382791\n",
      "0.9220235110798918\n"
     ]
    }
   ],
   "source": [
    "# Check individual score\n",
    "print(model_clarity_bad.score(x_clarity_bad, y_clarity_bad))\n",
    "print(model_clarity_med.score(x_clarity_med, y_clarity_med))\n",
    "print(model_clarity_good.score(x_clarity_good, y_clarity_good))\n",
    "print(model_clarity_nice.score(x_clarity_nice, y_clarity_nice))"
   ]
  },
  {
   "cell_type": "code",
   "execution_count": 52,
   "metadata": {},
   "outputs": [],
   "source": [
    "# Make predictions\n",
    "y_pred_clarity_bad = model_clarity_bad.predict(x_clarity_bad)\n",
    "y_pred_clarity_med = model_clarity_med.predict(x_clarity_med)\n",
    "y_pred_clarity_good = model_clarity_good.predict(x_clarity_good)\n",
    "y_pred_clarity_nice = model_clarity_nice.predict(x_clarity_nice)"
   ]
  },
  {
   "cell_type": "code",
   "execution_count": 53,
   "metadata": {},
   "outputs": [
    {
     "name": "stdout",
     "output_type": "stream",
     "text": [
      "753.3436447024467\n",
      "1013.987527290792\n",
      "1012.5664261007228\n",
      "1028.7056086021323\n"
     ]
    }
   ],
   "source": [
    "# Check individuals RMSE's\n",
    "print(np.sqrt(mean_squared_error(y_clarity_bad, y_pred_clarity_bad)))\n",
    "print(np.sqrt(mean_squared_error(y_clarity_med, y_pred_clarity_med)))\n",
    "print(np.sqrt(mean_squared_error(y_clarity_good, y_pred_clarity_good)))\n",
    "print(np.sqrt(mean_squared_error(y_clarity_nice, y_pred_clarity_nice)))"
   ]
  },
  {
   "cell_type": "code",
   "execution_count": 57,
   "metadata": {},
   "outputs": [],
   "source": [
    "# Define funtion to verify which category each line fits into\n",
    "def verify_model(row,models):\n",
    "    if row['n_clarity'] == 0:\n",
    "        return models['bad'].predict(pd.DataFrame(row[column_list]).T)[0]\n",
    "    elif row['n_clarity'] in [1,2] :\n",
    "        return models['med'].predict(pd.DataFrame(row[column_list]).T)[0]\n",
    "    elif row['n_clarity'] in [3,4]:\n",
    "        return models['good'].predict(pd.DataFrame(row[column_list]).T)[0]\n",
    "    else:\n",
    "        return models['nice'].predict(pd.DataFrame(row[column_list]).T)[0]"
   ]
  },
  {
   "cell_type": "code",
   "execution_count": 55,
   "metadata": {},
   "outputs": [],
   "source": [
    "predict = x.apply(verify_model, models = {'bad':model_clarity_bad,\n",
    "                                            'med':model_clarity_med,\n",
    "                                            'good':model_clarity_good,\n",
    "                                            'nice':model_clarity_nice}, axis=1)"
   ]
  },
  {
   "cell_type": "code",
   "execution_count": 56,
   "metadata": {},
   "outputs": [
    {
     "data": {
      "text/plain": [
       "0.9354824025692671"
      ]
     },
     "execution_count": 56,
     "metadata": {},
     "output_type": "execute_result"
    }
   ],
   "source": [
    "# Check new R2 Score\n",
    "r2_score(y, predict)"
   ]
  },
  {
   "cell_type": "code",
   "execution_count": 58,
   "metadata": {},
   "outputs": [
    {
     "data": {
      "text/plain": [
       "1013.2929925851224"
      ]
     },
     "execution_count": 58,
     "metadata": {},
     "output_type": "execute_result"
    }
   ],
   "source": [
    "# Check new RMSE\n",
    "np.sqrt(mean_squared_error(y, predict))"
   ]
  },
  {
   "cell_type": "markdown",
   "metadata": {},
   "source": [
    "## Model #2 Result - RMSE: 1013,2930"
   ]
  },
  {
   "cell_type": "markdown",
   "metadata": {},
   "source": [
    "## Model #3\n",
    "## Idea - Create different coefficients for color\n",
    "### Separete Color in 4 bins"
   ]
  },
  {
   "cell_type": "code",
   "execution_count": 64,
   "metadata": {},
   "outputs": [],
   "source": [
    "# Other variables column list\n",
    "column_list_1 = ['carat', 'depth', 'table', 'x', 'y', 'z', 'n_cut', 'n_clarity']"
   ]
  },
  {
   "cell_type": "code",
   "execution_count": 65,
   "metadata": {},
   "outputs": [],
   "source": [
    "# Create color mask\n",
    "color_bad = diamonds['n_color'] == 0\n",
    "color_med = diamonds['n_color'].between(1,2)\n",
    "color_good = diamonds['n_color'].between(3,4)\n",
    "color_nice = diamonds['n_color'].between(5,6)"
   ]
  },
  {
   "cell_type": "code",
   "execution_count": 66,
   "metadata": {},
   "outputs": [],
   "source": [
    "# Define X and Y with color mask\n",
    "x_color_bad = diamonds.loc[color_bad, column_list_1]\n",
    "x_color_med = diamonds.loc[color_med, column_list_1]\n",
    "x_color_good = diamonds.loc[color_good, column_list_1]\n",
    "x_color_nice = diamonds.loc[color_nice, column_list_1]\n",
    "\n",
    "y_color_bad = diamonds.loc[color_bad, 'price']\n",
    "y_color_med = diamonds.loc[color_med, 'price']\n",
    "y_color_good = diamonds.loc[color_good, 'price']\n",
    "y_color_nice = diamonds.loc[color_nice, 'price']"
   ]
  },
  {
   "cell_type": "code",
   "execution_count": 67,
   "metadata": {},
   "outputs": [],
   "source": [
    "# Instanciate one model per bin\n",
    "model_color_bad = LinearRegression()\n",
    "model_color_med = LinearRegression()\n",
    "model_color_good = LinearRegression()\n",
    "model_color_nice = LinearRegression()"
   ]
  },
  {
   "cell_type": "code",
   "execution_count": 68,
   "metadata": {},
   "outputs": [
    {
     "data": {
      "text/plain": [
       "LinearRegression()"
      ]
     },
     "execution_count": 68,
     "metadata": {},
     "output_type": "execute_result"
    }
   ],
   "source": [
    "# Train models\n",
    "model_color_bad.fit(x_color_bad, y_color_bad)\n",
    "model_color_med.fit(x_color_med, y_color_med)\n",
    "model_color_good.fit(x_color_good, y_color_good)\n",
    "model_color_nice.fit(x_color_nice, y_color_nice)"
   ]
  },
  {
   "cell_type": "code",
   "execution_count": 69,
   "metadata": {},
   "outputs": [
    {
     "name": "stdout",
     "output_type": "stream",
     "text": [
      "0.9392346699124128\n",
      "0.9287524386218162\n",
      "0.9128189526699374\n",
      "0.8971447516135809\n"
     ]
    }
   ],
   "source": [
    "# Check individual scores\n",
    "print(model_color_bad.score(x_color_bad, y_color_bad))\n",
    "print(model_color_med.score(x_color_med, y_color_med))\n",
    "print(model_color_good.score(x_color_good, y_color_good))\n",
    "print(model_color_nice.score(x_color_nice, y_color_nice))"
   ]
  },
  {
   "cell_type": "code",
   "execution_count": 73,
   "metadata": {},
   "outputs": [],
   "source": [
    "# Make predictions\n",
    "y_pred_color_bad = model_color_bad.predict(x_color_bad)\n",
    "y_pred_color_med = model_color_med.predict(x_color_med)\n",
    "y_pred_color_good = model_color_good.predict(x_color_good)\n",
    "y_pred_color_nice = model_color_nice.predict(x_color_nice)"
   ]
  },
  {
   "cell_type": "code",
   "execution_count": 74,
   "metadata": {},
   "outputs": [
    {
     "name": "stdout",
     "output_type": "stream",
     "text": [
      "1094.5478780735498\n",
      "1184.953862142621\n",
      "1159.1035564641852\n",
      "1075.3656395317034\n"
     ]
    }
   ],
   "source": [
    "# Check individual RMSE's\n",
    "print(np.sqrt(mean_squared_error(y_color_bad, y_pred_color_bad)))\n",
    "print(np.sqrt(mean_squared_error(y_color_med, y_pred_color_med)))\n",
    "print(np.sqrt(mean_squared_error(y_color_good, y_pred_color_good)))\n",
    "print(np.sqrt(mean_squared_error(y_color_nice, y_pred_color_nice)))"
   ]
  },
  {
   "cell_type": "code",
   "execution_count": 75,
   "metadata": {},
   "outputs": [],
   "source": [
    "# Define funtion to verify which category each line fits into\n",
    "def verify_model_2(row,models):\n",
    "    if row['n_color'] == 0:\n",
    "        return models['bad'].predict(pd.DataFrame(row[column_list]).T)[0]\n",
    "    elif row['n_color'] in [1,2] :\n",
    "        return models['med'].predict(pd.DataFrame(row[column_list]).T)[0]\n",
    "    elif row['n_color'] in [3,4]:\n",
    "        return models['good'].predict(pd.DataFrame(row[column_list]).T)[0]\n",
    "    else:\n",
    "        return models['nice'].predict(pd.DataFrame(row[column_list]).T)[0]"
   ]
  },
  {
   "cell_type": "code",
   "execution_count": 79,
   "metadata": {},
   "outputs": [],
   "source": [
    "\n",
    "predict_2 = x.apply(verify_model_2, models = {'bad':model_color_bad,\n",
    "                                            'med':model_color_med,\n",
    "                                            'good':model_color_good,\n",
    "                                            'nice':model_color_nice}, axis=1)"
   ]
  },
  {
   "cell_type": "code",
   "execution_count": 80,
   "metadata": {},
   "outputs": [
    {
     "data": {
      "text/plain": [
       "0.9186964525834563"
      ]
     },
     "execution_count": 80,
     "metadata": {},
     "output_type": "execute_result"
    }
   ],
   "source": [
    "#Check new R2 Score\n",
    "r2_score(y, predict_2)"
   ]
  },
  {
   "cell_type": "code",
   "execution_count": 81,
   "metadata": {},
   "outputs": [
    {
     "data": {
      "text/plain": [
       "1137.4981359909848"
      ]
     },
     "execution_count": 81,
     "metadata": {},
     "output_type": "execute_result"
    }
   ],
   "source": [
    "#Chekc new RMSE\n",
    "np.sqrt(mean_squared_error(y, predict_2))"
   ]
  },
  {
   "cell_type": "markdown",
   "metadata": {},
   "source": [
    "## Model #3 Result - RMSE: 1137,4981"
   ]
  },
  {
   "cell_type": "markdown",
   "metadata": {},
   "source": [
    "## Model #4\n",
    "## Idea - mix model #2 and #3"
   ]
  },
  {
   "cell_type": "code",
   "execution_count": 96,
   "metadata": {},
   "outputs": [],
   "source": [
    "column_list_2 = ['carat', 'depth', 'table', 'x', 'y', 'z', 'n_cut']"
   ]
  },
  {
   "cell_type": "code",
   "execution_count": 99,
   "metadata": {},
   "outputs": [],
   "source": [
    "# Create color and clarity mask\n",
    "color_bad = diamonds['n_color'] == 0\n",
    "color_med = diamonds['n_color'].between(1,2)\n",
    "color_good = diamonds['n_color'].between(3,4)\n",
    "color_nice = diamonds['n_color'].between(5,6)\n",
    "color_mask = {'bad':color_bad,'med':color_med, 'good':color_good, 'nice':color_nice}\n",
    "\n",
    "clarity_bad = diamonds['n_clarity'] == 0\n",
    "clarity_med = diamonds['n_clarity'].between(1,2)\n",
    "clarity_good = diamonds['n_clarity'].between(3,4)\n",
    "clarity_nice = diamonds['n_clarity'].between(5,7)\n",
    "clarity_mask = {'bad':clarity_bad,'med':clarity_med, 'good':clarity_good, 'nice':clarity_nice}\n",
    "\n",
    "#clarity_mask [[clarity_bad, clarity_med, clarity_good, clarity_nice]]\n"
   ]
  },
  {
   "cell_type": "code",
   "execution_count": 113,
   "metadata": {},
   "outputs": [
    {
     "data": {
      "text/html": [
       "<div>\n",
       "<style scoped>\n",
       "    .dataframe tbody tr th:only-of-type {\n",
       "        vertical-align: middle;\n",
       "    }\n",
       "\n",
       "    .dataframe tbody tr th {\n",
       "        vertical-align: top;\n",
       "    }\n",
       "\n",
       "    .dataframe thead th {\n",
       "        text-align: right;\n",
       "    }\n",
       "</style>\n",
       "<table border=\"1\" class=\"dataframe\">\n",
       "  <thead>\n",
       "    <tr style=\"text-align: right;\">\n",
       "      <th></th>\n",
       "      <th>carat</th>\n",
       "      <th>cut</th>\n",
       "      <th>color</th>\n",
       "      <th>clarity</th>\n",
       "      <th>depth</th>\n",
       "      <th>table</th>\n",
       "      <th>price</th>\n",
       "      <th>x</th>\n",
       "      <th>y</th>\n",
       "      <th>z</th>\n",
       "      <th>n_cut</th>\n",
       "      <th>n_color</th>\n",
       "      <th>n_clarity</th>\n",
       "    </tr>\n",
       "  </thead>\n",
       "  <tbody>\n",
       "    <tr>\n",
       "      <th>162</th>\n",
       "      <td>1.17</td>\n",
       "      <td>Very Good</td>\n",
       "      <td>J</td>\n",
       "      <td>I1</td>\n",
       "      <td>60.2</td>\n",
       "      <td>61.0</td>\n",
       "      <td>2774</td>\n",
       "      <td>6.83</td>\n",
       "      <td>6.90</td>\n",
       "      <td>4.13</td>\n",
       "      <td>2</td>\n",
       "      <td>0</td>\n",
       "      <td>0</td>\n",
       "    </tr>\n",
       "    <tr>\n",
       "      <th>484</th>\n",
       "      <td>1.17</td>\n",
       "      <td>Premium</td>\n",
       "      <td>J</td>\n",
       "      <td>I1</td>\n",
       "      <td>60.2</td>\n",
       "      <td>61.0</td>\n",
       "      <td>2825</td>\n",
       "      <td>6.90</td>\n",
       "      <td>6.83</td>\n",
       "      <td>4.13</td>\n",
       "      <td>3</td>\n",
       "      <td>0</td>\n",
       "      <td>0</td>\n",
       "    </tr>\n",
       "    <tr>\n",
       "      <th>1115</th>\n",
       "      <td>1.24</td>\n",
       "      <td>Very Good</td>\n",
       "      <td>J</td>\n",
       "      <td>I1</td>\n",
       "      <td>61.9</td>\n",
       "      <td>55.0</td>\n",
       "      <td>2940</td>\n",
       "      <td>6.85</td>\n",
       "      <td>6.92</td>\n",
       "      <td>4.26</td>\n",
       "      <td>2</td>\n",
       "      <td>0</td>\n",
       "      <td>0</td>\n",
       "    </tr>\n",
       "    <tr>\n",
       "      <th>1385</th>\n",
       "      <td>1.24</td>\n",
       "      <td>Premium</td>\n",
       "      <td>J</td>\n",
       "      <td>I1</td>\n",
       "      <td>61.9</td>\n",
       "      <td>55.0</td>\n",
       "      <td>2994</td>\n",
       "      <td>6.92</td>\n",
       "      <td>6.85</td>\n",
       "      <td>4.26</td>\n",
       "      <td>3</td>\n",
       "      <td>0</td>\n",
       "      <td>0</td>\n",
       "    </tr>\n",
       "    <tr>\n",
       "      <th>1461</th>\n",
       "      <td>1.20</td>\n",
       "      <td>Fair</td>\n",
       "      <td>J</td>\n",
       "      <td>I1</td>\n",
       "      <td>64.9</td>\n",
       "      <td>59.0</td>\n",
       "      <td>3011</td>\n",
       "      <td>6.61</td>\n",
       "      <td>6.54</td>\n",
       "      <td>4.27</td>\n",
       "      <td>0</td>\n",
       "      <td>0</td>\n",
       "      <td>0</td>\n",
       "    </tr>\n",
       "    <tr>\n",
       "      <th>7008</th>\n",
       "      <td>1.50</td>\n",
       "      <td>Fair</td>\n",
       "      <td>J</td>\n",
       "      <td>I1</td>\n",
       "      <td>68.8</td>\n",
       "      <td>57.0</td>\n",
       "      <td>4284</td>\n",
       "      <td>6.94</td>\n",
       "      <td>6.87</td>\n",
       "      <td>4.75</td>\n",
       "      <td>0</td>\n",
       "      <td>0</td>\n",
       "      <td>0</td>\n",
       "    </tr>\n",
       "    <tr>\n",
       "      <th>8044</th>\n",
       "      <td>1.54</td>\n",
       "      <td>Good</td>\n",
       "      <td>J</td>\n",
       "      <td>I1</td>\n",
       "      <td>61.7</td>\n",
       "      <td>60.0</td>\n",
       "      <td>4492</td>\n",
       "      <td>7.26</td>\n",
       "      <td>7.32</td>\n",
       "      <td>4.50</td>\n",
       "      <td>1</td>\n",
       "      <td>0</td>\n",
       "      <td>0</td>\n",
       "    </tr>\n",
       "    <tr>\n",
       "      <th>8545</th>\n",
       "      <td>1.51</td>\n",
       "      <td>Very Good</td>\n",
       "      <td>J</td>\n",
       "      <td>I1</td>\n",
       "      <td>63.3</td>\n",
       "      <td>57.0</td>\n",
       "      <td>4600</td>\n",
       "      <td>7.31</td>\n",
       "      <td>7.23</td>\n",
       "      <td>4.60</td>\n",
       "      <td>2</td>\n",
       "      <td>0</td>\n",
       "      <td>0</td>\n",
       "    </tr>\n",
       "    <tr>\n",
       "      <th>10521</th>\n",
       "      <td>2.00</td>\n",
       "      <td>Premium</td>\n",
       "      <td>J</td>\n",
       "      <td>I1</td>\n",
       "      <td>61.5</td>\n",
       "      <td>59.0</td>\n",
       "      <td>5051</td>\n",
       "      <td>8.11</td>\n",
       "      <td>8.06</td>\n",
       "      <td>4.97</td>\n",
       "      <td>3</td>\n",
       "      <td>0</td>\n",
       "      <td>0</td>\n",
       "    </tr>\n",
       "    <tr>\n",
       "      <th>10835</th>\n",
       "      <td>1.50</td>\n",
       "      <td>Very Good</td>\n",
       "      <td>J</td>\n",
       "      <td>I1</td>\n",
       "      <td>63.3</td>\n",
       "      <td>58.0</td>\n",
       "      <td>5141</td>\n",
       "      <td>7.27</td>\n",
       "      <td>7.23</td>\n",
       "      <td>4.59</td>\n",
       "      <td>2</td>\n",
       "      <td>0</td>\n",
       "      <td>0</td>\n",
       "    </tr>\n",
       "    <tr>\n",
       "      <th>11011</th>\n",
       "      <td>1.69</td>\n",
       "      <td>Very Good</td>\n",
       "      <td>J</td>\n",
       "      <td>I1</td>\n",
       "      <td>60.2</td>\n",
       "      <td>61.0</td>\n",
       "      <td>5182</td>\n",
       "      <td>7.70</td>\n",
       "      <td>7.79</td>\n",
       "      <td>4.66</td>\n",
       "      <td>2</td>\n",
       "      <td>0</td>\n",
       "      <td>0</td>\n",
       "    </tr>\n",
       "    <tr>\n",
       "      <th>11081</th>\n",
       "      <td>2.06</td>\n",
       "      <td>Premium</td>\n",
       "      <td>J</td>\n",
       "      <td>I1</td>\n",
       "      <td>61.2</td>\n",
       "      <td>58.0</td>\n",
       "      <td>5203</td>\n",
       "      <td>8.10</td>\n",
       "      <td>8.07</td>\n",
       "      <td>4.95</td>\n",
       "      <td>3</td>\n",
       "      <td>0</td>\n",
       "      <td>0</td>\n",
       "    </tr>\n",
       "    <tr>\n",
       "      <th>11241</th>\n",
       "      <td>1.72</td>\n",
       "      <td>Fair</td>\n",
       "      <td>J</td>\n",
       "      <td>I1</td>\n",
       "      <td>68.5</td>\n",
       "      <td>59.0</td>\n",
       "      <td>5240</td>\n",
       "      <td>7.31</td>\n",
       "      <td>7.24</td>\n",
       "      <td>4.98</td>\n",
       "      <td>0</td>\n",
       "      <td>0</td>\n",
       "      <td>0</td>\n",
       "    </tr>\n",
       "    <tr>\n",
       "      <th>11363</th>\n",
       "      <td>1.69</td>\n",
       "      <td>Premium</td>\n",
       "      <td>J</td>\n",
       "      <td>I1</td>\n",
       "      <td>60.2</td>\n",
       "      <td>61.0</td>\n",
       "      <td>5277</td>\n",
       "      <td>7.79</td>\n",
       "      <td>7.70</td>\n",
       "      <td>4.66</td>\n",
       "      <td>3</td>\n",
       "      <td>0</td>\n",
       "      <td>0</td>\n",
       "    </tr>\n",
       "    <tr>\n",
       "      <th>11746</th>\n",
       "      <td>2.14</td>\n",
       "      <td>Fair</td>\n",
       "      <td>J</td>\n",
       "      <td>I1</td>\n",
       "      <td>69.4</td>\n",
       "      <td>57.0</td>\n",
       "      <td>5405</td>\n",
       "      <td>7.74</td>\n",
       "      <td>7.70</td>\n",
       "      <td>5.36</td>\n",
       "      <td>0</td>\n",
       "      <td>0</td>\n",
       "      <td>0</td>\n",
       "    </tr>\n",
       "    <tr>\n",
       "      <th>11854</th>\n",
       "      <td>2.15</td>\n",
       "      <td>Fair</td>\n",
       "      <td>J</td>\n",
       "      <td>I1</td>\n",
       "      <td>65.5</td>\n",
       "      <td>57.0</td>\n",
       "      <td>5430</td>\n",
       "      <td>8.01</td>\n",
       "      <td>7.95</td>\n",
       "      <td>5.23</td>\n",
       "      <td>0</td>\n",
       "      <td>0</td>\n",
       "      <td>0</td>\n",
       "    </tr>\n",
       "    <tr>\n",
       "      <th>12436</th>\n",
       "      <td>2.22</td>\n",
       "      <td>Fair</td>\n",
       "      <td>J</td>\n",
       "      <td>I1</td>\n",
       "      <td>66.7</td>\n",
       "      <td>56.0</td>\n",
       "      <td>5607</td>\n",
       "      <td>8.04</td>\n",
       "      <td>8.02</td>\n",
       "      <td>5.36</td>\n",
       "      <td>0</td>\n",
       "      <td>0</td>\n",
       "      <td>0</td>\n",
       "    </tr>\n",
       "    <tr>\n",
       "      <th>12775</th>\n",
       "      <td>2.27</td>\n",
       "      <td>Fair</td>\n",
       "      <td>J</td>\n",
       "      <td>I1</td>\n",
       "      <td>67.6</td>\n",
       "      <td>55.0</td>\n",
       "      <td>5733</td>\n",
       "      <td>8.05</td>\n",
       "      <td>8.00</td>\n",
       "      <td>5.43</td>\n",
       "      <td>0</td>\n",
       "      <td>0</td>\n",
       "      <td>0</td>\n",
       "    </tr>\n",
       "    <tr>\n",
       "      <th>13109</th>\n",
       "      <td>1.81</td>\n",
       "      <td>Fair</td>\n",
       "      <td>J</td>\n",
       "      <td>I1</td>\n",
       "      <td>68.0</td>\n",
       "      <td>57.0</td>\n",
       "      <td>5859</td>\n",
       "      <td>7.43</td>\n",
       "      <td>7.39</td>\n",
       "      <td>5.04</td>\n",
       "      <td>0</td>\n",
       "      <td>0</td>\n",
       "      <td>0</td>\n",
       "    </tr>\n",
       "    <tr>\n",
       "      <th>14187</th>\n",
       "      <td>2.49</td>\n",
       "      <td>Fair</td>\n",
       "      <td>J</td>\n",
       "      <td>I1</td>\n",
       "      <td>66.3</td>\n",
       "      <td>58.0</td>\n",
       "      <td>6289</td>\n",
       "      <td>8.26</td>\n",
       "      <td>8.18</td>\n",
       "      <td>5.45</td>\n",
       "      <td>0</td>\n",
       "      <td>0</td>\n",
       "      <td>0</td>\n",
       "    </tr>\n",
       "    <tr>\n",
       "      <th>14750</th>\n",
       "      <td>2.00</td>\n",
       "      <td>Good</td>\n",
       "      <td>J</td>\n",
       "      <td>I1</td>\n",
       "      <td>63.6</td>\n",
       "      <td>62.0</td>\n",
       "      <td>6521</td>\n",
       "      <td>7.97</td>\n",
       "      <td>7.80</td>\n",
       "      <td>5.02</td>\n",
       "      <td>1</td>\n",
       "      <td>0</td>\n",
       "      <td>0</td>\n",
       "    </tr>\n",
       "    <tr>\n",
       "      <th>15408</th>\n",
       "      <td>2.00</td>\n",
       "      <td>Fair</td>\n",
       "      <td>J</td>\n",
       "      <td>I1</td>\n",
       "      <td>66.5</td>\n",
       "      <td>56.0</td>\n",
       "      <td>6796</td>\n",
       "      <td>7.93</td>\n",
       "      <td>7.80</td>\n",
       "      <td>5.23</td>\n",
       "      <td>0</td>\n",
       "      <td>0</td>\n",
       "      <td>0</td>\n",
       "    </tr>\n",
       "    <tr>\n",
       "      <th>15562</th>\n",
       "      <td>2.72</td>\n",
       "      <td>Fair</td>\n",
       "      <td>J</td>\n",
       "      <td>I1</td>\n",
       "      <td>68.2</td>\n",
       "      <td>56.0</td>\n",
       "      <td>6870</td>\n",
       "      <td>8.46</td>\n",
       "      <td>8.43</td>\n",
       "      <td>5.76</td>\n",
       "      <td>0</td>\n",
       "      <td>0</td>\n",
       "      <td>0</td>\n",
       "    </tr>\n",
       "    <tr>\n",
       "      <th>18531</th>\n",
       "      <td>2.74</td>\n",
       "      <td>Fair</td>\n",
       "      <td>J</td>\n",
       "      <td>I1</td>\n",
       "      <td>64.9</td>\n",
       "      <td>61.0</td>\n",
       "      <td>8807</td>\n",
       "      <td>8.76</td>\n",
       "      <td>8.66</td>\n",
       "      <td>5.65</td>\n",
       "      <td>0</td>\n",
       "      <td>0</td>\n",
       "      <td>0</td>\n",
       "    </tr>\n",
       "    <tr>\n",
       "      <th>20312</th>\n",
       "      <td>2.63</td>\n",
       "      <td>Very Good</td>\n",
       "      <td>J</td>\n",
       "      <td>I1</td>\n",
       "      <td>62.3</td>\n",
       "      <td>61.0</td>\n",
       "      <td>10437</td>\n",
       "      <td>8.76</td>\n",
       "      <td>8.81</td>\n",
       "      <td>5.47</td>\n",
       "      <td>2</td>\n",
       "      <td>0</td>\n",
       "      <td>0</td>\n",
       "    </tr>\n",
       "    <tr>\n",
       "      <th>20468</th>\n",
       "      <td>2.63</td>\n",
       "      <td>Premium</td>\n",
       "      <td>J</td>\n",
       "      <td>I1</td>\n",
       "      <td>62.3</td>\n",
       "      <td>61.0</td>\n",
       "      <td>10628</td>\n",
       "      <td>8.81</td>\n",
       "      <td>8.76</td>\n",
       "      <td>5.47</td>\n",
       "      <td>3</td>\n",
       "      <td>0</td>\n",
       "      <td>0</td>\n",
       "    </tr>\n",
       "    <tr>\n",
       "      <th>23578</th>\n",
       "      <td>4.01</td>\n",
       "      <td>Premium</td>\n",
       "      <td>J</td>\n",
       "      <td>I1</td>\n",
       "      <td>62.5</td>\n",
       "      <td>62.0</td>\n",
       "      <td>15223</td>\n",
       "      <td>10.02</td>\n",
       "      <td>9.94</td>\n",
       "      <td>6.24</td>\n",
       "      <td>3</td>\n",
       "      <td>0</td>\n",
       "      <td>0</td>\n",
       "    </tr>\n",
       "    <tr>\n",
       "      <th>24239</th>\n",
       "      <td>3.01</td>\n",
       "      <td>Ideal</td>\n",
       "      <td>J</td>\n",
       "      <td>I1</td>\n",
       "      <td>65.4</td>\n",
       "      <td>60.0</td>\n",
       "      <td>16538</td>\n",
       "      <td>8.99</td>\n",
       "      <td>8.93</td>\n",
       "      <td>5.86</td>\n",
       "      <td>4</td>\n",
       "      <td>0</td>\n",
       "      <td>0</td>\n",
       "    </tr>\n",
       "    <tr>\n",
       "      <th>24851</th>\n",
       "      <td>5.01</td>\n",
       "      <td>Fair</td>\n",
       "      <td>J</td>\n",
       "      <td>I1</td>\n",
       "      <td>65.5</td>\n",
       "      <td>59.0</td>\n",
       "      <td>18018</td>\n",
       "      <td>10.74</td>\n",
       "      <td>10.54</td>\n",
       "      <td>6.98</td>\n",
       "      <td>0</td>\n",
       "      <td>0</td>\n",
       "      <td>0</td>\n",
       "    </tr>\n",
       "    <tr>\n",
       "      <th>25047</th>\n",
       "      <td>4.50</td>\n",
       "      <td>Fair</td>\n",
       "      <td>J</td>\n",
       "      <td>I1</td>\n",
       "      <td>65.8</td>\n",
       "      <td>58.0</td>\n",
       "      <td>18531</td>\n",
       "      <td>10.23</td>\n",
       "      <td>10.16</td>\n",
       "      <td>6.72</td>\n",
       "      <td>0</td>\n",
       "      <td>0</td>\n",
       "      <td>0</td>\n",
       "    </tr>\n",
       "    <tr>\n",
       "      <th>33161</th>\n",
       "      <td>0.72</td>\n",
       "      <td>Premium</td>\n",
       "      <td>J</td>\n",
       "      <td>I1</td>\n",
       "      <td>62.9</td>\n",
       "      <td>59.0</td>\n",
       "      <td>945</td>\n",
       "      <td>5.80</td>\n",
       "      <td>5.63</td>\n",
       "      <td>3.58</td>\n",
       "      <td>3</td>\n",
       "      <td>0</td>\n",
       "      <td>0</td>\n",
       "    </tr>\n",
       "    <tr>\n",
       "      <th>35563</th>\n",
       "      <td>0.70</td>\n",
       "      <td>Fair</td>\n",
       "      <td>J</td>\n",
       "      <td>I1</td>\n",
       "      <td>64.7</td>\n",
       "      <td>59.0</td>\n",
       "      <td>1066</td>\n",
       "      <td>5.59</td>\n",
       "      <td>5.50</td>\n",
       "      <td>3.59</td>\n",
       "      <td>0</td>\n",
       "      <td>0</td>\n",
       "      <td>0</td>\n",
       "    </tr>\n",
       "    <tr>\n",
       "      <th>38677</th>\n",
       "      <td>0.85</td>\n",
       "      <td>Fair</td>\n",
       "      <td>J</td>\n",
       "      <td>I1</td>\n",
       "      <td>65.5</td>\n",
       "      <td>59.0</td>\n",
       "      <td>1334</td>\n",
       "      <td>5.95</td>\n",
       "      <td>5.82</td>\n",
       "      <td>3.86</td>\n",
       "      <td>0</td>\n",
       "      <td>0</td>\n",
       "      <td>0</td>\n",
       "    </tr>\n",
       "    <tr>\n",
       "      <th>41235</th>\n",
       "      <td>1.00</td>\n",
       "      <td>Premium</td>\n",
       "      <td>J</td>\n",
       "      <td>I1</td>\n",
       "      <td>58.3</td>\n",
       "      <td>58.0</td>\n",
       "      <td>1681</td>\n",
       "      <td>6.61</td>\n",
       "      <td>6.51</td>\n",
       "      <td>3.82</td>\n",
       "      <td>3</td>\n",
       "      <td>0</td>\n",
       "      <td>0</td>\n",
       "    </tr>\n",
       "    <tr>\n",
       "      <th>42213</th>\n",
       "      <td>1.00</td>\n",
       "      <td>Fair</td>\n",
       "      <td>J</td>\n",
       "      <td>I1</td>\n",
       "      <td>65.0</td>\n",
       "      <td>59.0</td>\n",
       "      <td>1784</td>\n",
       "      <td>6.27</td>\n",
       "      <td>6.17</td>\n",
       "      <td>4.05</td>\n",
       "      <td>0</td>\n",
       "      <td>0</td>\n",
       "      <td>0</td>\n",
       "    </tr>\n",
       "    <tr>\n",
       "      <th>43329</th>\n",
       "      <td>0.99</td>\n",
       "      <td>Fair</td>\n",
       "      <td>J</td>\n",
       "      <td>I1</td>\n",
       "      <td>62.9</td>\n",
       "      <td>58.0</td>\n",
       "      <td>1901</td>\n",
       "      <td>6.33</td>\n",
       "      <td>6.10</td>\n",
       "      <td>3.91</td>\n",
       "      <td>0</td>\n",
       "      <td>0</td>\n",
       "      <td>0</td>\n",
       "    </tr>\n",
       "    <tr>\n",
       "      <th>43678</th>\n",
       "      <td>0.91</td>\n",
       "      <td>Good</td>\n",
       "      <td>J</td>\n",
       "      <td>I1</td>\n",
       "      <td>63.1</td>\n",
       "      <td>57.0</td>\n",
       "      <td>1945</td>\n",
       "      <td>6.06</td>\n",
       "      <td>6.12</td>\n",
       "      <td>3.84</td>\n",
       "      <td>1</td>\n",
       "      <td>0</td>\n",
       "      <td>0</td>\n",
       "    </tr>\n",
       "    <tr>\n",
       "      <th>44427</th>\n",
       "      <td>0.91</td>\n",
       "      <td>Very Good</td>\n",
       "      <td>J</td>\n",
       "      <td>I1</td>\n",
       "      <td>63.1</td>\n",
       "      <td>57.0</td>\n",
       "      <td>2048</td>\n",
       "      <td>6.12</td>\n",
       "      <td>6.06</td>\n",
       "      <td>3.84</td>\n",
       "      <td>2</td>\n",
       "      <td>0</td>\n",
       "      <td>0</td>\n",
       "    </tr>\n",
       "    <tr>\n",
       "      <th>45361</th>\n",
       "      <td>0.95</td>\n",
       "      <td>Premium</td>\n",
       "      <td>J</td>\n",
       "      <td>I1</td>\n",
       "      <td>61.7</td>\n",
       "      <td>59.0</td>\n",
       "      <td>2195</td>\n",
       "      <td>6.32</td>\n",
       "      <td>6.26</td>\n",
       "      <td>3.88</td>\n",
       "      <td>3</td>\n",
       "      <td>0</td>\n",
       "      <td>0</td>\n",
       "    </tr>\n",
       "    <tr>\n",
       "      <th>46222</th>\n",
       "      <td>0.95</td>\n",
       "      <td>Fair</td>\n",
       "      <td>J</td>\n",
       "      <td>I1</td>\n",
       "      <td>64.9</td>\n",
       "      <td>56.0</td>\n",
       "      <td>2322</td>\n",
       "      <td>6.17</td>\n",
       "      <td>6.12</td>\n",
       "      <td>3.99</td>\n",
       "      <td>0</td>\n",
       "      <td>0</td>\n",
       "      <td>0</td>\n",
       "    </tr>\n",
       "    <tr>\n",
       "      <th>46628</th>\n",
       "      <td>0.97</td>\n",
       "      <td>Ideal</td>\n",
       "      <td>J</td>\n",
       "      <td>I1</td>\n",
       "      <td>61.6</td>\n",
       "      <td>54.0</td>\n",
       "      <td>2370</td>\n",
       "      <td>6.34</td>\n",
       "      <td>6.28</td>\n",
       "      <td>3.89</td>\n",
       "      <td>4</td>\n",
       "      <td>0</td>\n",
       "      <td>0</td>\n",
       "    </tr>\n",
       "    <tr>\n",
       "      <th>46784</th>\n",
       "      <td>1.03</td>\n",
       "      <td>Premium</td>\n",
       "      <td>J</td>\n",
       "      <td>I1</td>\n",
       "      <td>62.8</td>\n",
       "      <td>55.0</td>\n",
       "      <td>2392</td>\n",
       "      <td>6.43</td>\n",
       "      <td>6.41</td>\n",
       "      <td>4.03</td>\n",
       "      <td>3</td>\n",
       "      <td>0</td>\n",
       "      <td>0</td>\n",
       "    </tr>\n",
       "    <tr>\n",
       "      <th>47394</th>\n",
       "      <td>1.01</td>\n",
       "      <td>Premium</td>\n",
       "      <td>J</td>\n",
       "      <td>I1</td>\n",
       "      <td>60.7</td>\n",
       "      <td>59.0</td>\n",
       "      <td>2488</td>\n",
       "      <td>6.39</td>\n",
       "      <td>6.42</td>\n",
       "      <td>3.89</td>\n",
       "      <td>3</td>\n",
       "      <td>0</td>\n",
       "      <td>0</td>\n",
       "    </tr>\n",
       "    <tr>\n",
       "      <th>48115</th>\n",
       "      <td>1.01</td>\n",
       "      <td>Premium</td>\n",
       "      <td>J</td>\n",
       "      <td>I1</td>\n",
       "      <td>60.7</td>\n",
       "      <td>59.0</td>\n",
       "      <td>2602</td>\n",
       "      <td>6.42</td>\n",
       "      <td>6.39</td>\n",
       "      <td>3.89</td>\n",
       "      <td>3</td>\n",
       "      <td>0</td>\n",
       "      <td>0</td>\n",
       "    </tr>\n",
       "    <tr>\n",
       "      <th>48671</th>\n",
       "      <td>1.05</td>\n",
       "      <td>Very Good</td>\n",
       "      <td>J</td>\n",
       "      <td>I1</td>\n",
       "      <td>59.6</td>\n",
       "      <td>63.0</td>\n",
       "      <td>2705</td>\n",
       "      <td>6.61</td>\n",
       "      <td>6.55</td>\n",
       "      <td>3.92</td>\n",
       "      <td>2</td>\n",
       "      <td>0</td>\n",
       "      <td>0</td>\n",
       "    </tr>\n",
       "  </tbody>\n",
       "</table>\n",
       "</div>"
      ],
      "text/plain": [
       "       carat        cut color clarity  depth  table  price      x      y  \\\n",
       "162     1.17  Very Good     J      I1   60.2   61.0   2774   6.83   6.90   \n",
       "484     1.17    Premium     J      I1   60.2   61.0   2825   6.90   6.83   \n",
       "1115    1.24  Very Good     J      I1   61.9   55.0   2940   6.85   6.92   \n",
       "1385    1.24    Premium     J      I1   61.9   55.0   2994   6.92   6.85   \n",
       "1461    1.20       Fair     J      I1   64.9   59.0   3011   6.61   6.54   \n",
       "7008    1.50       Fair     J      I1   68.8   57.0   4284   6.94   6.87   \n",
       "8044    1.54       Good     J      I1   61.7   60.0   4492   7.26   7.32   \n",
       "8545    1.51  Very Good     J      I1   63.3   57.0   4600   7.31   7.23   \n",
       "10521   2.00    Premium     J      I1   61.5   59.0   5051   8.11   8.06   \n",
       "10835   1.50  Very Good     J      I1   63.3   58.0   5141   7.27   7.23   \n",
       "11011   1.69  Very Good     J      I1   60.2   61.0   5182   7.70   7.79   \n",
       "11081   2.06    Premium     J      I1   61.2   58.0   5203   8.10   8.07   \n",
       "11241   1.72       Fair     J      I1   68.5   59.0   5240   7.31   7.24   \n",
       "11363   1.69    Premium     J      I1   60.2   61.0   5277   7.79   7.70   \n",
       "11746   2.14       Fair     J      I1   69.4   57.0   5405   7.74   7.70   \n",
       "11854   2.15       Fair     J      I1   65.5   57.0   5430   8.01   7.95   \n",
       "12436   2.22       Fair     J      I1   66.7   56.0   5607   8.04   8.02   \n",
       "12775   2.27       Fair     J      I1   67.6   55.0   5733   8.05   8.00   \n",
       "13109   1.81       Fair     J      I1   68.0   57.0   5859   7.43   7.39   \n",
       "14187   2.49       Fair     J      I1   66.3   58.0   6289   8.26   8.18   \n",
       "14750   2.00       Good     J      I1   63.6   62.0   6521   7.97   7.80   \n",
       "15408   2.00       Fair     J      I1   66.5   56.0   6796   7.93   7.80   \n",
       "15562   2.72       Fair     J      I1   68.2   56.0   6870   8.46   8.43   \n",
       "18531   2.74       Fair     J      I1   64.9   61.0   8807   8.76   8.66   \n",
       "20312   2.63  Very Good     J      I1   62.3   61.0  10437   8.76   8.81   \n",
       "20468   2.63    Premium     J      I1   62.3   61.0  10628   8.81   8.76   \n",
       "23578   4.01    Premium     J      I1   62.5   62.0  15223  10.02   9.94   \n",
       "24239   3.01      Ideal     J      I1   65.4   60.0  16538   8.99   8.93   \n",
       "24851   5.01       Fair     J      I1   65.5   59.0  18018  10.74  10.54   \n",
       "25047   4.50       Fair     J      I1   65.8   58.0  18531  10.23  10.16   \n",
       "33161   0.72    Premium     J      I1   62.9   59.0    945   5.80   5.63   \n",
       "35563   0.70       Fair     J      I1   64.7   59.0   1066   5.59   5.50   \n",
       "38677   0.85       Fair     J      I1   65.5   59.0   1334   5.95   5.82   \n",
       "41235   1.00    Premium     J      I1   58.3   58.0   1681   6.61   6.51   \n",
       "42213   1.00       Fair     J      I1   65.0   59.0   1784   6.27   6.17   \n",
       "43329   0.99       Fair     J      I1   62.9   58.0   1901   6.33   6.10   \n",
       "43678   0.91       Good     J      I1   63.1   57.0   1945   6.06   6.12   \n",
       "44427   0.91  Very Good     J      I1   63.1   57.0   2048   6.12   6.06   \n",
       "45361   0.95    Premium     J      I1   61.7   59.0   2195   6.32   6.26   \n",
       "46222   0.95       Fair     J      I1   64.9   56.0   2322   6.17   6.12   \n",
       "46628   0.97      Ideal     J      I1   61.6   54.0   2370   6.34   6.28   \n",
       "46784   1.03    Premium     J      I1   62.8   55.0   2392   6.43   6.41   \n",
       "47394   1.01    Premium     J      I1   60.7   59.0   2488   6.39   6.42   \n",
       "48115   1.01    Premium     J      I1   60.7   59.0   2602   6.42   6.39   \n",
       "48671   1.05  Very Good     J      I1   59.6   63.0   2705   6.61   6.55   \n",
       "\n",
       "          z  n_cut  n_color  n_clarity  \n",
       "162    4.13      2        0          0  \n",
       "484    4.13      3        0          0  \n",
       "1115   4.26      2        0          0  \n",
       "1385   4.26      3        0          0  \n",
       "1461   4.27      0        0          0  \n",
       "7008   4.75      0        0          0  \n",
       "8044   4.50      1        0          0  \n",
       "8545   4.60      2        0          0  \n",
       "10521  4.97      3        0          0  \n",
       "10835  4.59      2        0          0  \n",
       "11011  4.66      2        0          0  \n",
       "11081  4.95      3        0          0  \n",
       "11241  4.98      0        0          0  \n",
       "11363  4.66      3        0          0  \n",
       "11746  5.36      0        0          0  \n",
       "11854  5.23      0        0          0  \n",
       "12436  5.36      0        0          0  \n",
       "12775  5.43      0        0          0  \n",
       "13109  5.04      0        0          0  \n",
       "14187  5.45      0        0          0  \n",
       "14750  5.02      1        0          0  \n",
       "15408  5.23      0        0          0  \n",
       "15562  5.76      0        0          0  \n",
       "18531  5.65      0        0          0  \n",
       "20312  5.47      2        0          0  \n",
       "20468  5.47      3        0          0  \n",
       "23578  6.24      3        0          0  \n",
       "24239  5.86      4        0          0  \n",
       "24851  6.98      0        0          0  \n",
       "25047  6.72      0        0          0  \n",
       "33161  3.58      3        0          0  \n",
       "35563  3.59      0        0          0  \n",
       "38677  3.86      0        0          0  \n",
       "41235  3.82      3        0          0  \n",
       "42213  4.05      0        0          0  \n",
       "43329  3.91      0        0          0  \n",
       "43678  3.84      1        0          0  \n",
       "44427  3.84      2        0          0  \n",
       "45361  3.88      3        0          0  \n",
       "46222  3.99      0        0          0  \n",
       "46628  3.89      4        0          0  \n",
       "46784  4.03      3        0          0  \n",
       "47394  3.89      3        0          0  \n",
       "48115  3.89      3        0          0  \n",
       "48671  3.92      2        0          0  "
      ]
     },
     "execution_count": 113,
     "metadata": {},
     "output_type": "execute_result"
    }
   ],
   "source": [
    "diamonds.loc[color_mask['bad'] & clarity_mask['bad']]"
   ]
  },
  {
   "cell_type": "code",
   "execution_count": 122,
   "metadata": {},
   "outputs": [],
   "source": [
    "# Define X with color and clarity masks\n",
    "i = 0\n",
    "x_color_clarity_dict = {}\n",
    "\n",
    "for value in color_mask.values():\n",
    "        for value_1 in clarity_mask.values():\n",
    "            x_color_clarity_dict[i] = diamonds.loc[(value) & (value_1), column_list_2]\n",
    "            i += 1"
   ]
  },
  {
   "cell_type": "code",
   "execution_count": 123,
   "metadata": {},
   "outputs": [],
   "source": [
    "# Define Y with color and clarity masks\n",
    "i = 0\n",
    "y_color_clarity_dict = {}\n",
    "\n",
    "for value in color_mask.values():\n",
    "        for value_1 in clarity_mask.values():\n",
    "            y_color_clarity_dict[i] = diamonds.loc[(value) & (value_1), 'price']\n",
    "            i += 1"
   ]
  },
  {
   "cell_type": "code",
   "execution_count": 121,
   "metadata": {},
   "outputs": [],
   "source": [
    "# Instanciate one model per bin\n",
    "model_color_clarity_dict = {}\n",
    "for i in range(16):\n",
    "    model_color_clarity_dict[i] = LinearRegression()"
   ]
  },
  {
   "cell_type": "code",
   "execution_count": 125,
   "metadata": {},
   "outputs": [],
   "source": [
    "# Train models\n",
    "for i in range(16):\n",
    "    model_color_clarity_dict[i].fit(x_color_clarity_dict[i], y_color_clarity_dict[i])"
   ]
  },
  {
   "cell_type": "code",
   "execution_count": 128,
   "metadata": {},
   "outputs": [
    {
     "name": "stdout",
     "output_type": "stream",
     "text": [
      "0.9438043291613125\n",
      "0.9679120718495472\n",
      "0.9745483866593148\n",
      "0.9847455099845572\n",
      "0.9235832925960183\n",
      "0.9342222789068465\n",
      "0.9661113428828577\n",
      "0.9753390435736924\n",
      "0.9317388417059873\n",
      "0.9358545584181419\n",
      "0.9602589315731548\n",
      "0.9719735645986186\n",
      "0.9380545377227898\n",
      "0.9498346745669919\n",
      "0.9689567018638401\n",
      "0.931355805216646\n"
     ]
    }
   ],
   "source": [
    "# Check individual scores\n",
    "for i in range(len(model_color_clarity_dict)):\n",
    "    print(model_color_clarity_dict[i].score(x_color_clarity_dict[i], y_color_clarity_dict[i]))\n"
   ]
  },
  {
   "cell_type": "code",
   "execution_count": 130,
   "metadata": {},
   "outputs": [],
   "source": [
    "# Make predictions\n",
    "y_pred_color_clarity_dict = {}\n",
    "for i in range(len(model_color_clarity_dict)):\n",
    "    y_pred_color_clarity_dict[i] = model_color_clarity_dict[i].predict(x_color_clarity_dict[i])"
   ]
  },
  {
   "cell_type": "code",
   "execution_count": 131,
   "metadata": {},
   "outputs": [
    {
     "name": "stdout",
     "output_type": "stream",
     "text": [
      "1021.8181806480857\n",
      "766.7132958318206\n",
      "725.8827510809731\n",
      "549.0669390648853\n",
      "767.2113764967204\n",
      "1183.2511121626778\n",
      "817.3810082347871\n",
      "459.78132044724185\n",
      "643.039149645648\n",
      "970.8007215557697\n",
      "806.5697932952248\n",
      "643.7266584909012\n",
      "635.4144230806774\n",
      "741.856821262949\n",
      "557.5136937062714\n",
      "992.2160790568075\n"
     ]
    }
   ],
   "source": [
    "# Check individual RMSE's\n",
    "for i in range(len(model_color_clarity_dict)):\n",
    "    print(np.sqrt(mean_squared_error(y_color_clarity_dict[i], y_pred_color_clarity_dict[i])))"
   ]
  },
  {
   "cell_type": "code",
   "execution_count": null,
   "metadata": {},
   "outputs": [],
   "source": [
    "color_bad = diamonds['n_color'] == 0\n",
    "color_med = diamonds['n_color'].between(1,2)\n",
    "color_good = diamonds['n_color'].between(3,4)\n",
    "color_nice = diamonds['n_color'].between(5,6)\n",
    "\n",
    "clarity_bad = diamonds['n_clarity'] == 0\n",
    "clarity_med = diamonds['n_clarity'].between(1,2)\n",
    "clarity_good = diamonds['n_clarity'].between(3,4)\n",
    "clarity_nice = diamonds['n_clarity'].between(5,7)"
   ]
  },
  {
   "cell_type": "code",
   "execution_count": 135,
   "metadata": {},
   "outputs": [],
   "source": [
    "# Define funtion to verify which category each line fits into\n",
    "def verify_model_3(row,models):\n",
    "    if row['n_color'] == 0 and row['n_clarity'] == 0:\n",
    "        return models[0].predict(pd.DataFrame(row[column_list_2]).T)[0]\n",
    "    elif row['n_color'] == 0 and row['n_clarity'] in [1,2]:\n",
    "        return models[1].predict(pd.DataFrame(row[column_list_2]).T)[0]\n",
    "    elif row['n_color'] == 0 and row['n_clarity'] in [3,4]:\n",
    "        return models[2].predict(pd.DataFrame(row[column_list_2]).T)[0]\n",
    "    elif row['n_color'] == 0 and row['n_clarity'] in [5,6,7]:\n",
    "        return models[3].predict(pd.DataFrame(row[column_list_2]).T)[0]\n",
    "    elif row['n_color'] in [1,2] and row['n_clarity'] == 0:\n",
    "        return models[4].predict(pd.DataFrame(row[column_list_2]).T)[0]\n",
    "    elif row['n_color'] in [1,2] and row['n_clarity'] in [1,2]:\n",
    "        return models[5].predict(pd.DataFrame(row[column_list_2]).T)[0]\n",
    "    elif row['n_color'] in [1,2] and row['n_clarity'] in [3,4]:\n",
    "        return models[6].predict(pd.DataFrame(row[column_list_2]).T)[0]\n",
    "    elif row['n_color'] in [1,2] and row['n_clarity'] in [5,6,7]:\n",
    "        return models[7].predict(pd.DataFrame(row[column_list_2]).T)[0]\n",
    "    elif row['n_color'] in [3,4] and row['n_clarity'] == 0:\n",
    "        return models[8].predict(pd.DataFrame(row[column_list_2]).T)[0]\n",
    "    elif row['n_color'] in [3,4] and row['n_clarity'] in [1,2]:\n",
    "        return models[9].predict(pd.DataFrame(row[column_list_2]).T)[0]\n",
    "    elif row['n_color'] in [3,4] and row['n_clarity'] in [3,4]:\n",
    "        return models[10].predict(pd.DataFrame(row[column_list_2]).T)[0]\n",
    "    elif row['n_color'] in [3,4] and row['n_clarity'] in [5,6,7]:\n",
    "        return models[11].predict(pd.DataFrame(row[column_list_2]).T)[0]\n",
    "    elif row['n_color'] in [5,6] and row['n_clarity'] == 0:\n",
    "        return models[12].predict(pd.DataFrame(row[column_list_2]).T)[0]\n",
    "    elif row['n_color'] in [5,6] and row['n_clarity'] in [1,2]:\n",
    "        return models[13].predict(pd.DataFrame(row[column_list_2]).T)[0]\n",
    "    elif row['n_color'] in [5,6] and row['n_clarity'] in [3,4]:\n",
    "        return models[14].predict(pd.DataFrame(row[column_list_2]).T)[0]\n",
    "    elif row['n_color'] in [5,6] and row['n_clarity'] in [5,6,7]:\n",
    "        return models[15].predict(pd.DataFrame(row[column_list_2]).T)[0]"
   ]
  },
  {
   "cell_type": "code",
   "execution_count": 136,
   "metadata": {},
   "outputs": [],
   "source": [
    "predict_3 = x.apply(verify_model_3, models = {0:model_color_clarity_dict[0],\n",
    "                                                1:model_color_clarity_dict[1],\n",
    "                                                2:model_color_clarity_dict[2],\n",
    "                                                3:model_color_clarity_dict[3],\n",
    "                                                4:model_color_clarity_dict[4],\n",
    "                                                5:model_color_clarity_dict[5],\n",
    "                                                6:model_color_clarity_dict[6],\n",
    "                                                7:model_color_clarity_dict[7],\n",
    "                                                8:model_color_clarity_dict[8],\n",
    "                                                9:model_color_clarity_dict[9],\n",
    "                                                10:model_color_clarity_dict[10],\n",
    "                                                11:model_color_clarity_dict[11],\n",
    "                                                12:model_color_clarity_dict[12],\n",
    "                                                13:model_color_clarity_dict[13],\n",
    "                                                14:model_color_clarity_dict[14],\n",
    "                                                15:model_color_clarity_dict[15]\n",
    "                                            }, axis=1)"
   ]
  },
  {
   "cell_type": "code",
   "execution_count": 137,
   "metadata": {},
   "outputs": [
    {
     "data": {
      "text/plain": [
       "0.9565758918287706"
      ]
     },
     "execution_count": 137,
     "metadata": {},
     "output_type": "execute_result"
    }
   ],
   "source": [
    "r2_score(y, predict_3)"
   ]
  },
  {
   "cell_type": "code",
   "execution_count": 138,
   "metadata": {},
   "outputs": [
    {
     "data": {
      "text/plain": [
       "831.3069283448245"
      ]
     },
     "execution_count": 138,
     "metadata": {},
     "output_type": "execute_result"
    }
   ],
   "source": [
    "np.sqrt(mean_squared_error(y, predict_3))"
   ]
  },
  {
   "cell_type": "markdown",
   "metadata": {},
   "source": [
    "## Model #4 Result - RMSE: 831,3070"
   ]
  }
 ],
 "metadata": {
  "kernelspec": {
   "display_name": "Python 3.9.12 ('base')",
   "language": "python",
   "name": "python3"
  },
  "language_info": {
   "codemirror_mode": {
    "name": "ipython",
    "version": 3
   },
   "file_extension": ".py",
   "mimetype": "text/x-python",
   "name": "python",
   "nbconvert_exporter": "python",
   "pygments_lexer": "ipython3",
   "version": "3.9.12"
  },
  "orig_nbformat": 4,
  "vscode": {
   "interpreter": {
    "hash": "2d90c038637108ac29aff4d22cdf99e3e2599f922ccc5532827d676edf9e0ab0"
   }
  }
 },
 "nbformat": 4,
 "nbformat_minor": 2
}
